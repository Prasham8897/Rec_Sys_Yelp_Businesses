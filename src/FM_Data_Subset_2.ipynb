{
  "nbformat": 4,
  "nbformat_minor": 0,
  "metadata": {
    "colab": {
      "name": "FM Data Subset 2 .ipynb",
      "provenance": [],
      "collapsed_sections": []
    },
    "kernelspec": {
      "name": "python3",
      "display_name": "Python 3"
    }
  },
  "cells": [
    {
      "cell_type": "markdown",
      "metadata": {
        "id": "XKgiOCI4u9WC",
        "colab_type": "text"
      },
      "source": [
        "## Installing Packages"
      ]
    },
    {
      "cell_type": "code",
      "metadata": {
        "id": "Em0r7_62BhTg",
        "colab_type": "code",
        "outputId": "c90c91a0-1b95-4987-9f32-f8bbdddadca3",
        "colab": {
          "base_uri": "https://localhost:8080/",
          "height": 35
        }
      },
      "source": [
        "from google.colab import drive\n",
        "drive.mount('/content/drive/', force_remount=True)"
      ],
      "execution_count": 1,
      "outputs": [
        {
          "output_type": "stream",
          "text": [
            "Mounted at /content/drive/\n"
          ],
          "name": "stdout"
        }
      ]
    },
    {
      "cell_type": "code",
      "metadata": {
        "id": "mjz_6ormBj_c",
        "colab_type": "code",
        "colab": {}
      },
      "source": [
        "#!pip install git+https://github.com/coreylynch/pyFM\n",
        "import numpy as np\n",
        "import pandas as pd\n",
        "from datetime import datetime\n",
        "import json\n",
        "from tqdm import tqdm\n",
        "from sklearn.preprocessing import MultiLabelBinarizer\n",
        "import itertools\n",
        "import scipy as sp\n",
        "from sklearn.feature_extraction import DictVectorizer\n",
        "from pyfm import pylibfm\n",
        "from sklearn.preprocessing import normalize\n",
        "from scipy import sparse\n",
        "from sklearn.metrics import mean_squared_error\n",
        "import math\n",
        "import matplotlib.pyplot as plt"
      ],
      "execution_count": 0,
      "outputs": []
    },
    {
      "cell_type": "markdown",
      "metadata": {
        "id": "70RrlAxFvDNb",
        "colab_type": "text"
      },
      "source": [
        "## Data Loading and Preparation"
      ]
    },
    {
      "cell_type": "code",
      "metadata": {
        "id": "GDs2g1TWBlBG",
        "colab_type": "code",
        "outputId": "2e98b170-84fc-40d8-99d4-aeddb88549f7",
        "colab": {
          "base_uri": "https://localhost:8080/",
          "height": 52
        }
      },
      "source": [
        "user = pd.read_csv(\"/content/drive/My Drive/yelp_dataset/user1.csv\")"
      ],
      "execution_count": 3,
      "outputs": [
        {
          "output_type": "stream",
          "text": [
            "/usr/local/lib/python3.6/dist-packages/IPython/core/interactiveshell.py:2718: DtypeWarning: Columns (9) have mixed types. Specify dtype option on import or set low_memory=False.\n",
            "  interactivity=interactivity, compiler=compiler, result=result)\n"
          ],
          "name": "stderr"
        }
      ]
    },
    {
      "cell_type": "code",
      "metadata": {
        "id": "kcQjbQQdB6b8",
        "colab_type": "code",
        "colab": {}
      },
      "source": [
        "user = user.iloc[:,1:]\n",
        "list_rmse = []"
      ],
      "execution_count": 0,
      "outputs": []
    },
    {
      "cell_type": "code",
      "metadata": {
        "id": "2rCf62qAcFTL",
        "colab_type": "code",
        "colab": {}
      },
      "source": [
        "data2= pd.read_csv(\"/content/drive/My Drive/dataP.csv\")\n",
        "data1 = data2.copy()\n",
        "\n",
        "mask_restaurants = data1['categories'].str.contains('Restaurants')\n",
        "mask_food = data1['categories'].str.contains('Food')\n",
        "restaurants_and_food = data1[mask_restaurants & mask_food]\n",
        "restaurants_and_food_business_ids = restaurants_and_food.business_id.to_list()\n",
        "data1['isRestaurant'] = data1.business_id.isin(restaurants_and_food_business_ids).astype(int)\n",
        "data1 = data1[data1.loc[:,'isRestaurant'] == 1]\n",
        "data1 = data1.iloc[:,:36]"
      ],
      "execution_count": 0,
      "outputs": []
    },
    {
      "cell_type": "markdown",
      "metadata": {
        "id": "PyxCoqkWvMW2",
        "colab_type": "text"
      },
      "source": [
        "## Defining a function for Factorization machine with no embeddings"
      ]
    },
    {
      "cell_type": "code",
      "metadata": {
        "id": "3CZIl3bvfVNP",
        "colab_type": "code",
        "colab": {}
      },
      "source": [
        "def FM_NE(data1):  \n",
        "  #Clean data\n",
        "  merged = data1\n",
        "  merged = merged.drop(columns=['address',\n",
        "                                'state', \n",
        "                                'postal_code', \n",
        "                                'hours'])\n",
        "\n",
        "  data3 = merged\n",
        "\n",
        "  data3 = data3.drop(columns=['name',\n",
        "  'city',\n",
        "  'yelping_since'])\n",
        "  data3.rename(columns = {'rating_x':'rating'}, inplace = True) \n",
        "  \n",
        "  #Splitting test and train. Test set comprises of the users and the restaurants that the user rated last.\n",
        "  data_test = data3[data3.groupby('user_id')['date'].transform('max') == data3['date']]\n",
        "  data_train = pd.concat([data3, data_test]).drop_duplicates(keep=False)\n",
        "\n",
        "  \n",
        "  #Preparing data for the FM model\n",
        "  y_train = np.squeeze(data_train[['rating']].to_numpy())\n",
        "  y_test =  np.squeeze(data_test[['rating']].to_numpy())\n",
        "\n",
        "\n",
        "  x_train = data_train\n",
        "  x_train = x_train.drop(columns=['date','attributes','categories','yrs_elite','rating'])\n",
        "  x_train_final = x_train.to_dict('records')\n",
        "\n",
        "\n",
        "  x_test = data_test\n",
        "  x_test = x_test.drop(columns=['date','attributes','categories','yrs_elite','rating'])\n",
        "  x_test_final = x_test.to_dict('records')\n",
        "\n",
        "  v = DictVectorizer()\n",
        "  X_train = v.fit_transform(x_train_final)\n",
        "  X_test = v.transform(x_test_final)\n",
        "\n",
        "  #Fitting the model and predicting\n",
        "  fm = pylibfm.FM(num_iter=10, task=\"regression\", learning_rate_schedule=\"optimal\")\n",
        "  fm.fit(normalize(sparse.csr_matrix(X_train)), y_train)\n",
        "\n",
        "  #Calculating the RMSE value\n",
        "  prediction = fm.predict(normalize(sparse.csr_matrix(X_test)))\n",
        "  list_rmse.append(mean_squared_error(y_test,preds))\n",
        "  print(\"FM MSE: %.4f\" % mean_squared_error(y_test,prediction))"
      ],
      "execution_count": 0,
      "outputs": []
    },
    {
      "cell_type": "markdown",
      "metadata": {
        "id": "G2V9cN12vTr0",
        "colab_type": "text"
      },
      "source": [
        "## Defining a function for Factorization machine with categories as embeddings"
      ]
    },
    {
      "cell_type": "code",
      "metadata": {
        "id": "jmjZz9OAc0R7",
        "colab_type": "code",
        "colab": {}
      },
      "source": [
        "def FM_E(data2):\n",
        "  \n",
        "  #Category Embedding\n",
        "  temp = data2.copy()\n",
        "  temp['categories'] = temp['categories'].apply(lambda x : x.split(\",\"))\n",
        "  cat_list = list(temp['categories'])\n",
        "  mlb = MultiLabelBinarizer()\n",
        "  temp1 = mlb.fit_transform(cat_list)\n",
        "  names = mlb.classes_\n",
        "  cat_df = pd.DataFrame(temp1,columns=names)\n",
        "  merged_2 = pd.concat([data2.reset_index(),cat_df],axis=1)\n",
        "\n",
        "  merged_2 = merged_2.drop(columns=['address',\n",
        "                                'state', \n",
        "                                'postal_code', \n",
        "                                'hours'])\n",
        "  data3 = merged_2.copy()\n",
        "  data3 = data3.drop(columns=['Unnamed: 0',\n",
        "                              'index',\n",
        "  'name',\n",
        "  'city',\n",
        "  'yelping_since'])\n",
        "  data3.rename(columns = {'rating_x':'rating'}, inplace = True) \n",
        "\n",
        "  #Splitting test and train. Test set comprises of the users and the restaurants that the user rated last.\n",
        "  data_test = data3[data3.groupby('user_id')['date'].transform('max') == data3['date']]\n",
        "  data_train = pd.concat([data3, data_test]).drop_duplicates(keep=False)\n",
        "\n",
        "  list3 = data_train['user_id'].unique().tolist()\n",
        "  data_test['isActive'] = data_test.user_id.isin(list3).astype(int)\n",
        "  data_test = data_test[data_test.loc[:,'isActive'] == 1]\n",
        "  data_test = data_test.iloc[:,:434]\n",
        "\n",
        "  list3 = data_train['user_id'].unique().tolist()\n",
        "  data_test['isActive'] = data_test.user_id.isin(list3).astype(int)\n",
        "  data_test = data_test[data_test.loc[:,'isActive'] == 1]\n",
        "  data_test = data_test.iloc[:,:434]\n",
        "\n",
        "  #Preparing data for the FM model\n",
        "  y_train = np.squeeze(data_train[['rating']].to_numpy())\n",
        "  y_test =  np.squeeze(data_test[['rating']].to_numpy())\n",
        "\n",
        "  x_train = data_train.iloc[:,:28]\n",
        "  x_train = x_train.drop(columns=['date','attributes','categories','yrs_elite','rating'])\n",
        "  x_train_final = x_train.to_dict('records')\n",
        "\n",
        "\n",
        "  x_train_rem  = data_train.iloc[:,28:]\n",
        "  x_train_rem_final = x_train_rem.to_numpy()\n",
        "  x_train_rem_final = sp.sparse.csr_matrix(x_train_rem_final)\n",
        "\n",
        "\n",
        "  x_test = data_test.iloc[:,:28]\n",
        "  x_test = x_test.drop(columns=['date','attributes','categories','yrs_elite','rating'])\n",
        "  x_test_final = x_test.to_dict('records')\n",
        "\n",
        "\n",
        "  x_test_rem  = data_test.iloc[:,28:]\n",
        "  x_test_rem_final = x_test_rem.to_numpy()\n",
        "  x_test_rem_final = sp.sparse.csr_matrix(x_test_rem)\n",
        "\n",
        "  v = DictVectorizer()\n",
        "  X_train = v.fit_transform(x_train_final)\n",
        "  X_test = v.transform(x_test_final)\n",
        "\n",
        "  X_train_final = sp.sparse.hstack([X_train, x_train_rem_final])\n",
        "  X_test_final = sp.sparse.hstack([X_test, x_test_rem_final])\n",
        "\n",
        "  #Fitting the model and predicting\n",
        "  fm = pylibfm.FM(num_iter=10, task=\"regression\", learning_rate_schedule=\"optimal\")\n",
        "  fm.fit(normalize(sparse.csr_matrix(X_train_final)), y_train)\n",
        "\n",
        "  #Calculating the RMSE value\n",
        "  prediction = fm.predict(normalize(sparse.csr_matrix(X_test_final)))\n",
        "  list_rmse.append(mean_squared_error(y_test,preds))\n",
        "  print(\"FM MSE: %.4f\" % mean_squared_error(y_test,prediction))"
      ],
      "execution_count": 0,
      "outputs": []
    },
    {
      "cell_type": "markdown",
      "metadata": {
        "id": "MCpgEg_ge5iy",
        "colab_type": "text"
      },
      "source": [
        "## With Category as Embeddings "
      ]
    },
    {
      "cell_type": "code",
      "metadata": {
        "id": "8KV4HLDVdzOv",
        "colab_type": "code",
        "colab": {
          "base_uri": "https://localhost:8080/",
          "height": 497
        },
        "outputId": "5ba655d7-0c77-4319-f8d8-8df3034ddc6b"
      },
      "source": [
        "FM_E(data1)"
      ],
      "execution_count": 8,
      "outputs": [
        {
          "output_type": "stream",
          "text": [
            "/usr/local/lib/python3.6/dist-packages/ipykernel_launcher.py:27: SettingWithCopyWarning: \n",
            "A value is trying to be set on a copy of a slice from a DataFrame.\n",
            "Try using .loc[row_indexer,col_indexer] = value instead\n",
            "\n",
            "See the caveats in the documentation: http://pandas.pydata.org/pandas-docs/stable/user_guide/indexing.html#returning-a-view-versus-a-copy\n"
          ],
          "name": "stderr"
        },
        {
          "output_type": "stream",
          "text": [
            "Creating validation dataset of 0.01 of training for adaptive regularization\n",
            "-- Epoch 1\n",
            "Training MSE: 0.69285\n",
            "-- Epoch 2\n",
            "Training MSE: 0.69959\n",
            "-- Epoch 3\n",
            "Training MSE: 0.69858\n",
            "-- Epoch 4\n",
            "Training MSE: 0.70019\n",
            "-- Epoch 5\n",
            "Training MSE: 0.69929\n",
            "-- Epoch 6\n",
            "Training MSE: 0.69940\n",
            "-- Epoch 7\n",
            "Training MSE: 0.69976\n",
            "-- Epoch 8\n",
            "Training MSE: 0.69998\n",
            "-- Epoch 9\n",
            "Training MSE: 0.69976\n",
            "-- Epoch 10\n",
            "Training MSE: 0.69960\n",
            "FM MSE: 1.6975\n"
          ],
          "name": "stdout"
        }
      ]
    },
    {
      "cell_type": "markdown",
      "metadata": {
        "id": "TiBx7AoEfuHB",
        "colab_type": "text"
      },
      "source": [
        "## Without Category as embeddings "
      ]
    },
    {
      "cell_type": "code",
      "metadata": {
        "id": "PSrjkFw0pzH0",
        "colab_type": "code",
        "colab": {
          "base_uri": "https://localhost:8080/",
          "height": 408
        },
        "outputId": "dd2bdb56-bd3a-41f3-9eb7-01596767de7f"
      },
      "source": [
        "FM_NE(data2)"
      ],
      "execution_count": 9,
      "outputs": [
        {
          "output_type": "stream",
          "text": [
            "Creating validation dataset of 0.01 of training for adaptive regularization\n",
            "-- Epoch 1\n",
            "Training MSE: 0.77708\n",
            "-- Epoch 2\n",
            "Training MSE: 0.77444\n",
            "-- Epoch 3\n",
            "Training MSE: 0.77236\n",
            "-- Epoch 4\n",
            "Training MSE: 0.77156\n",
            "-- Epoch 5\n",
            "Training MSE: 0.77153\n",
            "-- Epoch 6\n",
            "Training MSE: 0.77081\n",
            "-- Epoch 7\n",
            "Training MSE: 0.77101\n",
            "-- Epoch 8\n",
            "Training MSE: 0.77090\n",
            "-- Epoch 9\n",
            "Training MSE: 0.77082\n",
            "-- Epoch 10\n",
            "Training MSE: 0.77079\n",
            "FM MSE: 1.9171\n"
          ],
          "name": "stdout"
        }
      ]
    },
    {
      "cell_type": "markdown",
      "metadata": {
        "id": "qJTsF2Kfwivr",
        "colab_type": "text"
      },
      "source": [
        "## Plot for Model Type vs RMSE"
      ]
    },
    {
      "cell_type": "code",
      "metadata": {
        "id": "bZerUMPRiDgP",
        "colab_type": "code",
        "colab": {}
      },
      "source": [
        "names = [\"Category Embeddings\", \"No embeddings\", \"Baseline-ALS\", \"Baseline-Surprise\"]\n",
        "for i in range(len(list_rmse)):\n",
        "  list_rmse[i] = math.sqrt(list_rmse[i])\n",
        "type_1 = [\"Sample2\",\"Sample2\", \"Sample2\", \"Sample2\"]\n",
        "list_rmse.append(1.440)\n",
        "list_rmse.append(1.382)"
      ],
      "execution_count": 0,
      "outputs": []
    },
    {
      "cell_type": "code",
      "metadata": {
        "id": "iuGgh6mpiGK1",
        "colab_type": "code",
        "colab": {}
      },
      "source": [
        "df = pd.DataFrame(list(zip(names, list_rmse, type_1)), \n",
        "               columns =['Model type', 'RMSE', 'Sample Type'])"
      ],
      "execution_count": 0,
      "outputs": []
    },
    {
      "cell_type": "code",
      "metadata": {
        "id": "38V0-NKmlOxE",
        "colab_type": "code",
        "colab": {
          "base_uri": "https://localhost:8080/",
          "height": 388
        },
        "outputId": "6389ba8e-7b62-411f-f69e-76b0a3f9e837"
      },
      "source": [
        "plt.bar(df['Model type'], df['RMSE'], align='center', alpha=0.5)\n",
        "plt.xlabel('Model Type')\n",
        "plt.ylabel('RMSE')\n",
        "plt.ylim((1.0,1.5))\n",
        "plt.xticks(rotation=45)\n",
        "plt.title('Model Type vs RMSE')"
      ],
      "execution_count": 17,
      "outputs": [
        {
          "output_type": "execute_result",
          "data": {
            "text/plain": [
              "Text(0.5, 1.0, 'Model Type vs RMSE')"
            ]
          },
          "metadata": {
            "tags": []
          },
          "execution_count": 17
        },
        {
          "output_type": "display_data",
          "data": {
            "image/png": "[encoded data removed]",
            "text/plain": [
              "<Figure size 432x288 with 1 Axes>"
            ]
          },
          "metadata": {
            "tags": []
          }
        }
      ]
    }
  ]
}
