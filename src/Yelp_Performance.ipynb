{
 "cells": [
  {
   "cell_type": "code",
   "execution_count": 0,
   "metadata": {
    "colab": {
     "base_uri": "https://localhost:8080/",
     "height": 121
    },
    "colab_type": "code",
    "id": "65tzfCnlRR2f",
    "outputId": "1f07d28f-92cf-4d13-d183-27d128522fd2"
   },
   "outputs": [
    {
     "name": "stdout",
     "output_type": "stream",
     "text": [
      "Go to this URL in a browser: https://accounts.google.com/o/oauth2/auth?client_id=947318989803-6bn6qk8qdgf4n4g3pfee6491hc0brc4i.apps.googleusercontent.com&redirect_uri=urn%3aietf%3awg%3aoauth%3a2.0%3aoob&response_type=code&scope=email%20https%3a%2f%2fwww.googleapis.com%2fauth%2fdocs.test%20https%3a%2f%2fwww.googleapis.com%2fauth%2fdrive%20https%3a%2f%2fwww.googleapis.com%2fauth%2fdrive.photos.readonly%20https%3a%2f%2fwww.googleapis.com%2fauth%2fpeopleapi.readonly\n",
      "\n",
      "Enter your authorization code:\n",
      "··········\n",
      "Mounted at /content/drive/\n"
     ]
    }
   ],
   "source": [
    "from google.colab import drive\n",
    "drive.mount('/content/drive/', force_remount=True)\n"
   ]
  },
  {
   "cell_type": "code",
   "execution_count": 0,
   "metadata": {
    "colab": {},
    "colab_type": "code",
    "id": "OU5wMRxaRZMi"
   },
   "outputs": [],
   "source": [
    "import pandas as pd"
   ]
  },
  {
   "cell_type": "code",
   "execution_count": 0,
   "metadata": {
    "colab": {},
    "colab_type": "code",
    "id": "zTGo7D5ERkPY"
   },
   "outputs": [],
   "source": [
    "path_data = \"/content/drive/My Drive/Datasets/\""
   ]
  },
  {
   "cell_type": "code",
   "execution_count": 0,
   "metadata": {
    "colab": {},
    "colab_type": "code",
    "id": "2PF5V2AiXiO0"
   },
   "outputs": [],
   "source": [
    "results_with = pd.read_csv(path_data + \"predictions_with_embeddings\")\n",
    "results_without = pd.read_csv(path_data + \"predictions_without_embeddings\")\n",
    "all_embeddings = pd.read_csv(path_data + \"all_embs_values.csv\")\n",
    "avg_embeddings = pd.read_csv(path_data + \"avg_embs_values.csv\")\n",
    "ensemble_image = pd.read_csv(path_data + \"ensemble_values.csv\")"
   ]
  },
  {
   "cell_type": "code",
   "execution_count": 0,
   "metadata": {
    "colab": {},
    "colab_type": "code",
    "id": "Yya7RDNVQujB"
   },
   "outputs": [],
   "source": [
    "def cnf_matrix(tdf,col1,col2):\n",
    "  TP=0\n",
    "  FP=0\n",
    "  TN=0\n",
    "  FN=0\n",
    "\n",
    "  for index, row in tdf.iterrows():\n",
    "    if row[col1]>2.5:\n",
    "      if row[col2]>2.5:\n",
    "        TP=TP+1\n",
    "      else:\n",
    "        FN=FN+1\n",
    "    \n",
    "    else:\n",
    "      if row[col2]<2.5:\n",
    "        TN=TN+1\n",
    "      else:\n",
    "        FP=FP+1\n",
    "\n",
    "  precision = TP/(TP+FP)\n",
    "  recall = TP/(TP+FN)\n",
    "  \n",
    "  return precision,recall"
   ]
  },
  {
   "cell_type": "code",
   "execution_count": 0,
   "metadata": {
    "colab": {
     "base_uri": "https://localhost:8080/",
     "height": 420
    },
    "colab_type": "code",
    "id": "OP_AgGXiR14w",
    "outputId": "f03014bf-e0c7-4126-ee4f-83ea21955aec",
    "scrolled": true
   },
   "outputs": [
    {
     "name": "stdout",
     "output_type": "stream",
     "text": [
      "On subset without embeddings\n",
      "-------------------------------------------------------------------------------------------------------------------------\n",
      "For ALS Precision = 0.8637058164408679 Recall = 0.941797178718205\n",
      "For review based Precision = 0.8300514995455922 Recall = 0.9130289903365545\n",
      "For factorization machine Precision = 0.8168209036472509 Recall = 1.0\n",
      "For ALS + FM Precision = 0.8670382987509033 Recall = 0.9329112518049539\n",
      "For ALS + Review based Precision = 0.8661044837515426 Recall = 0.9354659557925136\n",
      "For FM + Review based Precision = 0.8168209036472509 Recall = 1.0\n",
      "For ALS + Review Based + FM Precision = 0.8664059283655825 Recall = 0.935021659446851\n",
      "\n",
      "On subset with embeddings\n",
      "-------------------------------------------------------------------------------------------------------------------------\n",
      "For ALS Precision = 0.8607359105728924 Recall = 0.9515962924819773\n",
      "For review based Precision = 0.8102475032566218 Recall = 0.96086508753862\n",
      "For factorization machine Precision = 0.800164812525752 Recall = 1.0\n",
      "For ALS + FM Precision = 0.8611500701262272 Recall = 0.9485066941297632\n",
      "For FM + Review based Precision = 0.8004946413849959 Recall = 1.0\n",
      "For ALS + Review Based + FM Precision = 0.8612933458294283 Recall = 0.9464469618949537\n",
      "\n",
      "For Image based models\n",
      "-------------------------------------------------------------------------------------------------------------------------\n",
      "Model with all embeddings for each businessPrecision = 0.8194973343488196 Recall = 0.9291882556131261\n",
      "Model with average embedding for each business Precision = 0.8177057356608479 Recall = 0.9438687392055267\n",
      "Ensemble of ALS and image based modelPrecision = 0.7964071856287425 Recall = 0.998844598497978\n"
     ]
    }
   ],
   "source": [
    "print(\"On subset without embeddings\")\n",
    "print(\"-------------------------------------------------------------------------------------------------------------------------\")\n",
    "precision,recall = cnf_matrix(results_without,\"true ratings_wo\",\"ALS_wo\")\n",
    "print(\"For ALS \" + \"Precision = \" + str(precision) + \" Recall = \" + str(recall))\n",
    "precision,recall = cnf_matrix(results_without,\"true ratings_wo\",\"reviews_wo\")\n",
    "print(\"For review based \" + \"Precision = \" + str(precision) + \" Recall = \" + str(recall))\n",
    "precision,recall = cnf_matrix(results_without,\"true ratings_wo\",\"fm_wo\")\n",
    "print(\"For factorization machine \" + \"Precision = \" + str(precision) + \" Recall = \" + str(recall))\n",
    "precision,recall = cnf_matrix(results_without,\"true ratings_wo\",\"als_fm\")\n",
    "print(\"For ALS + FM \" + \"Precision = \" + str(precision) + \" Recall = \" + str(recall))\n",
    "precision,recall = cnf_matrix(results_without,\"true ratings_wo\",\"als_review\")\n",
    "print(\"For ALS + Review based \" + \"Precision = \" + str(precision) + \" Recall = \" + str(recall))\n",
    "precision,recall = cnf_matrix(results_without,\"true ratings_wo\",\"review_fm\")\n",
    "print(\"For FM + Review based \" + \"Precision = \" + str(precision) + \" Recall = \" + str(recall))\n",
    "precision,recall = cnf_matrix(results_without,\"true ratings_wo\",\"als_review_fm\")\n",
    "print(\"For ALS + Review Based + FM \" + \"Precision = \" + str(precision) + \" Recall = \" + str(recall))\n",
    "\n",
    "\n",
    "print(\"\\nOn subset with embeddings\")\n",
    "print(\"-------------------------------------------------------------------------------------------------------------------------\")\n",
    "precision,recall = cnf_matrix(results_with,\"true ratings_w\",\"ALS_w\")\n",
    "print(\"For ALS \" + \"Precision = \" + str(precision) + \" Recall = \" + str(recall))\n",
    "precision,recall = cnf_matrix(results_with,\"true ratings_w\",\"reviews_w\")\n",
    "print(\"For review based \" + \"Precision = \" + str(precision) + \" Recall = \" + str(recall))\n",
    "precision,recall = cnf_matrix(results_with,\"true ratings_w\",\"fm_w\")\n",
    "print(\"For factorization machine \" + \"Precision = \" + str(precision) + \" Recall = \" + str(recall))\n",
    "precision,recall = cnf_matrix(results_with,\"true ratings_w\",\"als_fm\")\n",
    "print(\"For ALS + FM \" + \"Precision = \" + str(precision) + \" Recall = \" + str(recall))\n",
    "precision,recall = cnf_matrix(results_with,\"true ratings_w\",\"review_fm\")\n",
    "print(\"For FM + Review based \" + \"Precision = \" + str(precision) + \" Recall = \" + str(recall))\n",
    "precision,recall = cnf_matrix(results_with,\"true ratings_w\",\"als_review_fm\")\n",
    "print(\"For ALS + Review Based + FM \" + \"Precision = \" + str(precision) + \" Recall = \" + str(recall))\n",
    "\n",
    "print(\"\\nFor Image based models\")\n",
    "print(\"-------------------------------------------------------------------------------------------------------------------------\")\n",
    "precision,recall = cnf_matrix(all_embeddings,\"actual_rating\",\"predicted_rating\")\n",
    "print(\"Model with all embeddings for each business\" + \"Precision = \" + str(precision) + \" Recall = \" + str(recall))\n",
    "precision,recall = cnf_matrix(avg_embeddings,\"actual_rating\",\"predicted_rating\")\n",
    "print(\"Model with average embedding for each business \" + \"Precision = \" + str(precision) + \" Recall = \" + str(recall))\n",
    "precision,recall = cnf_matrix(ensemble_image,\"actual rating\",\"predicted rating\")\n",
    "print(\"Ensemble of ALS and image based model\" + \"Precision = \" + str(precision) + \" Recall = \" + str(recall))\n"
   ]
  },
  {
   "cell_type": "code",
   "execution_count": 0,
   "metadata": {
    "colab": {},
    "colab_type": "code",
    "id": "HwPuOqJGX4-M"
   },
   "outputs": [],
   "source": [
    "t"
   ]
  }
 ],
 "metadata": {
  "colab": {
   "collapsed_sections": [],
   "name": "Yelp_Performance.ipynb",
   "provenance": []
  },
  "kernelspec": {
   "display_name": "Python 3",
   "language": "python",
   "name": "python3"
  },
  "language_info": {
   "codemirror_mode": {
    "name": "ipython",
    "version": 3
   },
   "file_extension": ".py",
   "mimetype": "text/x-python",
   "name": "python",
   "nbconvert_exporter": "python",
   "pygments_lexer": "ipython3",
   "version": "3.6.8"
  }
 },
 "nbformat": 4,
 "nbformat_minor": 1
}
