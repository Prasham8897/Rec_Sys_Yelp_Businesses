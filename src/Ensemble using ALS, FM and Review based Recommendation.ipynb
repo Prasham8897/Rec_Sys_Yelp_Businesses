{
 "cells": [
  {
   "cell_type": "markdown",
   "metadata": {
    "colab_type": "text",
    "id": "_AK-1OvnnylB"
   },
   "source": [
    "# ENSEMBLE METHODS"
   ]
  },
  {
   "cell_type": "markdown",
   "metadata": {
    "colab_type": "text",
    "id": "q4ns-bKoBt5a"
   },
   "source": [
    "Loading predicted ratings using reviews only"
   ]
  },
  {
   "cell_type": "code",
   "execution_count": 0,
   "metadata": {
    "colab": {},
    "colab_type": "code",
    "id": "TPNO1hsZGsfq"
   },
   "outputs": [],
   "source": [
    "predictions_reviews = pd.read_csv(path_data + \"predictions_reviews.csv\")\n"
   ]
  },
  {
   "cell_type": "markdown",
   "metadata": {
    "colab_type": "text",
    "id": "aaPlXiPTEIfW"
   },
   "source": [
    "Loading predicted ratings using fm without embeddings"
   ]
  },
  {
   "cell_type": "code",
   "execution_count": 0,
   "metadata": {
    "colab": {},
    "colab_type": "code",
    "id": "iqHczHs4vTkL"
   },
   "outputs": [],
   "source": [
    "predictions_fm = pd.read_csv(path_data + \"Final_predictions_noE.csv\")"
   ]
  },
  {
   "cell_type": "code",
   "execution_count": 0,
   "metadata": {
    "colab": {},
    "colab_type": "code",
    "id": "jeOgmxoewVPY"
   },
   "outputs": [],
   "source": [
    "predictions_fm = predictions_fm[[\"user_id\",\"business_id\",\"rating\",\"predicted rating\"]]"
   ]
  },
  {
   "cell_type": "code",
   "execution_count": 0,
   "metadata": {
    "colab": {},
    "colab_type": "code",
    "id": "J2VSSr2Ww4bv"
   },
   "outputs": [],
   "source": [
    "predictions_fm.columns = [\"user_id\",\"business_id\",\"true_rating\",\"rating_fm\"]"
   ]
  },
  {
   "cell_type": "markdown",
   "metadata": {
    "colab_type": "text",
    "id": "Tgj2wcEeESzo"
   },
   "source": [
    "Loading predicted ratings using fm with embeddings"
   ]
  },
  {
   "cell_type": "code",
   "execution_count": 0,
   "metadata": {
    "colab": {},
    "colab_type": "code",
    "id": "jEFcV4y7ESzq"
   },
   "outputs": [],
   "source": [
    "predictions_fm_embeddings = pd.read_csv(path_data + \"Final_predictions_with_embeddings.csv\")"
   ]
  },
  {
   "cell_type": "code",
   "execution_count": 0,
   "metadata": {
    "colab": {},
    "colab_type": "code",
    "id": "cw-O6ZlGESzs"
   },
   "outputs": [],
   "source": [
    "predictions_fm_embeddings = predictions_fm_embeddings[[\"user_id\",\"business_id\",\"rating\",\"predicted rating\"]]"
   ]
  },
  {
   "cell_type": "code",
   "execution_count": 0,
   "metadata": {
    "colab": {},
    "colab_type": "code",
    "id": "_DT7QByVESzu"
   },
   "outputs": [],
   "source": [
    "predictions_fm_embeddings.columns = [\"user_id\",\"business_id\",\"true_rating\",\"rating_fm\"]"
   ]
  },
  {
   "cell_type": "markdown",
   "metadata": {
    "colab_type": "text",
    "id": "YtFcV534EdBX"
   },
   "source": [
    "Loading predicted ratings using fm ALS"
   ]
  },
  {
   "cell_type": "code",
   "execution_count": 0,
   "metadata": {
    "colab": {},
    "colab_type": "code",
    "id": "G76SZdA__YOr"
   },
   "outputs": [],
   "source": [
    "predictions_als = pd.read_csv(path_data + \"ALSPredictions1.csv\")"
   ]
  },
  {
   "cell_type": "code",
   "execution_count": 0,
   "metadata": {
    "colab": {},
    "colab_type": "code",
    "id": "THCOzC4S_YOx"
   },
   "outputs": [],
   "source": [
    "predictions_als = predictions_als[[\"user_id\",\"business_id\",\"rating\",\"prediction\"]]"
   ]
  },
  {
   "cell_type": "code",
   "execution_count": 0,
   "metadata": {
    "colab": {},
    "colab_type": "code",
    "id": "VuRvdYMy_YOz"
   },
   "outputs": [],
   "source": [
    "predictions_als.columns = [\"user_id\",\"business_id\",\"true_rating\",\"ratings_als\"]"
   ]
  },
  {
   "cell_type": "markdown",
   "metadata": {
    "colab_type": "text",
    "id": "5Y2m5RMqJmjW"
   },
   "source": [
    "Merged Predictions FM(Without the embeddings), the ones generatted from reviews and ALS\n"
   ]
  },
  {
   "cell_type": "code",
   "execution_count": 0,
   "metadata": {
    "colab": {},
    "colab_type": "code",
    "id": "0bHPoKxtvrJU"
   },
   "outputs": [],
   "source": [
    "merged_predictions_fm_als = pd.merge(predictions_reviews, predictions_fm, how='right', on=['user_id', 'business_id'])\n"
   ]
  },
  {
   "cell_type": "code",
   "execution_count": 0,
   "metadata": {
    "colab": {},
    "colab_type": "code",
    "id": "q_PDyTnpJl_k"
   },
   "outputs": [],
   "source": [
    "merged_predictions_fm_als = pd.merge(merged_predictions_fm_als, predictions_als, how='inner', on=['user_id', 'business_id',\"true_rating\"])\n"
   ]
  },
  {
   "cell_type": "markdown",
   "metadata": {
    "colab_type": "text",
    "id": "ivI1fVzHKRG5"
   },
   "source": [
    "Merged Predictions FM(With embeddings), the ones generatted from reviews and ALS\n"
   ]
  },
  {
   "cell_type": "code",
   "execution_count": 0,
   "metadata": {
    "colab": {},
    "colab_type": "code",
    "id": "uOI6N-ekKObj"
   },
   "outputs": [],
   "source": [
    "merged_predictions_fmw_als = pd.merge(predictions_reviews, predictions_fm_embeddings, how='right', on=['user_id', 'business_id'])\n"
   ]
  },
  {
   "cell_type": "code",
   "execution_count": 0,
   "metadata": {
    "colab": {},
    "colab_type": "code",
    "id": "2DPFD2QjKU3z"
   },
   "outputs": [],
   "source": [
    "merged_predictions_fmw_als = pd.merge(merged_predictions_fmw_als, predictions_als, how='inner', on=['user_id', 'business_id',\"true_rating\"])\n"
   ]
  },
  {
   "cell_type": "markdown",
   "metadata": {
    "colab_type": "text",
    "id": "n5cil01SQSv9"
   },
   "source": [
    "Test Data(Last reviews)"
   ]
  },
  {
   "cell_type": "code",
   "execution_count": 0,
   "metadata": {
    "colab": {},
    "colab_type": "code",
    "id": "-BF7QtzpQVUG"
   },
   "outputs": [],
   "source": [
    "test = pd.read_csv(path_data + \"test_noE.csv\")\n",
    "test = test[[\"business_id\",\"user_id\"]]\n",
    "test_with = pd.merge(merged_predictions_fmw_als, test, how='inner', on=['user_id', 'business_id'])\n",
    "test_without = pd.merge(merged_predictions_fm_als, test, how='inner', on=['user_id', 'business_id'])"
   ]
  },
  {
   "cell_type": "code",
   "execution_count": 0,
   "metadata": {
    "colab": {},
    "colab_type": "code",
    "id": "xwliQEZjQ5Fi"
   },
   "outputs": [],
   "source": [
    "test_without_y = test_without[\"true_rating\"]\n",
    "test_without_x = test_without[[\"rating_reviews\",\"rating_fm\",\"ratings_als\"]]\n",
    "\n",
    "test_with_y = test_with[\"true_rating\"]\n",
    "test_with_x = test_with[[\"rating_reviews\",\"rating_fm\",\"ratings_als\"]]"
   ]
  },
  {
   "cell_type": "markdown",
   "metadata": {
    "colab_type": "text",
    "id": "OVg3fNSkzUHc"
   },
   "source": [
    "ALS + FM (Without embeddings)"
   ]
  },
  {
   "cell_type": "code",
   "execution_count": 0,
   "metadata": {
    "colab": {},
    "colab_type": "code",
    "id": "V2vg66Vdzf7X"
   },
   "outputs": [],
   "source": [
    "X = merged_predictions_fmw_als[[\"ratings_als\",\"rating_fm\"]]"
   ]
  },
  {
   "cell_type": "code",
   "execution_count": 0,
   "metadata": {
    "colab": {},
    "colab_type": "code",
    "id": "HxXAoACOzf7d"
   },
   "outputs": [],
   "source": [
    "y = merged_predictions_fmw_als[[\"true_rating\"]]"
   ]
  },
  {
   "cell_type": "code",
   "execution_count": 0,
   "metadata": {
    "colab": {},
    "colab_type": "code",
    "id": "gS7O0oeYzf7g"
   },
   "outputs": [],
   "source": [
    "X_train, X_test, y_train, y_test = train_test_split(X, y, test_size=0.2, random_state=0)"
   ]
  },
  {
   "cell_type": "code",
   "execution_count": 36,
   "metadata": {
    "colab": {
     "base_uri": "https://localhost:8080/",
     "height": 34
    },
    "colab_type": "code",
    "id": "-Lh10Ddfzf7i",
    "outputId": "75370a50-9375-470d-aa8a-8c48f89b48a6"
   },
   "outputs": [
    {
     "data": {
      "text/plain": [
       "LinearRegression(copy_X=True, fit_intercept=True, n_jobs=None, normalize=False)"
      ]
     },
     "execution_count": 36,
     "metadata": {
      "tags": []
     },
     "output_type": "execute_result"
    }
   ],
   "source": [
    "regressor = LinearRegression()  \n",
    "regressor.fit(X_train, y_train)"
   ]
  },
  {
   "cell_type": "code",
   "execution_count": 37,
   "metadata": {
    "colab": {
     "base_uri": "https://localhost:8080/",
     "height": 50
    },
    "colab_type": "code",
    "id": "-8tCnYgqzf7o",
    "outputId": "eef480aa-013e-4dc2-8c38-34dedd4b6695"
   },
   "outputs": [
    {
     "name": "stdout",
     "output_type": "stream",
     "text": [
      "[-0.05340957]\n",
      "[[ 1.11428597 -0.08789183]]\n"
     ]
    }
   ],
   "source": [
    "#To retrieve the intercept:\n",
    "print(regressor.intercept_)\n",
    "#For retrieving the slope:\n",
    "print(regressor.coef_)"
   ]
  },
  {
   "cell_type": "code",
   "execution_count": 41,
   "metadata": {
    "colab": {
     "base_uri": "https://localhost:8080/",
     "height": 34
    },
    "colab_type": "code",
    "id": "tVsNc72Gzf7r",
    "outputId": "39b5d0bf-da04-4e2a-f735-a70e5125c4d0"
   },
   "outputs": [
    {
     "name": "stdout",
     "output_type": "stream",
     "text": [
      "testing rmse: 1.354053408149455\n"
     ]
    }
   ],
   "source": [
    "test_w_x = test_without_x[[\"ratings_als\",\"rating_fm\"]]\n",
    "predictions_ensemble = regressor.predict(test_w_x)\n",
    "print ('testing rmse:', math.sqrt(mean_squared_error(predictions_ensemble, test_without_y)))\n"
   ]
  },
  {
   "cell_type": "code",
   "execution_count": 0,
   "metadata": {
    "colab": {
     "base_uri": "https://localhost:8080/",
     "height": 34
    },
    "colab_type": "code",
    "id": "qAAbz5iJzf7w",
    "outputId": "cc995acf-dbb0-4630-8bbb-2db56ba3f087"
   },
   "outputs": [
    {
     "name": "stdout",
     "output_type": "stream",
     "text": [
      "testing rmse: 0.7482263902209023\n"
     ]
    }
   ],
   "source": [
    "predictions_ensemble = regressor.predict(X)\n",
    "print ('testing rmse:', math.sqrt(mean_squared_error(predictions_ensemble, y)))\n"
   ]
  },
  {
   "cell_type": "markdown",
   "metadata": {
    "colab_type": "text",
    "id": "NHDHZvcwzQ8K"
   },
   "source": [
    "ALS + FM (With embeddings)"
   ]
  },
  {
   "cell_type": "code",
   "execution_count": 0,
   "metadata": {
    "colab": {},
    "colab_type": "code",
    "id": "EBCQfJEmziVs"
   },
   "outputs": [],
   "source": [
    "X = merged_predictions_fm_als[[\"ratings_als\",\"rating_fm\"]]"
   ]
  },
  {
   "cell_type": "code",
   "execution_count": 0,
   "metadata": {
    "colab": {},
    "colab_type": "code",
    "id": "Ov5TjkhKziVw"
   },
   "outputs": [],
   "source": [
    "y = merged_predictions_fm_als[[\"true_rating\"]]"
   ]
  },
  {
   "cell_type": "code",
   "execution_count": 0,
   "metadata": {
    "colab": {},
    "colab_type": "code",
    "id": "jVGsLofTziVy"
   },
   "outputs": [],
   "source": [
    "X_train, X_test, y_train, y_test = train_test_split(X, y, test_size=0.2, random_state=0)"
   ]
  },
  {
   "cell_type": "code",
   "execution_count": 46,
   "metadata": {
    "colab": {
     "base_uri": "https://localhost:8080/",
     "height": 34
    },
    "colab_type": "code",
    "id": "tgNclnKlziV2",
    "outputId": "6ed8b9c1-cb86-4494-ed7e-7b65075359ec"
   },
   "outputs": [
    {
     "data": {
      "text/plain": [
       "LinearRegression(copy_X=True, fit_intercept=True, n_jobs=None, normalize=False)"
      ]
     },
     "execution_count": 46,
     "metadata": {
      "tags": []
     },
     "output_type": "execute_result"
    }
   ],
   "source": [
    "regressor = LinearRegression()  \n",
    "regressor.fit(X_train, y_train)"
   ]
  },
  {
   "cell_type": "code",
   "execution_count": 47,
   "metadata": {
    "colab": {
     "base_uri": "https://localhost:8080/",
     "height": 50
    },
    "colab_type": "code",
    "id": "isrPLIMkziV5",
    "outputId": "d6f85377-001f-4f8f-c3c7-8fc2186b2245"
   },
   "outputs": [
    {
     "name": "stdout",
     "output_type": "stream",
     "text": [
      "[0.38279916]\n",
      "[[ 1.10751274 -0.19409673]]\n"
     ]
    }
   ],
   "source": [
    "#To retrieve the intercept:\n",
    "print(regressor.intercept_)\n",
    "#For retrieving the slope:\n",
    "print(regressor.coef_)"
   ]
  },
  {
   "cell_type": "code",
   "execution_count": 49,
   "metadata": {
    "colab": {
     "base_uri": "https://localhost:8080/",
     "height": 34
    },
    "colab_type": "code",
    "id": "6--MlCw9ziV7",
    "outputId": "2e408811-67bb-4ad0-d5cb-38d86c9908ed"
   },
   "outputs": [
    {
     "name": "stdout",
     "output_type": "stream",
     "text": [
      "testing rmse: 1.272744040200821\n"
     ]
    }
   ],
   "source": [
    "test_w_x = test_with_x[[\"ratings_als\",\"rating_fm\"]]\n",
    "predictions_ensemble = regressor.predict(test_w_x)\n",
    "print ('testing rmse:', math.sqrt(mean_squared_error(predictions_ensemble, test_with_y)))\n"
   ]
  },
  {
   "cell_type": "code",
   "execution_count": 50,
   "metadata": {
    "colab": {
     "base_uri": "https://localhost:8080/",
     "height": 34
    },
    "colab_type": "code",
    "id": "mPebY9sgziV-",
    "outputId": "26e26196-d185-44a7-e448-582c30227aac"
   },
   "outputs": [
    {
     "name": "stdout",
     "output_type": "stream",
     "text": [
      "testing rmse: 0.7255569617645269\n"
     ]
    }
   ],
   "source": [
    "predictions_ensemble = regressor.predict(X)\n",
    "print ('testing rmse:', math.sqrt(mean_squared_error(predictions_ensemble, y)))\n"
   ]
  },
  {
   "cell_type": "markdown",
   "metadata": {
    "colab_type": "text",
    "id": "xXi_1tXW-5Mv"
   },
   "source": [
    "NLP(Reviews) + FM Without Embeddings"
   ]
  },
  {
   "cell_type": "code",
   "execution_count": 0,
   "metadata": {
    "colab": {},
    "colab_type": "code",
    "id": "LbaYu9LgzqUF"
   },
   "outputs": [],
   "source": [
    "X = merged_predictions_fm_als[[\"rating_reviews\",\"rating_fm\"]]"
   ]
  },
  {
   "cell_type": "code",
   "execution_count": 0,
   "metadata": {
    "colab": {},
    "colab_type": "code",
    "id": "ddlmt0Cr0HJj"
   },
   "outputs": [],
   "source": [
    "y = merged_predictions_fm_als[[\"true_rating\"]]"
   ]
  },
  {
   "cell_type": "code",
   "execution_count": 0,
   "metadata": {
    "colab": {},
    "colab_type": "code",
    "id": "FKnIDKevxLrj"
   },
   "outputs": [],
   "source": [
    "X_train, X_test, y_train, y_test = train_test_split(X, y, test_size=0.2, random_state=0)"
   ]
  },
  {
   "cell_type": "code",
   "execution_count": 0,
   "metadata": {
    "colab": {
     "base_uri": "https://localhost:8080/",
     "height": 34
    },
    "colab_type": "code",
    "id": "fbIx7dEBzunw",
    "outputId": "697abc04-411c-44e8-ea4d-aaa671d0dc8b"
   },
   "outputs": [
    {
     "data": {
      "text/plain": [
       "LinearRegression(copy_X=True, fit_intercept=True, n_jobs=None, normalize=False)"
      ]
     },
     "execution_count": 257,
     "metadata": {
      "tags": []
     },
     "output_type": "execute_result"
    }
   ],
   "source": [
    "regressor = LinearRegression()  \n",
    "regressor.fit(X_train, y_train)"
   ]
  },
  {
   "cell_type": "code",
   "execution_count": 0,
   "metadata": {
    "colab": {
     "base_uri": "https://localhost:8080/",
     "height": 50
    },
    "colab_type": "code",
    "id": "Xr3dC29azxdp",
    "outputId": "bd34b5cb-7efc-4f68-e3f7-3a96b3720984"
   },
   "outputs": [
    {
     "name": "stdout",
     "output_type": "stream",
     "text": [
      "[-2.56019046]\n",
      "[[0.19516863 1.49602079]]\n"
     ]
    }
   ],
   "source": [
    "#To retrieve the intercept:\n",
    "print(regressor.intercept_)\n",
    "#For retrieving the slope:\n",
    "print(regressor.coef_)"
   ]
  },
  {
   "cell_type": "code",
   "execution_count": 0,
   "metadata": {
    "colab": {
     "base_uri": "https://localhost:8080/",
     "height": 34
    },
    "colab_type": "code",
    "id": "lQ4LUvMnz0rc",
    "outputId": "12cae8a2-d112-41d3-cf4f-83dec4c41a80"
   },
   "outputs": [
    {
     "name": "stdout",
     "output_type": "stream",
     "text": [
      "testing rmse: 1.3561975136870765\n"
     ]
    }
   ],
   "source": [
    "test_wo_x = test_without_x[[\"rating_reviews\",\"rating_fm\"]]\n",
    "predictions_ensemble = regressor.predict(test_wo_x)\n",
    "print ('testing rmse:', math.sqrt(mean_squared_error(predictions_ensemble, test_without_y)))\n"
   ]
  },
  {
   "cell_type": "code",
   "execution_count": 0,
   "metadata": {
    "colab": {
     "base_uri": "https://localhost:8080/",
     "height": 34
    },
    "colab_type": "code",
    "id": "XGDkd-kIacbe",
    "outputId": "caebad43-0d9a-4746-eaf0-6a313451ddb7"
   },
   "outputs": [
    {
     "name": "stdout",
     "output_type": "stream",
     "text": [
      "testing rmse: 1.2268391898206181\n"
     ]
    }
   ],
   "source": [
    "predictions_ensemble = regressor.predict(X)\n",
    "print ('testing rmse:', math.sqrt(mean_squared_error(predictions_ensemble, y)))\n"
   ]
  },
  {
   "cell_type": "markdown",
   "metadata": {
    "colab_type": "text",
    "id": "rEQVhti1-091"
   },
   "source": [
    "NLP(Reviews) + FM With Embeddings\n"
   ]
  },
  {
   "cell_type": "code",
   "execution_count": 0,
   "metadata": {
    "colab": {},
    "colab_type": "code",
    "id": "esLQvAWE-SwB"
   },
   "outputs": [],
   "source": [
    "X = merged_predictions_fmw_als[[\"rating_reviews\",\"rating_fm\"]]"
   ]
  },
  {
   "cell_type": "code",
   "execution_count": 0,
   "metadata": {
    "colab": {},
    "colab_type": "code",
    "id": "325irq6a-SwD"
   },
   "outputs": [],
   "source": [
    "y = merged_predictions_fmw_als[[\"true_rating\"]]"
   ]
  },
  {
   "cell_type": "code",
   "execution_count": 0,
   "metadata": {
    "colab": {},
    "colab_type": "code",
    "id": "5fwdG9Sm-SwF"
   },
   "outputs": [],
   "source": [
    "X_train, X_test, y_train, y_test = train_test_split(X, y, test_size=0.2, random_state=0)"
   ]
  },
  {
   "cell_type": "code",
   "execution_count": 0,
   "metadata": {
    "colab": {
     "base_uri": "https://localhost:8080/",
     "height": 34
    },
    "colab_type": "code",
    "id": "gnUuGGs6-SwH",
    "outputId": "5648c597-aabe-4c1f-f979-4a997c4063fd"
   },
   "outputs": [
    {
     "data": {
      "text/plain": [
       "LinearRegression(copy_X=True, fit_intercept=True, n_jobs=None, normalize=False)"
      ]
     },
     "execution_count": 264,
     "metadata": {
      "tags": []
     },
     "output_type": "execute_result"
    }
   ],
   "source": [
    "regressor = LinearRegression()  \n",
    "regressor.fit(X_train, y_train)"
   ]
  },
  {
   "cell_type": "code",
   "execution_count": 0,
   "metadata": {
    "colab": {
     "base_uri": "https://localhost:8080/",
     "height": 50
    },
    "colab_type": "code",
    "id": "9NFS8rbe-SwJ",
    "outputId": "250bdbc4-48a7-4535-9d62-03a320015507"
   },
   "outputs": [
    {
     "name": "stdout",
     "output_type": "stream",
     "text": [
      "[-0.71420391]\n",
      "[[0.389969   0.82754655]]\n"
     ]
    }
   ],
   "source": [
    "#To retrieve the intercept:\n",
    "print(regressor.intercept_)\n",
    "#For retrieving the slope:\n",
    "print(regressor.coef_)"
   ]
  },
  {
   "cell_type": "code",
   "execution_count": 0,
   "metadata": {
    "colab": {
     "base_uri": "https://localhost:8080/",
     "height": 34
    },
    "colab_type": "code",
    "id": "hnztO0Lq-SwN",
    "outputId": "cf610b79-53be-43ed-8a8e-60a4b1b74a41"
   },
   "outputs": [
    {
     "name": "stdout",
     "output_type": "stream",
     "text": [
      "testing rmse: 1.3470497918261353\n"
     ]
    }
   ],
   "source": [
    "test_w_x = test_with_x[[\"rating_reviews\",\"rating_fm\"]]\n",
    "predictions_ensemble = regressor.predict(test_w_x)\n",
    "print ('testing rmse:', math.sqrt(mean_squared_error(predictions_ensemble, test_with_y)))\n"
   ]
  },
  {
   "cell_type": "code",
   "execution_count": 0,
   "metadata": {
    "colab": {
     "base_uri": "https://localhost:8080/",
     "height": 34
    },
    "colab_type": "code",
    "id": "5nQ99gAeaiCk",
    "outputId": "5ba1e2af-9877-488d-84e9-64925891d044"
   },
   "outputs": [
    {
     "name": "stdout",
     "output_type": "stream",
     "text": [
      "testing rmse: 1.1649132636578647\n"
     ]
    }
   ],
   "source": [
    "predictions_ensemble = regressor.predict(X)\n",
    "print ('testing rmse:', math.sqrt(mean_squared_error(predictions_ensemble, y)))\n"
   ]
  },
  {
   "cell_type": "markdown",
   "metadata": {
    "colab_type": "text",
    "id": "pFuWM1U1_Sa9"
   },
   "source": [
    "NLP(Reviews) +  ALS"
   ]
  },
  {
   "cell_type": "code",
   "execution_count": 0,
   "metadata": {
    "colab": {},
    "colab_type": "code",
    "id": "l0e-oOF2_YO3"
   },
   "outputs": [],
   "source": [
    "X = merged_predictions_fm_als[[\"rating_reviews\",\"ratings_als\"]]"
   ]
  },
  {
   "cell_type": "code",
   "execution_count": 0,
   "metadata": {
    "colab": {},
    "colab_type": "code",
    "id": "FeACV9Hn_YO6"
   },
   "outputs": [],
   "source": [
    "y = merged_predictions_fm_als[[\"true_rating\"]]"
   ]
  },
  {
   "cell_type": "code",
   "execution_count": 0,
   "metadata": {
    "colab": {},
    "colab_type": "code",
    "id": "fYqx5hIu_YO7"
   },
   "outputs": [],
   "source": [
    "X_train, X_test, y_train, y_test = train_test_split(X, y, test_size=0.2, random_state=0)"
   ]
  },
  {
   "cell_type": "code",
   "execution_count": 0,
   "metadata": {
    "colab": {
     "base_uri": "https://localhost:8080/",
     "height": 34
    },
    "colab_type": "code",
    "id": "kI2J1zT2_YO9",
    "outputId": "7ac9dee2-c5d1-4712-8e60-0c250f39f014"
   },
   "outputs": [
    {
     "data": {
      "text/plain": [
       "LinearRegression(copy_X=True, fit_intercept=True, n_jobs=None, normalize=False)"
      ]
     },
     "execution_count": 271,
     "metadata": {
      "tags": []
     },
     "output_type": "execute_result"
    }
   ],
   "source": [
    "regressor = LinearRegression()  \n",
    "regressor.fit(X_train, y_train)"
   ]
  },
  {
   "cell_type": "code",
   "execution_count": 0,
   "metadata": {
    "colab": {
     "base_uri": "https://localhost:8080/",
     "height": 50
    },
    "colab_type": "code",
    "id": "pW3j3ofP_YPA",
    "outputId": "8528aa99-d2b3-4da1-ed97-6bac23eb556a"
   },
   "outputs": [
    {
     "name": "stdout",
     "output_type": "stream",
     "text": [
      "[-0.27057816]\n",
      "[[-0.02588457  1.11053975]]\n"
     ]
    }
   ],
   "source": [
    "#To retrieve the intercept:\n",
    "print(regressor.intercept_)\n",
    "#For retrieving the slope:\n",
    "print(regressor.coef_)"
   ]
  },
  {
   "cell_type": "code",
   "execution_count": 0,
   "metadata": {
    "colab": {
     "base_uri": "https://localhost:8080/",
     "height": 34
    },
    "colab_type": "code",
    "id": "O2Zlkut2_YPE",
    "outputId": "0edfa9aa-a86d-4423-9030-1ae26751ae1f"
   },
   "outputs": [
    {
     "name": "stdout",
     "output_type": "stream",
     "text": [
      "testing rmse: 1.351275954901785\n"
     ]
    }
   ],
   "source": [
    "test_wo_x = test_without_x[[\"rating_reviews\",\"ratings_als\"]]\n",
    "predictions_ensemble = regressor.predict(test_wo_x)\n",
    "print ('testing rmse:', math.sqrt(mean_squared_error(predictions_ensemble, test_without_y)))\n"
   ]
  },
  {
   "cell_type": "code",
   "execution_count": 0,
   "metadata": {
    "colab": {
     "base_uri": "https://localhost:8080/",
     "height": 34
    },
    "colab_type": "code",
    "id": "senhhvWVajr7",
    "outputId": "ae38f687-bb1b-4ec3-d168-d2d045e53fbd"
   },
   "outputs": [
    {
     "name": "stdout",
     "output_type": "stream",
     "text": [
      "testing rmse: 0.725356253330817\n"
     ]
    }
   ],
   "source": [
    "predictions_ensemble = regressor.predict(X)\n",
    "print ('testing rmse:', math.sqrt(mean_squared_error(predictions_ensemble, y)))\n"
   ]
  },
  {
   "cell_type": "markdown",
   "metadata": {
    "colab_type": "text",
    "id": "3gTAf1PqAPCM"
   },
   "source": [
    "NLP(Reviews) + ALS, FM (without embeddings)"
   ]
  },
  {
   "cell_type": "code",
   "execution_count": 0,
   "metadata": {
    "colab": {},
    "colab_type": "code",
    "id": "o1zFx_kYAaC5"
   },
   "outputs": [],
   "source": [
    "X = merged_predictions_fm_als[[\"rating_reviews\",\"ratings_als\",\"rating_fm\"]]"
   ]
  },
  {
   "cell_type": "code",
   "execution_count": 0,
   "metadata": {
    "colab": {},
    "colab_type": "code",
    "id": "6W4n8D_JAaC7"
   },
   "outputs": [],
   "source": [
    "y = merged_predictions_fm_als[[\"true_rating\"]]"
   ]
  },
  {
   "cell_type": "code",
   "execution_count": 0,
   "metadata": {
    "colab": {},
    "colab_type": "code",
    "id": "pyiGinT1AaC9"
   },
   "outputs": [],
   "source": [
    "X_train, X_test, y_train, y_test = train_test_split(X, y, test_size=0.2, random_state=0)"
   ]
  },
  {
   "cell_type": "code",
   "execution_count": 0,
   "metadata": {
    "colab": {
     "base_uri": "https://localhost:8080/",
     "height": 34
    },
    "colab_type": "code",
    "id": "UiUatADdAaC_",
    "outputId": "06eee54a-8566-40b7-cdac-56894b19e235"
   },
   "outputs": [
    {
     "data": {
      "text/plain": [
       "LinearRegression(copy_X=True, fit_intercept=True, n_jobs=None, normalize=False)"
      ]
     },
     "execution_count": 278,
     "metadata": {
      "tags": []
     },
     "output_type": "execute_result"
    }
   ],
   "source": [
    "regressor = LinearRegression()  \n",
    "regressor.fit(X_train, y_train)"
   ]
  },
  {
   "cell_type": "code",
   "execution_count": 0,
   "metadata": {
    "colab": {
     "base_uri": "https://localhost:8080/",
     "height": 50
    },
    "colab_type": "code",
    "id": "HeWUAFMBAaDC",
    "outputId": "80e81a76-bfc9-4e90-b7ff-8881ed9e7f32"
   },
   "outputs": [
    {
     "name": "stdout",
     "output_type": "stream",
     "text": [
      "[0.12313464]\n",
      "[[-0.02373651  1.11120189 -0.10648365]]\n"
     ]
    }
   ],
   "source": [
    "#To retrieve the intercept:\n",
    "print(regressor.intercept_)\n",
    "#For retrieving the slope:\n",
    "print(regressor.coef_)"
   ]
  },
  {
   "cell_type": "code",
   "execution_count": 0,
   "metadata": {
    "colab": {
     "base_uri": "https://localhost:8080/",
     "height": 34
    },
    "colab_type": "code",
    "id": "djlZ9jX7AaDG",
    "outputId": "a0f13f51-c3b2-40d7-cd51-99c5bdb58942"
   },
   "outputs": [
    {
     "name": "stdout",
     "output_type": "stream",
     "text": [
      "testing rmse: 1.3515717195237802\n"
     ]
    }
   ],
   "source": [
    "test_wo_x = test_without_x[[\"rating_reviews\",\"ratings_als\",\"rating_fm\"]]\n",
    "predictions_ensemble = regressor.predict(test_wo_x)\n",
    "print ('testing rmse:', math.sqrt(mean_squared_error(predictions_ensemble, test_without_y)))\n"
   ]
  },
  {
   "cell_type": "code",
   "execution_count": 0,
   "metadata": {
    "colab": {
     "base_uri": "https://localhost:8080/",
     "height": 34
    },
    "colab_type": "code",
    "id": "THQEBlbkalCS",
    "outputId": "55afd2ed-56c3-4aa6-9402-973e58014bba"
   },
   "outputs": [
    {
     "name": "stdout",
     "output_type": "stream",
     "text": [
      "testing rmse: 0.7253352910183729\n"
     ]
    }
   ],
   "source": [
    "predictions_ensemble = regressor.predict(X)\n",
    "print ('testing rmse:', math.sqrt(mean_squared_error(predictions_ensemble, y)))\n"
   ]
  },
  {
   "cell_type": "markdown",
   "metadata": {
    "colab_type": "text",
    "id": "4ySDWYsvDJES"
   },
   "source": [
    "NLP(Reviews) +  ALS, FM (With embeddings)"
   ]
  },
  {
   "cell_type": "code",
   "execution_count": 0,
   "metadata": {
    "colab": {},
    "colab_type": "code",
    "id": "71X5Eg6BDJEn"
   },
   "outputs": [],
   "source": [
    "X = merged_predictions_fmw_als[[\"rating_reviews\",\"ratings_als\",\"rating_fm\"]]"
   ]
  },
  {
   "cell_type": "code",
   "execution_count": 0,
   "metadata": {
    "colab": {},
    "colab_type": "code",
    "id": "wh3pQMhmDJEp"
   },
   "outputs": [],
   "source": [
    "y = merged_predictions_fmw_als[[\"true_rating\"]]"
   ]
  },
  {
   "cell_type": "code",
   "execution_count": 0,
   "metadata": {
    "colab": {},
    "colab_type": "code",
    "id": "ib2ZDOE4DJEr"
   },
   "outputs": [],
   "source": [
    "X_train, X_test, y_train, y_test = train_test_split(X, y, test_size=0.2, random_state=0)"
   ]
  },
  {
   "cell_type": "code",
   "execution_count": 0,
   "metadata": {
    "colab": {
     "base_uri": "https://localhost:8080/",
     "height": 34
    },
    "colab_type": "code",
    "id": "ojRohQFoDJEu",
    "outputId": "3dadf104-439b-4cc6-c9af-675d4a8034ac"
   },
   "outputs": [
    {
     "data": {
      "text/plain": [
       "LinearRegression(copy_X=True, fit_intercept=True, n_jobs=None, normalize=False)"
      ]
     },
     "execution_count": 285,
     "metadata": {
      "tags": []
     },
     "output_type": "execute_result"
    }
   ],
   "source": [
    "regressor = LinearRegression()  \n",
    "regressor.fit(X_train, y_train)"
   ]
  },
  {
   "cell_type": "code",
   "execution_count": 0,
   "metadata": {
    "colab": {
     "base_uri": "https://localhost:8080/",
     "height": 50
    },
    "colab_type": "code",
    "id": "jXyue_BZDJEx",
    "outputId": "d2f36c2f-1d3d-4316-89d7-1f13c99d419a"
   },
   "outputs": [
    {
     "name": "stdout",
     "output_type": "stream",
     "text": [
      "[-0.04079858]\n",
      "[[-0.0431366   1.12510013 -0.05742737]]\n"
     ]
    }
   ],
   "source": [
    "#To retrieve the intercept:\n",
    "print(regressor.intercept_)\n",
    "#For retrieving the slope:\n",
    "print(regressor.coef_)"
   ]
  },
  {
   "cell_type": "code",
   "execution_count": 0,
   "metadata": {
    "colab": {
     "base_uri": "https://localhost:8080/",
     "height": 34
    },
    "colab_type": "code",
    "id": "CCOSDtDpDJE2",
    "outputId": "a4047c11-0342-42fe-e570-6cf8ed67a01b"
   },
   "outputs": [
    {
     "name": "stdout",
     "output_type": "stream",
     "text": [
      "testing rmse: 1.278530283589841\n"
     ]
    }
   ],
   "source": [
    "test_w_x = test_with_x[[\"rating_reviews\",\"ratings_als\",\"rating_fm\"]]\n",
    "predictions_ensemble = regressor.predict(test_w_x)\n",
    "print ('testing rmse:', math.sqrt(mean_squared_error(predictions_ensemble, test_with_y)))\n"
   ]
  },
  {
   "cell_type": "code",
   "execution_count": 0,
   "metadata": {
    "colab": {
     "base_uri": "https://localhost:8080/",
     "height": 34
    },
    "colab_type": "code",
    "id": "l3ADXyxJX-1Z",
    "outputId": "cc995acf-dbb0-4630-8bbb-2db56ba3f087"
   },
   "outputs": [
    {
     "name": "stdout",
     "output_type": "stream",
     "text": [
      "testing rmse: 0.7482263902209023\n"
     ]
    }
   ],
   "source": [
    "predictions_ensemble = regressor.predict(X)\n",
    "print ('testing rmse:', math.sqrt(mean_squared_error(predictions_ensemble, y)))\n"
   ]
  },
  {
   "cell_type": "code",
   "execution_count": null,
   "metadata": {},
   "outputs": [],
   "source": []
  }
 ],
 "metadata": {
  "kernelspec": {
   "display_name": "Python 3",
   "language": "python",
   "name": "python3"
  },
  "language_info": {
   "codemirror_mode": {
    "name": "ipython",
    "version": 3
   },
   "file_extension": ".py",
   "mimetype": "text/x-python",
   "name": "python",
   "nbconvert_exporter": "python",
   "pygments_lexer": "ipython3",
   "version": "3.6.8"
  }
 },
 "nbformat": 4,
 "nbformat_minor": 2
}
