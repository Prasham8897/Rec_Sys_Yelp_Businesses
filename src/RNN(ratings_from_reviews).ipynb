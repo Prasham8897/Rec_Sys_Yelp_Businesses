{
  "nbformat": 4,
  "nbformat_minor": 0,
  "metadata": {
    "kernelspec": {
      "display_name": "Python 3",
      "language": "python",
      "name": "python3"
    },
    "language_info": {
      "codemirror_mode": {
        "name": "ipython",
        "version": 3
      },
      "file_extension": ".py",
      "mimetype": "text/x-python",
      "name": "python",
      "nbconvert_exporter": "python",
      "pygments_lexer": "ipython3",
      "version": "3.6.8"
    },
    "colab": {
      "name": "RNN(ratings from reviews).ipynb",
      "provenance": []
    }
  },
  "cells": [
    {
      "cell_type": "code",
      "metadata": {
        "id": "2Oo6LPsil-k1",
        "colab_type": "code",
        "colab": {}
      },
      "source": [
        "import spacy"
      ],
      "execution_count": 0,
      "outputs": []
    },
    {
      "cell_type": "code",
      "metadata": {
        "id": "pDAs2wv7vhE2",
        "colab_type": "code",
        "outputId": "df9303e0-574e-401a-fe78-c4be13607726",
        "colab": {
          "base_uri": "https://localhost:8080/",
          "height": 79
        }
      },
      "source": [
        "from keras.preprocessing.text import Tokenizer\n",
        "from keras.preprocessing.sequence import pad_sequences\n",
        "from keras.models import Sequential\n",
        "from keras.layers import Dense, Flatten, LSTM, Conv1D, MaxPooling1D, Dropout, Activation\n",
        "from keras.layers.embeddings import Embedding\n",
        "\n",
        "## Plot\n",
        "import plotly.offline as py\n",
        "import plotly.graph_objs as go\n",
        "py.init_notebook_mode(connected=True)\n",
        "import matplotlib as plt\n",
        "\n",
        "# NLTK\n",
        "import nltk\n",
        "from nltk.corpus import stopwords\n",
        "from nltk.stem import SnowballStemmer\n",
        "\n",
        "# Other\n",
        "import re\n",
        "import string\n",
        "import numpy as np\n",
        "import pandas as pd\n",
        "from sklearn.manifold import TSNE\n"
      ],
      "execution_count": 0,
      "outputs": [
        {
          "output_type": "stream",
          "text": [
            "Using TensorFlow backend.\n"
          ],
          "name": "stderr"
        },
        {
          "output_type": "display_data",
          "data": {
            "text/html": [
              "<p style=\"color: red;\">\n",
              "The default version of TensorFlow in Colab will soon switch to TensorFlow 2.x.<br>\n",
              "We recommend you <a href=\"https://www.tensorflow.org/guide/migrate\" target=\"_blank\">upgrade</a> now \n",
              "or ensure your notebook will continue to use TensorFlow 1.x via the <code>%tensorflow_version 1.x</code> magic:\n",
              "<a href=\"https://colab.research.google.com/notebooks/tensorflow_version.ipynb\" target=\"_blank\">more info</a>.</p>\n"
            ],
            "text/plain": [
              "<IPython.core.display.HTML object>"
            ]
          },
          "metadata": {
            "tags": []
          }
        },
        {
          "output_type": "display_data",
          "data": {
            "text/html": [
              "        <script type=\"text/javascript\">\n",
              "        window.PlotlyConfig = {MathJaxConfig: 'local'};\n",
              "        if (window.MathJax) {MathJax.Hub.Config({SVG: {font: \"STIX-Web\"}});}\n",
              "        if (typeof require !== 'undefined') {\n",
              "        require.undef(\"plotly\");\n",
              "        requirejs.config({\n",
              "            paths: {\n",
              "                'plotly': ['https://cdn.plot.ly/plotly-latest.min']\n",
              "            }\n",
              "        });\n",
              "        require(['plotly'], function(Plotly) {\n",
              "            window._Plotly = Plotly;\n",
              "        });\n",
              "        }\n",
              "        </script>\n",
              "        "
            ]
          },
          "metadata": {
            "tags": []
          }
        }
      ]
    },
    {
      "cell_type": "code",
      "metadata": {
        "id": "TJvO-wp9xYII",
        "colab_type": "code",
        "outputId": "acf78715-8f18-435e-cc77-cc2f210c5c02",
        "colab": {
          "base_uri": "https://localhost:8080/",
          "height": 34
        }
      },
      "source": [
        "from google.colab import drive\n",
        "drive.mount('/content/drive/', force_remount=True)"
      ],
      "execution_count": 0,
      "outputs": [
        {
          "output_type": "stream",
          "text": [
            "Mounted at /content/drive/\n"
          ],
          "name": "stdout"
        }
      ]
    },
    {
      "cell_type": "code",
      "metadata": {
        "id": "fiVekeeTxbCL",
        "colab_type": "code",
        "outputId": "9bfc6fb3-be56-4607-f792-41993efad83c",
        "colab": {
          "base_uri": "https://localhost:8080/",
          "height": 118
        }
      },
      "source": [
        "import pandas as pd\n",
        "import json\n",
        "from tqdm import tqdm\n",
        "path = \"/content/drive/My Drive/Sample_trial/\"\n",
        "line_count = len(open(path + \"review.json\").readlines())\n",
        "user_ids, business_ids, stars, dates, text = [], [], [], [], []\n",
        "with open(path + \"review.json\", encoding=\"utf8\") as f:\n",
        "  for line in tqdm(f, total=line_count):\n",
        "    blob = json.loads(line)\n",
        "    user_ids += [blob[\"user_id\"]]\n",
        "    business_ids += [blob[\"business_id\"]]\n",
        "    stars += [blob[\"stars\"]]\n",
        "    dates += [blob[\"date\"]]\n",
        "    text += [blob[\"text\"]]\n",
        "ratings = pd.DataFrame({\"user_id\": user_ids, \"business_id\": business_ids, \"rating\": stars, \"date\": dates, \"text\" : text})\n",
        "user_counts = ratings[\"user_id\"].value_counts()\n",
        "active_users = user_counts.loc[user_counts >= 5].index.tolist()\n",
        "\n",
        "active_users[:5]"
      ],
      "execution_count": 0,
      "outputs": [
        {
          "output_type": "stream",
          "text": [
            "100%|██████████| 6685900/6685900 [03:07<00:00, 35676.86it/s]\n"
          ],
          "name": "stderr"
        },
        {
          "output_type": "execute_result",
          "data": {
            "text/plain": [
              "['CxDOIDnH8gp9KXzpBHJYXw',\n",
              " 'bLbSNkLggFnqwNNzzq-Ijw',\n",
              " 'PKEzKWv_FktMm2mGPjwd0Q',\n",
              " 'ELcQDlf69kb-ihJfxZyL0A',\n",
              " 'DK57YibC5ShBmqQl97CKog']"
            ]
          },
          "metadata": {
            "tags": []
          },
          "execution_count": 4
        }
      ]
    },
    {
      "cell_type": "code",
      "metadata": {
        "id": "k2JF-gqmvhFA",
        "colab_type": "code",
        "colab": {}
      },
      "source": [
        "ratings_active_users = ratings[ratings[\"user_id\"].isin(active_users)]"
      ],
      "execution_count": 0,
      "outputs": []
    },
    {
      "cell_type": "code",
      "metadata": {
        "id": "FD7m9RVavhFD",
        "colab_type": "code",
        "colab": {}
      },
      "source": [
        "from sklearn.model_selection import train_test_split\n",
        "ratings_train, ratings_test = train_test_split(ratings_active_users, test_size=0.60, random_state=42)"
      ],
      "execution_count": 0,
      "outputs": []
    },
    {
      "cell_type": "code",
      "metadata": {
        "id": "ugm-WmN0vhFF",
        "colab_type": "code",
        "outputId": "a93833c6-0b01-4270-d7c6-46943da97bc2",
        "colab": {
          "base_uri": "https://localhost:8080/",
          "height": 402
        }
      },
      "source": [
        "ratings_train"
      ],
      "execution_count": 0,
      "outputs": [
        {
          "output_type": "execute_result",
          "data": {
            "text/html": [
              "<div>\n",
              "<style scoped>\n",
              "    .dataframe tbody tr th:only-of-type {\n",
              "        vertical-align: middle;\n",
              "    }\n",
              "\n",
              "    .dataframe tbody tr th {\n",
              "        vertical-align: top;\n",
              "    }\n",
              "\n",
              "    .dataframe thead th {\n",
              "        text-align: right;\n",
              "    }\n",
              "</style>\n",
              "<table border=\"1\" class=\"dataframe\">\n",
              "  <thead>\n",
              "    <tr style=\"text-align: right;\">\n",
              "      <th></th>\n",
              "      <th>user_id</th>\n",
              "      <th>business_id</th>\n",
              "      <th>rating</th>\n",
              "      <th>date</th>\n",
              "      <th>text</th>\n",
              "    </tr>\n",
              "  </thead>\n",
              "  <tbody>\n",
              "    <tr>\n",
              "      <th>2372436</th>\n",
              "      <td>PlPqz0Ve742oKSWAwj2uYw</td>\n",
              "      <td>UNI1agsPX2k3eJSJVB91nw</td>\n",
              "      <td>5.0</td>\n",
              "      <td>2017-04-01 02:29:17</td>\n",
              "      <td>My son and I decided to try this place for the...</td>\n",
              "    </tr>\n",
              "    <tr>\n",
              "      <th>4557308</th>\n",
              "      <td>5HmK6riLkciM0Xxo1ycNTg</td>\n",
              "      <td>fzxvmA3Ygu3yrQQ6-cEpTw</td>\n",
              "      <td>3.0</td>\n",
              "      <td>2017-04-29 20:14:13</td>\n",
              "      <td>Overall, last night's dinner was not as good a...</td>\n",
              "    </tr>\n",
              "    <tr>\n",
              "      <th>3178155</th>\n",
              "      <td>z6gseuVl0cR7tRLQa_DXuQ</td>\n",
              "      <td>TU95jEn8aGitY8hZowXaBg</td>\n",
              "      <td>5.0</td>\n",
              "      <td>2016-09-14 18:39:37</td>\n",
              "      <td>I was craving congee this evening so I stumble...</td>\n",
              "    </tr>\n",
              "    <tr>\n",
              "      <th>5118366</th>\n",
              "      <td>KvVV6iPB6I2aOiaXYKTtFg</td>\n",
              "      <td>gBfPyzPRmeOaj3SdcIj0Rw</td>\n",
              "      <td>4.0</td>\n",
              "      <td>2012-03-20 18:21:44</td>\n",
              "      <td>Ok, when i heard this was the dinner venue for...</td>\n",
              "    </tr>\n",
              "    <tr>\n",
              "      <th>1261400</th>\n",
              "      <td>uch01q0I89VjLtfHXR5r-A</td>\n",
              "      <td>b207RNqIAhTd4JsRsnXB1Q</td>\n",
              "      <td>5.0</td>\n",
              "      <td>2014-03-29 22:19:41</td>\n",
              "      <td>One of my favorite restaurants.   We've been g...</td>\n",
              "    </tr>\n",
              "    <tr>\n",
              "      <th>...</th>\n",
              "      <td>...</td>\n",
              "      <td>...</td>\n",
              "      <td>...</td>\n",
              "      <td>...</td>\n",
              "      <td>...</td>\n",
              "    </tr>\n",
              "    <tr>\n",
              "      <th>1665285</th>\n",
              "      <td>Tr5iqhD4unIDpnPdugkdQQ</td>\n",
              "      <td>gZvwCOaMhxFXXNvy1q9_LA</td>\n",
              "      <td>4.0</td>\n",
              "      <td>2016-11-16 16:49:37</td>\n",
              "      <td>toute l'intimité d'un japonais de qualité, dan...</td>\n",
              "    </tr>\n",
              "    <tr>\n",
              "      <th>2304204</th>\n",
              "      <td>V8asoNKiCy23Px6d1idkLQ</td>\n",
              "      <td>C-u6Ywuq192icOblKm6oKg</td>\n",
              "      <td>4.0</td>\n",
              "      <td>2013-03-03 06:52:57</td>\n",
              "      <td>I am a pretty harsh critic when it comes to fo...</td>\n",
              "    </tr>\n",
              "    <tr>\n",
              "      <th>3289160</th>\n",
              "      <td>ri-yo9C3wVcnflXPfWsFjg</td>\n",
              "      <td>eaNenRk_liZBERFFLCXqqQ</td>\n",
              "      <td>5.0</td>\n",
              "      <td>2016-04-25 06:24:14</td>\n",
              "      <td>Great service!!! Our waitress NaNa is awesome!...</td>\n",
              "    </tr>\n",
              "    <tr>\n",
              "      <th>6337676</th>\n",
              "      <td>8cOea6vDRyKI73yF6ypSUA</td>\n",
              "      <td>7MNBIoGznDHhC1AfxGWOFw</td>\n",
              "      <td>1.0</td>\n",
              "      <td>2018-05-05 21:58:42</td>\n",
              "      <td>I have been trying to get internet set up at m...</td>\n",
              "    </tr>\n",
              "    <tr>\n",
              "      <th>2483072</th>\n",
              "      <td>_5fx5gexi9OeZIuukV2gHQ</td>\n",
              "      <td>9R5HJYxWadtirp3Lv9Di9g</td>\n",
              "      <td>4.0</td>\n",
              "      <td>2013-11-08 15:22:36</td>\n",
              "      <td>Visited here twice and liked my meal both time...</td>\n",
              "    </tr>\n",
              "  </tbody>\n",
              "</table>\n",
              "<p>1815308 rows × 5 columns</p>\n",
              "</div>"
            ],
            "text/plain": [
              "                        user_id  ...                                               text\n",
              "2372436  PlPqz0Ve742oKSWAwj2uYw  ...  My son and I decided to try this place for the...\n",
              "4557308  5HmK6riLkciM0Xxo1ycNTg  ...  Overall, last night's dinner was not as good a...\n",
              "3178155  z6gseuVl0cR7tRLQa_DXuQ  ...  I was craving congee this evening so I stumble...\n",
              "5118366  KvVV6iPB6I2aOiaXYKTtFg  ...  Ok, when i heard this was the dinner venue for...\n",
              "1261400  uch01q0I89VjLtfHXR5r-A  ...  One of my favorite restaurants.   We've been g...\n",
              "...                         ...  ...                                                ...\n",
              "1665285  Tr5iqhD4unIDpnPdugkdQQ  ...  toute l'intimité d'un japonais de qualité, dan...\n",
              "2304204  V8asoNKiCy23Px6d1idkLQ  ...  I am a pretty harsh critic when it comes to fo...\n",
              "3289160  ri-yo9C3wVcnflXPfWsFjg  ...  Great service!!! Our waitress NaNa is awesome!...\n",
              "6337676  8cOea6vDRyKI73yF6ypSUA  ...  I have been trying to get internet set up at m...\n",
              "2483072  _5fx5gexi9OeZIuukV2gHQ  ...  Visited here twice and liked my meal both time...\n",
              "\n",
              "[1815308 rows x 5 columns]"
            ]
          },
          "metadata": {
            "tags": []
          },
          "execution_count": 7
        }
      ]
    },
    {
      "cell_type": "code",
      "metadata": {
        "id": "JnjiiG6ivhFI",
        "colab_type": "code",
        "outputId": "7eeccf0e-8bc6-44c6-92e2-35fe2aa9bc05",
        "colab": {
          "base_uri": "https://localhost:8080/",
          "height": 34
        }
      },
      "source": [
        "type(ratings_active_users)"
      ],
      "execution_count": 0,
      "outputs": [
        {
          "output_type": "execute_result",
          "data": {
            "text/plain": [
              "pandas.core.frame.DataFrame"
            ]
          },
          "metadata": {
            "tags": []
          },
          "execution_count": 10
        }
      ]
    },
    {
      "cell_type": "code",
      "metadata": {
        "id": "F9szKSLBvhFK",
        "colab_type": "code",
        "outputId": "4d6a9faf-e9b7-42ed-d3f3-16616911d8b2",
        "colab": {
          "base_uri": "https://localhost:8080/",
          "height": 402
        }
      },
      "source": [
        "ratings_train[[\"rating\",\"text\"]]"
      ],
      "execution_count": 0,
      "outputs": [
        {
          "output_type": "execute_result",
          "data": {
            "text/html": [
              "<div>\n",
              "<style scoped>\n",
              "    .dataframe tbody tr th:only-of-type {\n",
              "        vertical-align: middle;\n",
              "    }\n",
              "\n",
              "    .dataframe tbody tr th {\n",
              "        vertical-align: top;\n",
              "    }\n",
              "\n",
              "    .dataframe thead th {\n",
              "        text-align: right;\n",
              "    }\n",
              "</style>\n",
              "<table border=\"1\" class=\"dataframe\">\n",
              "  <thead>\n",
              "    <tr style=\"text-align: right;\">\n",
              "      <th></th>\n",
              "      <th>rating</th>\n",
              "      <th>text</th>\n",
              "    </tr>\n",
              "  </thead>\n",
              "  <tbody>\n",
              "    <tr>\n",
              "      <th>2372436</th>\n",
              "      <td>5.0</td>\n",
              "      <td>My son and I decided to try this place for the...</td>\n",
              "    </tr>\n",
              "    <tr>\n",
              "      <th>4557308</th>\n",
              "      <td>3.0</td>\n",
              "      <td>Overall, last night's dinner was not as good a...</td>\n",
              "    </tr>\n",
              "    <tr>\n",
              "      <th>3178155</th>\n",
              "      <td>5.0</td>\n",
              "      <td>I was craving congee this evening so I stumble...</td>\n",
              "    </tr>\n",
              "    <tr>\n",
              "      <th>5118366</th>\n",
              "      <td>4.0</td>\n",
              "      <td>Ok, when i heard this was the dinner venue for...</td>\n",
              "    </tr>\n",
              "    <tr>\n",
              "      <th>1261400</th>\n",
              "      <td>5.0</td>\n",
              "      <td>One of my favorite restaurants.   We've been g...</td>\n",
              "    </tr>\n",
              "    <tr>\n",
              "      <th>...</th>\n",
              "      <td>...</td>\n",
              "      <td>...</td>\n",
              "    </tr>\n",
              "    <tr>\n",
              "      <th>1665285</th>\n",
              "      <td>4.0</td>\n",
              "      <td>toute l'intimité d'un japonais de qualité, dan...</td>\n",
              "    </tr>\n",
              "    <tr>\n",
              "      <th>2304204</th>\n",
              "      <td>4.0</td>\n",
              "      <td>I am a pretty harsh critic when it comes to fo...</td>\n",
              "    </tr>\n",
              "    <tr>\n",
              "      <th>3289160</th>\n",
              "      <td>5.0</td>\n",
              "      <td>Great service!!! Our waitress NaNa is awesome!...</td>\n",
              "    </tr>\n",
              "    <tr>\n",
              "      <th>6337676</th>\n",
              "      <td>1.0</td>\n",
              "      <td>I have been trying to get internet set up at m...</td>\n",
              "    </tr>\n",
              "    <tr>\n",
              "      <th>2483072</th>\n",
              "      <td>4.0</td>\n",
              "      <td>Visited here twice and liked my meal both time...</td>\n",
              "    </tr>\n",
              "  </tbody>\n",
              "</table>\n",
              "<p>1815308 rows × 2 columns</p>\n",
              "</div>"
            ],
            "text/plain": [
              "         rating                                               text\n",
              "2372436     5.0  My son and I decided to try this place for the...\n",
              "4557308     3.0  Overall, last night's dinner was not as good a...\n",
              "3178155     5.0  I was craving congee this evening so I stumble...\n",
              "5118366     4.0  Ok, when i heard this was the dinner venue for...\n",
              "1261400     5.0  One of my favorite restaurants.   We've been g...\n",
              "...         ...                                                ...\n",
              "1665285     4.0  toute l'intimité d'un japonais de qualité, dan...\n",
              "2304204     4.0  I am a pretty harsh critic when it comes to fo...\n",
              "3289160     5.0  Great service!!! Our waitress NaNa is awesome!...\n",
              "6337676     1.0  I have been trying to get internet set up at m...\n",
              "2483072     4.0  Visited here twice and liked my meal both time...\n",
              "\n",
              "[1815308 rows x 2 columns]"
            ]
          },
          "metadata": {
            "tags": []
          },
          "execution_count": 11
        }
      ]
    },
    {
      "cell_type": "code",
      "metadata": {
        "id": "Ens1R1p_vhFN",
        "colab_type": "code",
        "outputId": "29799348-bbf5-49b7-fb6e-e158e9f7ab5b",
        "colab": {
          "base_uri": "https://localhost:8080/",
          "height": 284
        }
      },
      "source": [
        "ratings_train.describe()"
      ],
      "execution_count": 0,
      "outputs": [
        {
          "output_type": "execute_result",
          "data": {
            "text/html": [
              "<div>\n",
              "<style scoped>\n",
              "    .dataframe tbody tr th:only-of-type {\n",
              "        vertical-align: middle;\n",
              "    }\n",
              "\n",
              "    .dataframe tbody tr th {\n",
              "        vertical-align: top;\n",
              "    }\n",
              "\n",
              "    .dataframe thead th {\n",
              "        text-align: right;\n",
              "    }\n",
              "</style>\n",
              "<table border=\"1\" class=\"dataframe\">\n",
              "  <thead>\n",
              "    <tr style=\"text-align: right;\">\n",
              "      <th></th>\n",
              "      <th>rating</th>\n",
              "    </tr>\n",
              "  </thead>\n",
              "  <tbody>\n",
              "    <tr>\n",
              "      <th>count</th>\n",
              "      <td>1.815308e+06</td>\n",
              "    </tr>\n",
              "    <tr>\n",
              "      <th>mean</th>\n",
              "      <td>3.748768e+00</td>\n",
              "    </tr>\n",
              "    <tr>\n",
              "      <th>std</th>\n",
              "      <td>1.362879e+00</td>\n",
              "    </tr>\n",
              "    <tr>\n",
              "      <th>min</th>\n",
              "      <td>1.000000e+00</td>\n",
              "    </tr>\n",
              "    <tr>\n",
              "      <th>25%</th>\n",
              "      <td>3.000000e+00</td>\n",
              "    </tr>\n",
              "    <tr>\n",
              "      <th>50%</th>\n",
              "      <td>4.000000e+00</td>\n",
              "    </tr>\n",
              "    <tr>\n",
              "      <th>75%</th>\n",
              "      <td>5.000000e+00</td>\n",
              "    </tr>\n",
              "    <tr>\n",
              "      <th>max</th>\n",
              "      <td>5.000000e+00</td>\n",
              "    </tr>\n",
              "  </tbody>\n",
              "</table>\n",
              "</div>"
            ],
            "text/plain": [
              "             rating\n",
              "count  1.815308e+06\n",
              "mean   3.748768e+00\n",
              "std    1.362879e+00\n",
              "min    1.000000e+00\n",
              "25%    3.000000e+00\n",
              "50%    4.000000e+00\n",
              "75%    5.000000e+00\n",
              "max    5.000000e+00"
            ]
          },
          "metadata": {
            "tags": []
          },
          "execution_count": 12
        }
      ]
    },
    {
      "cell_type": "code",
      "metadata": {
        "id": "69YNpncCvhFQ",
        "colab_type": "code",
        "colab": {}
      },
      "source": [
        "labels = ratings_train['rating'].map(lambda x : 1 if int(x) > 3 else 0)"
      ],
      "execution_count": 0,
      "outputs": []
    },
    {
      "cell_type": "code",
      "metadata": {
        "id": "0-JFdSA0y9sY",
        "colab_type": "code",
        "outputId": "633d61dc-4a3c-485c-8326-28dee6c799c2",
        "colab": {
          "base_uri": "https://localhost:8080/",
          "height": 67
        }
      },
      "source": [
        "nltk.download('stopwords')"
      ],
      "execution_count": 0,
      "outputs": [
        {
          "output_type": "stream",
          "text": [
            "[nltk_data] Downloading package stopwords to /root/nltk_data...\n",
            "[nltk_data]   Package stopwords is already up-to-date!\n"
          ],
          "name": "stdout"
        },
        {
          "output_type": "execute_result",
          "data": {
            "text/plain": [
              "True"
            ]
          },
          "metadata": {
            "tags": []
          },
          "execution_count": 9
        }
      ]
    },
    {
      "cell_type": "code",
      "metadata": {
        "id": "s6ncehkjvhFS",
        "colab_type": "code",
        "colab": {}
      },
      "source": [
        "def clean_text(text):\n",
        "    \n",
        "    ## Remove puncuation\n",
        "    text = text.translate(string.punctuation)\n",
        "    \n",
        "    ## Convert words to lower case and split them\n",
        "    text = text.lower().split()\n",
        "    \n",
        "    ## Remove stop words\n",
        "    stops = set(stopwords.words(\"english\"))\n",
        "    text = [w for w in text if not w in stops and len(w) >= 3]\n",
        "    \n",
        "    text = \" \".join(text)\n",
        "\n",
        "    # Clean the text\n",
        "    text = re.sub(r\"[^A-Za-z0-9^,!.\\/'+-=]\", \" \", text)\n",
        "    text = re.sub(r\"what's\", \"what is \", text)\n",
        "    text = re.sub(r\"\\'s\", \" \", text)\n",
        "    text = re.sub(r\"\\'ve\", \" have \", text)\n",
        "    text = re.sub(r\"n't\", \" not \", text)\n",
        "    text = re.sub(r\"i'm\", \"i am \", text)\n",
        "    text = re.sub(r\"\\'re\", \" are \", text)\n",
        "    text = re.sub(r\"\\'d\", \" would \", text)\n",
        "    text = re.sub(r\"\\'ll\", \" will \", text)\n",
        "    text = re.sub(r\",\", \" \", text)\n",
        "    text = re.sub(r\"\\.\", \" \", text)\n",
        "    text = re.sub(r\"!\", \" ! \", text)\n",
        "    text = re.sub(r\"\\/\", \" \", text)\n",
        "    text = re.sub(r\"\\^\", \" ^ \", text)\n",
        "    text = re.sub(r\"\\+\", \" + \", text)\n",
        "    text = re.sub(r\"\\-\", \" - \", text)\n",
        "    text = re.sub(r\"\\=\", \" = \", text)\n",
        "    text = re.sub(r\"'\", \" \", text)\n",
        "    text = re.sub(r\"(\\d+)(k)\", r\"\\g<1>000\", text)\n",
        "    text = re.sub(r\":\", \" : \", text)\n",
        "    text = re.sub(r\" e g \", \" eg \", text)\n",
        "    text = re.sub(r\" b g \", \" bg \", text)\n",
        "    text = re.sub(r\" u s \", \" american \", text)\n",
        "    text = re.sub(r\"\\0s\", \"0\", text)\n",
        "    text = re.sub(r\" 9 11 \", \"911\", text)\n",
        "    text = re.sub(r\"e - mail\", \"email\", text)\n",
        "    text = re.sub(r\"j k\", \"jk\", text)\n",
        "    text = re.sub(r\"\\s{2,}\", \" \", text)\n",
        "    \n",
        "    text = text.split()\n",
        "    stemmer = SnowballStemmer('english')\n",
        "    stemmed_words = [stemmer.stem(word) for word in text]\n",
        "    text = \" \".join(stemmed_words)\n",
        "\n",
        "    return text"
      ],
      "execution_count": 0,
      "outputs": []
    },
    {
      "cell_type": "code",
      "metadata": {
        "id": "ueVFi2hAvhFU",
        "colab_type": "code",
        "outputId": "ef89b80f-dc23-4781-96e7-55ad3d3c230e",
        "colab": {
          "base_uri": "https://localhost:8080/",
          "height": 151
        }
      },
      "source": [
        "ratings_train['text'] = ratings_train['text'].map(lambda x: clean_text(x))"
      ],
      "execution_count": 0,
      "outputs": [
        {
          "output_type": "stream",
          "text": [
            "/usr/local/lib/python3.6/dist-packages/ipykernel_launcher.py:1: SettingWithCopyWarning:\n",
            "\n",
            "\n",
            "A value is trying to be set on a copy of a slice from a DataFrame.\n",
            "Try using .loc[row_indexer,col_indexer] = value instead\n",
            "\n",
            "See the caveats in the documentation: http://pandas.pydata.org/pandas-docs/stable/user_guide/indexing.html#returning-a-view-versus-a-copy\n",
            "\n"
          ],
          "name": "stderr"
        }
      ]
    },
    {
      "cell_type": "code",
      "metadata": {
        "id": "sHFyMDSRvhFX",
        "colab_type": "code",
        "colab": {}
      },
      "source": [
        "vocabulary_size = 20000\n",
        "tokenizer = Tokenizer(num_words= vocabulary_size)\n",
        "tokenizer.fit_on_texts(ratings_train['text'])\n",
        "\n",
        "sequences = tokenizer.texts_to_sequences(ratings_train['text'])\n",
        "data = pad_sequences(sequences, maxlen=50)"
      ],
      "execution_count": 0,
      "outputs": []
    },
    {
      "cell_type": "code",
      "metadata": {
        "id": "UYxsY9mwvhFZ",
        "colab_type": "code",
        "outputId": "a1013e4e-6585-4160-c0dd-ea7c316eea2b",
        "colab": {
          "base_uri": "https://localhost:8080/",
          "height": 34
        }
      },
      "source": [
        "print(data.shape)"
      ],
      "execution_count": 0,
      "outputs": [
        {
          "output_type": "stream",
          "text": [
            "(1815308, 50)\n"
          ],
          "name": "stdout"
        }
      ]
    },
    {
      "cell_type": "code",
      "metadata": {
        "id": "ib-84_QPvhFb",
        "colab_type": "code",
        "outputId": "82f8a911-deff-43b1-af52-e0902ba7a576",
        "colab": {
          "base_uri": "https://localhost:8080/",
          "height": 339
        }
      },
      "source": [
        "model_lstm = Sequential()\n",
        "model_lstm.add(Embedding(20000, 100, input_length=50))\n",
        "model_lstm.add(LSTM(100, dropout=0.2, recurrent_dropout=0.2))\n",
        "model_lstm.add(Dense(1, activation='sigmoid'))\n",
        "model_lstm.compile(loss='binary_crossentropy', optimizer='adam', metrics=['accuracy'])"
      ],
      "execution_count": 0,
      "outputs": [
        {
          "output_type": "stream",
          "text": [
            "WARNING:tensorflow:From /usr/local/lib/python3.6/dist-packages/keras/backend/tensorflow_backend.py:66: The name tf.get_default_graph is deprecated. Please use tf.compat.v1.get_default_graph instead.\n",
            "\n",
            "WARNING:tensorflow:From /usr/local/lib/python3.6/dist-packages/keras/backend/tensorflow_backend.py:541: The name tf.placeholder is deprecated. Please use tf.compat.v1.placeholder instead.\n",
            "\n",
            "WARNING:tensorflow:From /usr/local/lib/python3.6/dist-packages/keras/backend/tensorflow_backend.py:4432: The name tf.random_uniform is deprecated. Please use tf.random.uniform instead.\n",
            "\n",
            "WARNING:tensorflow:From /usr/local/lib/python3.6/dist-packages/keras/backend/tensorflow_backend.py:148: The name tf.placeholder_with_default is deprecated. Please use tf.compat.v1.placeholder_with_default instead.\n",
            "\n",
            "WARNING:tensorflow:From /usr/local/lib/python3.6/dist-packages/keras/backend/tensorflow_backend.py:3733: calling dropout (from tensorflow.python.ops.nn_ops) with keep_prob is deprecated and will be removed in a future version.\n",
            "Instructions for updating:\n",
            "Please use `rate` instead of `keep_prob`. Rate should be set to `rate = 1 - keep_prob`.\n",
            "WARNING:tensorflow:From /usr/local/lib/python3.6/dist-packages/keras/optimizers.py:793: The name tf.train.Optimizer is deprecated. Please use tf.compat.v1.train.Optimizer instead.\n",
            "\n",
            "WARNING:tensorflow:From /usr/local/lib/python3.6/dist-packages/keras/backend/tensorflow_backend.py:3657: The name tf.log is deprecated. Please use tf.math.log instead.\n",
            "\n",
            "WARNING:tensorflow:From /usr/local/lib/python3.6/dist-packages/tensorflow_core/python/ops/nn_impl.py:183: where (from tensorflow.python.ops.array_ops) is deprecated and will be removed in a future version.\n",
            "Instructions for updating:\n",
            "Use tf.where in 2.0, which has the same broadcast rule as np.where\n"
          ],
          "name": "stdout"
        }
      ]
    },
    {
      "cell_type": "code",
      "metadata": {
        "id": "VQnC1YgsvhFf",
        "colab_type": "code",
        "outputId": "ef755351-0a6c-41cf-f235-0586dd62e4c6",
        "colab": {
          "base_uri": "https://localhost:8080/",
          "height": 390
        }
      },
      "source": [
        "model_lstm.fit(data, np.array(labels), validation_split=0.4, epochs=3)"
      ],
      "execution_count": 0,
      "outputs": [
        {
          "output_type": "stream",
          "text": [
            "WARNING:tensorflow:From /usr/local/lib/python3.6/dist-packages/keras/backend/tensorflow_backend.py:1033: The name tf.assign_add is deprecated. Please use tf.compat.v1.assign_add instead.\n",
            "\n",
            "WARNING:tensorflow:From /usr/local/lib/python3.6/dist-packages/keras/backend/tensorflow_backend.py:1020: The name tf.assign is deprecated. Please use tf.compat.v1.assign instead.\n",
            "\n",
            "WARNING:tensorflow:From /usr/local/lib/python3.6/dist-packages/keras/backend/tensorflow_backend.py:3005: The name tf.Session is deprecated. Please use tf.compat.v1.Session instead.\n",
            "\n",
            "Train on 1089184 samples, validate on 726124 samples\n",
            "Epoch 1/3\n",
            "WARNING:tensorflow:From /usr/local/lib/python3.6/dist-packages/keras/backend/tensorflow_backend.py:190: The name tf.get_default_session is deprecated. Please use tf.compat.v1.get_default_session instead.\n",
            "\n",
            "WARNING:tensorflow:From /usr/local/lib/python3.6/dist-packages/keras/backend/tensorflow_backend.py:197: The name tf.ConfigProto is deprecated. Please use tf.compat.v1.ConfigProto instead.\n",
            "\n",
            "WARNING:tensorflow:From /usr/local/lib/python3.6/dist-packages/keras/backend/tensorflow_backend.py:207: The name tf.global_variables is deprecated. Please use tf.compat.v1.global_variables instead.\n",
            "\n",
            "WARNING:tensorflow:From /usr/local/lib/python3.6/dist-packages/keras/backend/tensorflow_backend.py:216: The name tf.is_variable_initialized is deprecated. Please use tf.compat.v1.is_variable_initialized instead.\n",
            "\n",
            "WARNING:tensorflow:From /usr/local/lib/python3.6/dist-packages/keras/backend/tensorflow_backend.py:223: The name tf.variables_initializer is deprecated. Please use tf.compat.v1.variables_initializer instead.\n",
            "\n",
            "1089184/1089184 [==============================] - 3900s 4ms/step - loss: 0.2995 - acc: 0.8717 - val_loss: 0.2740 - val_acc: 0.8834\n",
            "Epoch 2/3\n",
            " 719168/1089184 [==================>...........] - ETA: 20:33 - loss: 0.2623 - acc: 0.8892Buffered data was truncated after reaching the output size limit."
          ],
          "name": "stdout"
        }
      ]
    },
    {
      "cell_type": "code",
      "metadata": {
        "id": "17znJCBwNG05",
        "colab_type": "code",
        "colab": {}
      },
      "source": [
        ""
      ],
      "execution_count": 0,
      "outputs": []
    },
    {
      "cell_type": "code",
      "metadata": {
        "id": "svDpUnk8vhFj",
        "colab_type": "code",
        "colab": {}
      },
      "source": [
        "def create_conv_model():\n",
        "\n",
        "  model_conv = Sequential()\n",
        "  model_conv.add(Embedding(vocabulary_size, 100, input_length=50))\n",
        "  model_conv.add(Dropout(0.2))\n",
        "  model_conv.add(Conv1D(64, 5, activation='relu'))\n",
        "  model_conv.add(MaxPooling1D(pool_size=4))\n",
        "  model_conv.add(LSTM(100))\n",
        "  model_conv.add(Dense(1, activation='sigmoid'))\n",
        "  model_conv.compile(loss='binary_crossentropy', optimizer='adam', metrics=['accuracy'])\n",
        "  return model_conv"
      ],
      "execution_count": 0,
      "outputs": []
    },
    {
      "cell_type": "code",
      "metadata": {
        "id": "R_FtfuowvhFl",
        "colab_type": "code",
        "outputId": "8d3f084b-3681-4a09-e607-156eb854b0d3",
        "colab": {
          "base_uri": "https://localhost:8080/",
          "height": 151
        }
      },
      "source": [
        "model_conv = create_conv_model()\n",
        "model_conv.fit(data, np.array(labels), validation_split=0.4, epochs = 3)"
      ],
      "execution_count": 0,
      "outputs": [
        {
          "output_type": "stream",
          "text": [
            "Train on 1089184 samples, validate on 726124 samples\n",
            "Epoch 1/3\n",
            "1089184/1089184 [==============================] - 2406s 2ms/step - loss: 0.3083 - acc: 0.8668 - val_loss: 0.2878 - val_acc: 0.8772\n",
            "Epoch 2/3\n",
            "1089184/1089184 [==============================] - 2415s 2ms/step - loss: 0.2759 - acc: 0.8829 - val_loss: 0.2840 - val_acc: 0.8792\n",
            "Epoch 3/3\n",
            "1089184/1089184 [==============================] - 2449s 2ms/step - loss: 0.2607 - acc: 0.8904 - val_loss: 0.2843 - val_acc: 0.8799\n"
          ],
          "name": "stdout"
        },
        {
          "output_type": "execute_result",
          "data": {
            "text/plain": [
              "<keras.callbacks.History at 0x7f82237aa438>"
            ]
          },
          "metadata": {
            "tags": []
          },
          "execution_count": 25
        }
      ]
    },
    {
      "cell_type": "code",
      "metadata": {
        "id": "N8olPtdqvhFo",
        "colab_type": "code",
        "colab": {}
      },
      "source": [
        "df_save = pd.DataFrame(data)\n",
        "df_label = pd.DataFrame(np.array(labels))"
      ],
      "execution_count": 0,
      "outputs": []
    },
    {
      "cell_type": "code",
      "metadata": {
        "id": "AmK80GTQvhFs",
        "colab_type": "code",
        "colab": {}
      },
      "source": [
        "result = pd.concat([df_save, df_label], axis = 1)"
      ],
      "execution_count": 0,
      "outputs": []
    },
    {
      "cell_type": "code",
      "metadata": {
        "id": "XZw1ECChvhFw",
        "colab_type": "code",
        "colab": {}
      },
      "source": [
        "result.to_csv('train_dense_word_vectors.csv', index=False)"
      ],
      "execution_count": 0,
      "outputs": []
    },
    {
      "cell_type": "code",
      "metadata": {
        "id": "-8-MjZINMmpT",
        "colab_type": "code",
        "colab": {}
      },
      "source": [
        "model_conv.save_weights('model_conv.h5')\n",
        "\n",
        "# Save the model architecture\n",
        "with open('model_conv_a.json', 'w') as f:\n",
        "    f.write(model_conv.to_json())"
      ],
      "execution_count": 0,
      "outputs": []
    },
    {
      "cell_type": "code",
      "metadata": {
        "id": "062evxQ4NIo6",
        "colab_type": "code",
        "colab": {}
      },
      "source": [
        "model_lstm.save_weights('model_lstm.h5')\n",
        "\n",
        "# Save the model architecture\n",
        "with open('model_lstm_a.json', 'w') as f:\n",
        "    f.write(model_lstm.to_json())"
      ],
      "execution_count": 0,
      "outputs": []
    },
    {
      "cell_type": "code",
      "metadata": {
        "id": "zD6IaPIwvhF0",
        "colab_type": "code",
        "outputId": "c7dbdaf5-5921-4cf4-8edb-c06d1e6d3f6d",
        "colab": {
          "base_uri": "https://localhost:8080/",
          "height": 34
        }
      },
      "source": [
        "embeddings_index = dict()\n",
        "f = open('glove.6B.100d.txt')\n",
        "for line in f:\n",
        "    values = line.split()\n",
        "    word = values[0]\n",
        "    coefs = np.asarray(values[1:], dtype='float32')\n",
        "    embeddings_index[word] = coefs\n",
        "f.close()\n",
        "print('Loaded %s word vectors.' % len(embeddings_index))"
      ],
      "execution_count": 0,
      "outputs": [
        {
          "output_type": "stream",
          "text": [
            "Loaded 340021 word vectors.\n"
          ],
          "name": "stdout"
        }
      ]
    },
    {
      "cell_type": "code",
      "metadata": {
        "id": "MbjU4WJkvhF5",
        "colab_type": "code",
        "colab": {}
      },
      "source": [
        "embedding_matrix = np.zeros((vocabulary_size, 100))\n",
        "for word, index in tokenizer.word_index.items():\n",
        "    if index > vocabulary_size - 1:\n",
        "        break\n",
        "    else:\n",
        "        embedding_vector = embeddings_index.get(word)\n",
        "        if embedding_vector is not None:\n",
        "            embedding_matrix[index] = embedding_vector"
      ],
      "execution_count": 0,
      "outputs": []
    },
    {
      "cell_type": "code",
      "metadata": {
        "id": "Eot82wLDvhF9",
        "colab_type": "code",
        "outputId": "640b6c9c-b13d-4e1f-a9f6-f663b8fcc5e1",
        "colab": {
          "base_uri": "https://localhost:8080/",
          "height": 574
        }
      },
      "source": [
        "model_glove = Sequential()\n",
        "model_glove.add(Embedding(vocabulary_size, 100, input_length=50, weights=[embedding_matrix], trainable=False))\n",
        "model_glove.add(Dropout(0.2))\n",
        "model_glove.add(Conv1D(64, 5, activation='relu'))\n",
        "model_glove.add(MaxPooling1D(pool_size=4))\n",
        "model_glove.add(LSTM(100))\n",
        "model_glove.add(Dense(1, activation='sigmoid'))\n",
        "model_glove.compile(loss='binary_crossentropy', optimizer='adam', metrics=['accuracy'])"
      ],
      "execution_count": 0,
      "outputs": [
        {
          "output_type": "stream",
          "text": [
            "WARNING:tensorflow:From /usr/local/lib/python3.6/dist-packages/keras/backend/tensorflow_backend.py:66: The name tf.get_default_graph is deprecated. Please use tf.compat.v1.get_default_graph instead.\n",
            "\n",
            "WARNING:tensorflow:From /usr/local/lib/python3.6/dist-packages/keras/backend/tensorflow_backend.py:541: The name tf.placeholder is deprecated. Please use tf.compat.v1.placeholder instead.\n",
            "\n",
            "WARNING:tensorflow:From /usr/local/lib/python3.6/dist-packages/keras/backend/tensorflow_backend.py:4432: The name tf.random_uniform is deprecated. Please use tf.random.uniform instead.\n",
            "\n",
            "WARNING:tensorflow:From /usr/local/lib/python3.6/dist-packages/keras/backend/tensorflow_backend.py:190: The name tf.get_default_session is deprecated. Please use tf.compat.v1.get_default_session instead.\n",
            "\n",
            "WARNING:tensorflow:From /usr/local/lib/python3.6/dist-packages/keras/backend/tensorflow_backend.py:197: The name tf.ConfigProto is deprecated. Please use tf.compat.v1.ConfigProto instead.\n",
            "\n",
            "WARNING:tensorflow:From /usr/local/lib/python3.6/dist-packages/keras/backend/tensorflow_backend.py:203: The name tf.Session is deprecated. Please use tf.compat.v1.Session instead.\n",
            "\n",
            "WARNING:tensorflow:From /usr/local/lib/python3.6/dist-packages/keras/backend/tensorflow_backend.py:207: The name tf.global_variables is deprecated. Please use tf.compat.v1.global_variables instead.\n",
            "\n",
            "WARNING:tensorflow:From /usr/local/lib/python3.6/dist-packages/keras/backend/tensorflow_backend.py:216: The name tf.is_variable_initialized is deprecated. Please use tf.compat.v1.is_variable_initialized instead.\n",
            "\n",
            "WARNING:tensorflow:From /usr/local/lib/python3.6/dist-packages/keras/backend/tensorflow_backend.py:223: The name tf.variables_initializer is deprecated. Please use tf.compat.v1.variables_initializer instead.\n",
            "\n",
            "WARNING:tensorflow:From /usr/local/lib/python3.6/dist-packages/keras/backend/tensorflow_backend.py:148: The name tf.placeholder_with_default is deprecated. Please use tf.compat.v1.placeholder_with_default instead.\n",
            "\n",
            "WARNING:tensorflow:From /usr/local/lib/python3.6/dist-packages/keras/backend/tensorflow_backend.py:3733: calling dropout (from tensorflow.python.ops.nn_ops) with keep_prob is deprecated and will be removed in a future version.\n",
            "Instructions for updating:\n",
            "Please use `rate` instead of `keep_prob`. Rate should be set to `rate = 1 - keep_prob`.\n",
            "WARNING:tensorflow:From /usr/local/lib/python3.6/dist-packages/keras/backend/tensorflow_backend.py:4267: The name tf.nn.max_pool is deprecated. Please use tf.nn.max_pool2d instead.\n",
            "\n",
            "WARNING:tensorflow:From /usr/local/lib/python3.6/dist-packages/keras/optimizers.py:793: The name tf.train.Optimizer is deprecated. Please use tf.compat.v1.train.Optimizer instead.\n",
            "\n",
            "WARNING:tensorflow:From /usr/local/lib/python3.6/dist-packages/keras/backend/tensorflow_backend.py:3657: The name tf.log is deprecated. Please use tf.math.log instead.\n",
            "\n",
            "WARNING:tensorflow:From /usr/local/lib/python3.6/dist-packages/tensorflow_core/python/ops/nn_impl.py:183: where (from tensorflow.python.ops.array_ops) is deprecated and will be removed in a future version.\n",
            "Instructions for updating:\n",
            "Use tf.where in 2.0, which has the same broadcast rule as np.where\n"
          ],
          "name": "stdout"
        }
      ]
    },
    {
      "cell_type": "code",
      "metadata": {
        "id": "Ekopl7isvhGB",
        "colab_type": "code",
        "outputId": "80bd9bd7-3b5d-43f8-80fb-3b518399a668",
        "colab": {
          "base_uri": "https://localhost:8080/",
          "height": 238
        }
      },
      "source": [
        "model_glove.fit(data, np.array(labels), validation_split=0.4, epochs = 3)"
      ],
      "execution_count": 0,
      "outputs": [
        {
          "output_type": "stream",
          "text": [
            "WARNING:tensorflow:From /usr/local/lib/python3.6/dist-packages/keras/backend/tensorflow_backend.py:1033: The name tf.assign_add is deprecated. Please use tf.compat.v1.assign_add instead.\n",
            "\n",
            "WARNING:tensorflow:From /usr/local/lib/python3.6/dist-packages/keras/backend/tensorflow_backend.py:1020: The name tf.assign is deprecated. Please use tf.compat.v1.assign instead.\n",
            "\n",
            "Train on 1089184 samples, validate on 726124 samples\n",
            "Epoch 1/3\n",
            "1089184/1089184 [==============================] - 1188s 1ms/step - loss: 0.4205 - acc: 0.8045 - val_loss: 0.3814 - val_acc: 0.8280\n",
            "Epoch 2/3\n",
            "1089184/1089184 [==============================] - 1193s 1ms/step - loss: 0.3901 - acc: 0.8218 - val_loss: 0.3771 - val_acc: 0.8306\n",
            "Epoch 3/3\n",
            "1089184/1089184 [==============================] - 1203s 1ms/step - loss: 0.3826 - acc: 0.8263 - val_loss: 0.3689 - val_acc: 0.8341\n"
          ],
          "name": "stdout"
        },
        {
          "output_type": "execute_result",
          "data": {
            "text/plain": [
              "<keras.callbacks.History at 0x7fdbded56860>"
            ]
          },
          "metadata": {
            "tags": []
          },
          "execution_count": 20
        }
      ]
    },
    {
      "cell_type": "code",
      "metadata": {
        "id": "1iBEA8sXOn_Z",
        "colab_type": "code",
        "colab": {}
      },
      "source": [
        "model_glove.save_weights('model_glove.h5')\n",
        "\n",
        "# Save the model architecture\n",
        "with open('model_glove_a.json', 'w') as f:\n",
        "    f.write(model_glove.to_json())"
      ],
      "execution_count": 0,
      "outputs": []
    },
    {
      "cell_type": "code",
      "metadata": {
        "id": "LQQYYqifvhGD",
        "colab_type": "code",
        "colab": {}
      },
      "source": [
        "lstm_embds = model_lstm.layers[0].get_weights()[0]\n",
        "conv_embds = model_conv.layers[0].get_weights()[0]\n",
        "glove_emds = model_glove.layers[0].get_weights()[0]"
      ],
      "execution_count": 0,
      "outputs": []
    },
    {
      "cell_type": "code",
      "metadata": {
        "id": "Pdju_7dOOnJN",
        "colab_type": "code",
        "colab": {}
      },
      "source": [
        ""
      ],
      "execution_count": 0,
      "outputs": []
    }
  ]
}