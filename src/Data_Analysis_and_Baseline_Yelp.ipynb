{
  "nbformat": 4,
  "nbformat_minor": 0,
  "metadata": {
    "colab": {
      "name": "Data Analysis and Baseline-Yelp.ipynb",
      "provenance": []
    },
    "kernelspec": {
      "name": "python3",
      "display_name": "Python 3"
    }
  },
  "cells": [
    {
      "cell_type": "markdown",
      "metadata": {
        "id": "xqxVhnTcZ4CT",
        "colab_type": "text"
      },
      "source": [
        "#Importing Libraries"
      ]
    },
    {
      "cell_type": "code",
      "metadata": {
        "id": "WMTXX0UJ6alF",
        "colab_type": "code",
        "outputId": "bf0b812e-6477-48b0-8d49-985cdebcbece",
        "colab": {
          "base_uri": "https://localhost:8080/",
          "height": 189
        }
      },
      "source": [
        "from google.colab import drive\n",
        "drive.mount('/content/drive/', force_remount=True)"
      ],
      "execution_count": 1,
      "outputs": [
        {
          "output_type": "stream",
          "text": [
            "Go to this URL in a browser: https://accounts.google.com/o/oauth2/auth?client_id=947318989803-6bn6qk8qdgf4n4g3pfee6491hc0brc4i.apps.googleusercontent.com&redirect_uri=urn%3aietf%3awg%3aoauth%3a2.0%3aoob&response_type=code&scope=email%20https%3a%2f%2fwww.googleapis.com%2fauth%2fdocs.test%20https%3a%2f%2fwww.googleapis.com%2fauth%2fdrive%20https%3a%2f%2fwww.googleapis.com%2fauth%2fdrive.photos.readonly%20https%3a%2f%2fwww.googleapis.com%2fauth%2fpeopleapi.readonly\n",
            "\n",
            "Enter your authorization code:\n",
            "··········\n",
            "Mounted at /content/drive/\n"
          ],
          "name": "stdout"
        }
      ]
    },
    {
      "cell_type": "code",
      "metadata": {
        "id": "8nVmbZH-6iwP",
        "colab_type": "code",
        "outputId": "3f0f4d2c-dca8-4d63-9a7e-d6eff63e3b2e",
        "colab": {
          "base_uri": "https://localhost:8080/",
          "height": 318
        }
      },
      "source": [
        "!apt-get install openjdk-8-jdk-headless -qq > /dev/null\n",
        "!wget -q http://apache.osuosl.org/spark/spark-2.4.4/spark-2.4.4-bin-hadoop2.7.tgz\n",
        "!tar xf spark-2.4.4-bin-hadoop2.7.tgz\n",
        "!pip install -q findspark\n",
        "\n",
        "import os\n",
        "os.environ[\"JAVA_HOME\"] = \"/usr/lib/jvm/java-8-openjdk-amd64\"\n",
        "os.environ[\"SPARK_HOME\"] = \"/content/spark-2.4.4-bin-hadoop2.7\"\n",
        "\n",
        "!java -version\n",
        "!sudo update-alternatives --config java\n",
        "!java -version/\n",
        "\n",
        "import findspark\n",
        "findspark.init()\n",
        "from pyspark.sql import SparkSession\n",
        "spark = SparkSession.builder.master(\"local[*]\").getOrCreate()\n",
        "\n",
        "#importing libraries for spark mllib \n",
        "from pyspark.ml import Pipeline\n",
        "from pyspark.ml.classification import DecisionTreeClassifier\n",
        "from pyspark.ml.feature import StringIndexer, VectorIndexer\n",
        "from pyspark.ml.evaluation import MulticlassClassificationEvaluator\n",
        "from pyspark.ml.feature import OneHotEncoder, StringIndexer\n",
        "from pyspark.ml.evaluation import RegressionEvaluator\n",
        "from pyspark.ml.recommendation import ALS\n",
        "from pyspark.sql import Row"
      ],
      "execution_count": 2,
      "outputs": [
        {
          "output_type": "stream",
          "text": [
            "openjdk version \"11.0.5\" 2019-10-15\n",
            "OpenJDK Runtime Environment (build 11.0.5+10-post-Ubuntu-0ubuntu1.118.04)\n",
            "OpenJDK 64-Bit Server VM (build 11.0.5+10-post-Ubuntu-0ubuntu1.118.04, mixed mode, sharing)\n",
            "There are 2 choices for the alternative java (providing /usr/bin/java).\n",
            "\n",
            "  Selection    Path                                            Priority   Status\n",
            "------------------------------------------------------------\n",
            "* 0            /usr/lib/jvm/java-11-openjdk-amd64/bin/java      1111      auto mode\n",
            "  1            /usr/lib/jvm/java-11-openjdk-amd64/bin/java      1111      manual mode\n",
            "  2            /usr/lib/jvm/java-8-openjdk-amd64/jre/bin/java   1081      manual mode\n",
            "\n",
            "Press <enter> to keep the current choice[*], or type selection number: 2\n",
            "update-alternatives: using /usr/lib/jvm/java-8-openjdk-amd64/jre/bin/java to provide /usr/bin/java (java) in manual mode\n",
            "Unrecognized option: -version/\n",
            "Error: Could not create the Java Virtual Machine.\n",
            "Error: A fatal exception has occurred. Program will exit.\n"
          ],
          "name": "stdout"
        }
      ]
    },
    {
      "cell_type": "code",
      "metadata": {
        "id": "0RIgsg0t6yS8",
        "colab_type": "code",
        "outputId": "b2dc3390-5980-45d7-a23b-c07c53d7012a",
        "colab": {
          "base_uri": "https://localhost:8080/",
          "height": 276
        }
      },
      "source": [
        "import pandas as pd\n",
        "from datetime import datetime\n",
        "from pyspark.sql.types import *\n",
        "\n",
        "!pip install git+https://github.com/coreylynch/pyFM\n",
        "import numpy as np\n",
        "import pandas as pd\n",
        "from datetime import datetime\n",
        "import json\n",
        "from tqdm import tqdm\n",
        "from sklearn.preprocessing import MultiLabelBinarizer\n",
        "import itertools\n",
        "import scipy as sp\n",
        "from sklearn.feature_extraction import DictVectorizer\n",
        "from pyfm import pylibfm\n",
        "from sklearn.preprocessing import normalize\n",
        "from scipy import sparse\n",
        "\n",
        "from numpy.linalg import norm\n",
        "from sklearn.pipeline import FeatureUnion\n",
        "#from transformers import *\n",
        "from scipy.sparse import coo_matrix\n",
        "#import simplejson as json\n",
        "from datetime import datetime\n",
        "#from sklearn.model_selection import cross_validate\n",
        "#from sklearn.cross_validation import train_test_split\n",
        "from sklearn.preprocessing import OneHotEncoder"
      ],
      "execution_count": 3,
      "outputs": [
        {
          "output_type": "stream",
          "text": [
            "Collecting git+https://github.com/coreylynch/pyFM\n",
            "  Cloning https://github.com/coreylynch/pyFM to /tmp/pip-req-build-7c5vpglc\n",
            "  Running command git clone -q https://github.com/coreylynch/pyFM /tmp/pip-req-build-7c5vpglc\n",
            "Building wheels for collected packages: pyfm\n",
            "  Building wheel for pyfm (setup.py) ... \u001b[?25l\u001b[?25hdone\n",
            "  Created wheel for pyfm: filename=pyfm-0.0.0-cp36-cp36m-linux_x86_64.whl size=220633 sha256=178710951a08656f3b0f9b11dfd55a3c85b4b41f9aa2437263f6ce314341749e\n",
            "  Stored in directory: /tmp/pip-ephem-wheel-cache-05b87coi/wheels/3b/d9/ef/1b148c527d39344632833679e79b3db1798a40b0f64f917b13\n",
            "Successfully built pyfm\n",
            "Installing collected packages: pyfm\n",
            "Successfully installed pyfm-0.0.0\n"
          ],
          "name": "stdout"
        }
      ]
    },
    {
      "cell_type": "code",
      "metadata": {
        "id": "5vb5p5_8CWXp",
        "colab_type": "code",
        "colab": {}
      },
      "source": [
        "import matplotlib.pyplot as plt"
      ],
      "execution_count": 0,
      "outputs": []
    },
    {
      "cell_type": "markdown",
      "metadata": {
        "id": "DtBvtylCZ_dP",
        "colab_type": "text"
      },
      "source": [
        "#Loading Datasets"
      ]
    },
    {
      "cell_type": "code",
      "metadata": {
        "id": "lsSHKp-a7EIk",
        "colab_type": "code",
        "outputId": "e10e494c-a7f9-4af4-a3f5-5630688ec982",
        "colab": {
          "base_uri": "https://localhost:8080/",
          "height": 68
        }
      },
      "source": [
        "#Importing Review Data\n",
        "line_count = len(open(\"/content/drive/My Drive/yelp_dataset/review.json\").readlines())\n",
        "user_ids, business_ids, stars, dates = [], [], [], []\n",
        "with open(\"/content/drive/My Drive/yelp_dataset/review.json\") as f:\n",
        "  for line in tqdm(f, total=line_count):\n",
        "       blob = json.loads(line)\n",
        "       user_ids += [blob[\"user_id\"]]\n",
        "       business_ids += [blob[\"business_id\"]]\n",
        "       stars += [blob[\"stars\"]]\n",
        "       dates += [blob[\"date\"]]\n",
        "ratings = pd.DataFrame(\n",
        "   {\"user_id\": user_ids, \"business_id\": business_ids, \"rating\": stars, \"date\": dates}\n",
        ")\n",
        "user_counts = ratings[\"user_id\"].value_counts()\n",
        "active_users = user_counts.loc[user_counts >= 5].index.tolist()\n",
        "\n",
        "\n",
        "#Importing Business data\n",
        "line_count = len(open(\"/content/drive/My Drive/yelp_dataset/business.json\").readlines())\n",
        "business_ids, names, addresses, cities, states, postal_codes, latitudes, longitudes, stars, review_counts, is_open, attributes, categories, hours = [],[],[],[],[],[],[],[],[],[],[],[],[],[]\n",
        "with open(\"/content/drive/My Drive/yelp_dataset/business.json\") as f:\n",
        "  for line in tqdm(f, total=line_count):\n",
        "        blob = json.loads(line)\n",
        "        business_ids += [blob[\"business_id\"]]\n",
        "        names += [blob[\"name\"]]\n",
        "        addresses += [blob[\"address\"]]\n",
        "        cities += [blob[\"city\"]]\n",
        "        states += [blob[\"state\"]]\n",
        "        postal_codes += [blob[\"postal_code\"]]\n",
        "        latitudes += [blob[\"latitude\"]]\n",
        "        longitudes += [blob[\"longitude\"]]\n",
        "        stars += [blob[\"stars\"]]\n",
        "        review_counts += [blob[\"review_count\"]]\n",
        "        is_open += [blob[\"is_open\"]]\n",
        "        attributes += [blob[\"attributes\"]]\n",
        "        categories += [blob[\"categories\"]]\n",
        "        hours += [blob[\"hours\"]]\n",
        "businesses = pd.DataFrame(\n",
        "    {\"business_id\": business_ids, \"name\": names, \"address\": addresses, \"city\": cities, \"state\": states, \"postal_code\": postal_codes, \"latitude\": latitudes, \"longitude\": longitudes, \"rating\": stars, \"review_count\": review_counts, \"is_open\": is_open, \"attributes\": attributes, \"categories\": categories, \"hours\": hours}\n",
        ")\n",
        "\n",
        "#Imporing User data\n",
        "\n",
        "line_count = len(open(\"/content/drive/My Drive/yelp_dataset/user.json\").readlines())\n",
        "user_id, review_cnt, yelping_since, useful, funny, cool, fans, avg_user_rating, yrs_elite, \\\n",
        "compliment_hot, compliment_more, compliment_profile, compliment_cute, compliment_list, \\\n",
        "compliment_note, compliment_plain, compliment_cool, \\\n",
        "compliment_funny, compliment_writer, compliment_photos = [], [], [], [],[], [], [], [], [],[], [], [], [], [],[], [], [], [], [],[] \n",
        "\n",
        "with open(\"/content/drive/My Drive/yelp_dataset/user.json\") as f:\n",
        "  for line in tqdm(f, total=line_count):\n",
        "       blob = json.loads(line)\n",
        "       user_id += [blob[\"user_id\"]]\n",
        "       review_cnt += [blob[\"review_count\"]]\n",
        "       yelping_since += [blob[\"yelping_since\"]]\n",
        "       useful += [blob[\"useful\"]]\n",
        "       funny += [blob[\"funny\"]]\n",
        "       cool += [blob[\"cool\"]]\n",
        "       fans += [blob[\"fans\"]]\n",
        "       avg_user_rating += [blob[\"average_stars\"]]\n",
        "       yrs_elite += [blob[\"elite\"]]\n",
        "       compliment_hot += [blob['compliment_hot']]\n",
        "       compliment_more += [blob['compliment_more']]\n",
        "       compliment_profile += [blob['compliment_profile']]\n",
        "       compliment_cute += [blob['compliment_cute']]\n",
        "       compliment_list += [blob['compliment_list']]\n",
        "       compliment_note += [blob['compliment_note']]\n",
        "       compliment_plain += [blob['compliment_plain']]\n",
        "       compliment_funny += [blob['compliment_funny']]\n",
        "       compliment_writer += [blob['compliment_writer']]\n",
        "       compliment_photos += [blob['compliment_photos']]\n",
        "user = pd.DataFrame(\n",
        "   {\"user_id\": user_id, \"review_cnt\": review_cnt, \"yelping_since\": yelping_since, \"useful\": useful,\"funny\": funny,\n",
        "    \"cool\": cool, \"fans\": fans, \"avg_user_rating\": avg_user_rating, \"yrs_elite\": yrs_elite, \"compliment_hot\": compliment_hot,\n",
        "    \"compliment_more\": compliment_more, \"compliment_profile\": compliment_profile, \"compliment_cute\": compliment_cute,\n",
        "   \"compliment_list\": compliment_list, \"compliment_note\": compliment_note, \"compliment_plain\": compliment_plain,\n",
        "   \"compliment_funny\": compliment_funny, \"compliment_writer\": compliment_writer, \"compliment_photos\": compliment_photos}\n",
        ")"
      ],
      "execution_count": 0,
      "outputs": [
        {
          "output_type": "stream",
          "text": [
            "100%|██████████| 6685900/6685900 [03:06<00:00, 35765.57it/s]\n",
            "100%|██████████| 192609/192609 [00:03<00:00, 50076.23it/s]\n",
            "100%|██████████| 1637138/1637138 [00:56<00:00, 29105.73it/s]\n"
          ],
          "name": "stderr"
        }
      ]
    },
    {
      "cell_type": "code",
      "metadata": {
        "id": "IvjPpYHc8Klj",
        "colab_type": "code",
        "colab": {}
      },
      "source": [
        "user['years_elite'] = user['yrs_elite'].str.split(',').apply(lambda x: np.where(x==[''],0,len(x)))"
      ],
      "execution_count": 0,
      "outputs": []
    },
    {
      "cell_type": "code",
      "metadata": {
        "id": "qGgHW50wAxUB",
        "colab_type": "code",
        "colab": {}
      },
      "source": [
        "data = pd.merge(ratings, businesses, left_on='business_id', right_on='business_id', how='left')\n",
        "data = pd.merge(data, user, left_on='user_id', right_on='user_id', how='left')"
      ],
      "execution_count": 0,
      "outputs": []
    },
    {
      "cell_type": "markdown",
      "metadata": {
        "id": "LRjcBp89aFR6",
        "colab_type": "text"
      },
      "source": [
        "#Data Analysis"
      ]
    },
    {
      "cell_type": "code",
      "metadata": {
        "id": "4Bg1CREzA3Yc",
        "colab_type": "code",
        "outputId": "2f7f5ea1-1373-4d1e-af0f-e3560e94c7ad",
        "colab": {
          "base_uri": "https://localhost:8080/",
          "height": 34
        }
      },
      "source": [
        "data['isActive'] = data.user_id.isin(active_users).astype(int)\n",
        "data1 = data[data.loc[:,'isActive'] == 1]\n",
        "data1 = data1.iloc[:,:36]\n",
        "data1.shape"
      ],
      "execution_count": 0,
      "outputs": [
        {
          "output_type": "execute_result",
          "data": {
            "text/plain": [
              "(4538272, 36)"
            ]
          },
          "metadata": {
            "tags": []
          },
          "execution_count": 9
        }
      ]
    },
    {
      "cell_type": "code",
      "metadata": {
        "id": "ssDOQYX0GP7q",
        "colab_type": "code",
        "colab": {}
      },
      "source": [
        "categoryList = data1.categories.to_list()\n",
        "newList = list()\n",
        "categoryList\n",
        "for cat in categoryList:\n",
        "  if cat != None:\n",
        "    temp = cat.split(',')\n",
        "    for t in temp:\n",
        "      t = t.strip()\n",
        "      if t not in newList:\n",
        "        newList.append(t)"
      ],
      "execution_count": 0,
      "outputs": []
    },
    {
      "cell_type": "code",
      "metadata": {
        "id": "sCchfFoXIYW-",
        "colab_type": "code",
        "outputId": "2b7f2940-0239-46ff-b40b-67eab2a6bb39",
        "colab": {
          "base_uri": "https://localhost:8080/",
          "height": 34
        }
      },
      "source": [
        "print(\"Total number of unique categories in our data = \" + str(len(newList)))"
      ],
      "execution_count": 0,
      "outputs": [
        {
          "output_type": "stream",
          "text": [
            "Total number of unique categories in our data = 1297\n"
          ],
          "name": "stdout"
        }
      ]
    },
    {
      "cell_type": "code",
      "metadata": {
        "id": "EoI9xMZqKCZo",
        "colab_type": "code",
        "colab": {}
      },
      "source": [
        "categoryDict = dict()\n",
        "for cat in categoryList:\n",
        "  categoryDict[cat] = 0\n",
        "\n",
        "for index, row in data1.iterrows():\n",
        "  cat = row['categories']\n",
        "  for key, value in categoryDict.items():\n",
        "    if key in cat:\n",
        "      categoryDict[key] = categoryDict[key] + 1"
      ],
      "execution_count": 0,
      "outputs": []
    },
    {
      "cell_type": "code",
      "metadata": {
        "id": "RPc-zTY4BBgv",
        "colab_type": "code",
        "outputId": "a9419a82-f54a-47f1-ff09-656e62692eab",
        "colab": {
          "base_uri": "https://localhost:8080/",
          "height": 34
        }
      },
      "source": [
        "mask_restaurants = data1['categories'].str.contains('Restaurants')\n",
        "mask_food = data1['categories'].str.contains('Food')\n",
        "restaurants_and_food = data1[mask_restaurants & mask_food]\n",
        "restaurants_and_food_business_ids = restaurants_and_food.business_id.to_list()\n",
        "data1['isRestaurant'] = data1.business_id.isin(restaurants_and_food_business_ids).astype(int)\n",
        "data2 = data1[data1.loc[:,'isRestaurant'] == 1]\n",
        "data2 = data2.iloc[:,:36]\n",
        "data2.shape"
      ],
      "execution_count": 0,
      "outputs": [
        {
          "output_type": "execute_result",
          "data": {
            "text/plain": [
              "(993406, 36)"
            ]
          },
          "metadata": {
            "tags": []
          },
          "execution_count": 12
        }
      ]
    },
    {
      "cell_type": "code",
      "metadata": {
        "id": "Lpfkwnw3BG6a",
        "colab_type": "code",
        "outputId": "ab0d7079-42c6-4cb0-9ff7-7423d8569a1e",
        "colab": {
          "base_uri": "https://localhost:8080/",
          "height": 34
        }
      },
      "source": [
        "active_restaurants_ids = restaurants_and_food.loc[restaurants_and_food['is_open'] == 1].business_id.tolist()\n",
        "data2['isOpen'] = data2.business_id.isin(active_restaurants_ids).astype(int)\n",
        "data2 = data2[data2.loc[:,'isOpen'] == 1]\n",
        "data2 = data2.iloc[:,:36]\n",
        "data2.shape"
      ],
      "execution_count": 0,
      "outputs": [
        {
          "output_type": "execute_result",
          "data": {
            "text/plain": [
              "(852842, 36)"
            ]
          },
          "metadata": {
            "tags": []
          },
          "execution_count": 13
        }
      ]
    },
    {
      "cell_type": "code",
      "metadata": {
        "id": "NDI3rAoGBOcG",
        "colab_type": "code",
        "outputId": "42e7b69e-c574-4347-ff31-690a7fda644e",
        "colab": {
          "base_uri": "https://localhost:8080/",
          "height": 34
        }
      },
      "source": [
        "stateWise = data2.groupby('state').count()\n",
        "#stateWise.head()\n",
        "len(stateWise)"
      ],
      "execution_count": 0,
      "outputs": [
        {
          "output_type": "execute_result",
          "data": {
            "text/plain": [
              "18"
            ]
          },
          "metadata": {
            "tags": []
          },
          "execution_count": 14
        }
      ]
    },
    {
      "cell_type": "code",
      "metadata": {
        "id": "RXFqPmuQBwtj",
        "colab_type": "code",
        "outputId": "32f2476e-7e7c-44b1-f75d-bdac9d2b6abc",
        "colab": {
          "base_uri": "https://localhost:8080/",
          "height": 282
        }
      },
      "source": [
        "plt.bar(stateWise.index, stateWise['user_id'])"
      ],
      "execution_count": 0,
      "outputs": [
        {
          "output_type": "execute_result",
          "data": {
            "text/plain": [
              "<BarContainer object of 18 artists>"
            ]
          },
          "metadata": {
            "tags": []
          },
          "execution_count": 15
        },
        {
          "output_type": "display_data",
          "data": {
            "image/png": "[encoded data removed]",
            "text/plain": [
              "<Figure size 432x288 with 1 Axes>"
            ]
          },
          "metadata": {
            "tags": []
          }
        }
      ]
    },
    {
      "cell_type": "code",
      "metadata": {
        "id": "DauLHWUXC20-",
        "colab_type": "code",
        "outputId": "0e4b7f6e-5dd1-4f29-e44d-7a295c7169d1",
        "colab": {
          "base_uri": "https://localhost:8080/",
          "height": 391
        }
      },
      "source": [
        "#Here we chose Nevada as the state to subset on, next lets check the number of ratings in the cities in Nevada\n",
        "countryWise = data2.loc[data2['state'] == 'NV']\n",
        "countryWise['city'] = countryWise['city']\n",
        "countryWise = countryWise.groupby('city').count()\n",
        "\n",
        "cities = countryWise.index.to_list()\n",
        "cities = [c.lower() for c in cities]\n",
        "\n",
        "countryWise['city'] = cities\n",
        "\n",
        "countryWise.head()"
      ],
      "execution_count": 0,
      "outputs": [
        {
          "output_type": "stream",
          "text": [
            "/usr/local/lib/python3.6/dist-packages/ipykernel_launcher.py:2: SettingWithCopyWarning: \n",
            "A value is trying to be set on a copy of a slice from a DataFrame.\n",
            "Try using .loc[row_indexer,col_indexer] = value instead\n",
            "\n",
            "See the caveats in the documentation: http://pandas.pydata.org/pandas-docs/stable/user_guide/indexing.html#returning-a-view-versus-a-copy\n",
            "  \n"
          ],
          "name": "stderr"
        },
        {
          "output_type": "execute_result",
          "data": {
            "text/html": [
              "<div>\n",
              "<style scoped>\n",
              "    .dataframe tbody tr th:only-of-type {\n",
              "        vertical-align: middle;\n",
              "    }\n",
              "\n",
              "    .dataframe tbody tr th {\n",
              "        vertical-align: top;\n",
              "    }\n",
              "\n",
              "    .dataframe thead th {\n",
              "        text-align: right;\n",
              "    }\n",
              "</style>\n",
              "<table border=\"1\" class=\"dataframe\">\n",
              "  <thead>\n",
              "    <tr style=\"text-align: right;\">\n",
              "      <th></th>\n",
              "      <th>user_id</th>\n",
              "      <th>business_id</th>\n",
              "      <th>rating_x</th>\n",
              "      <th>date</th>\n",
              "      <th>name</th>\n",
              "      <th>address</th>\n",
              "      <th>state</th>\n",
              "      <th>postal_code</th>\n",
              "      <th>latitude</th>\n",
              "      <th>longitude</th>\n",
              "      <th>rating_y</th>\n",
              "      <th>review_count</th>\n",
              "      <th>is_open</th>\n",
              "      <th>attributes</th>\n",
              "      <th>categories</th>\n",
              "      <th>hours</th>\n",
              "      <th>review_cnt</th>\n",
              "      <th>yelping_since</th>\n",
              "      <th>useful</th>\n",
              "      <th>funny</th>\n",
              "      <th>cool</th>\n",
              "      <th>fans</th>\n",
              "      <th>avg_user_rating</th>\n",
              "      <th>yrs_elite</th>\n",
              "      <th>compliment_hot</th>\n",
              "      <th>compliment_more</th>\n",
              "      <th>compliment_profile</th>\n",
              "      <th>compliment_cute</th>\n",
              "      <th>compliment_list</th>\n",
              "      <th>compliment_note</th>\n",
              "      <th>compliment_plain</th>\n",
              "      <th>compliment_funny</th>\n",
              "      <th>compliment_writer</th>\n",
              "      <th>compliment_photos</th>\n",
              "      <th>years_elite</th>\n",
              "      <th>city</th>\n",
              "    </tr>\n",
              "    <tr>\n",
              "      <th>city</th>\n",
              "      <th></th>\n",
              "      <th></th>\n",
              "      <th></th>\n",
              "      <th></th>\n",
              "      <th></th>\n",
              "      <th></th>\n",
              "      <th></th>\n",
              "      <th></th>\n",
              "      <th></th>\n",
              "      <th></th>\n",
              "      <th></th>\n",
              "      <th></th>\n",
              "      <th></th>\n",
              "      <th></th>\n",
              "      <th></th>\n",
              "      <th></th>\n",
              "      <th></th>\n",
              "      <th></th>\n",
              "      <th></th>\n",
              "      <th></th>\n",
              "      <th></th>\n",
              "      <th></th>\n",
              "      <th></th>\n",
              "      <th></th>\n",
              "      <th></th>\n",
              "      <th></th>\n",
              "      <th></th>\n",
              "      <th></th>\n",
              "      <th></th>\n",
              "      <th></th>\n",
              "      <th></th>\n",
              "      <th></th>\n",
              "      <th></th>\n",
              "      <th></th>\n",
              "      <th></th>\n",
              "      <th></th>\n",
              "    </tr>\n",
              "  </thead>\n",
              "  <tbody>\n",
              "    <tr>\n",
              "      <th>Blue Diamond</th>\n",
              "      <td>36</td>\n",
              "      <td>36</td>\n",
              "      <td>36</td>\n",
              "      <td>36</td>\n",
              "      <td>36</td>\n",
              "      <td>36</td>\n",
              "      <td>36</td>\n",
              "      <td>36</td>\n",
              "      <td>36</td>\n",
              "      <td>36</td>\n",
              "      <td>36</td>\n",
              "      <td>36</td>\n",
              "      <td>36</td>\n",
              "      <td>36</td>\n",
              "      <td>36</td>\n",
              "      <td>36</td>\n",
              "      <td>36</td>\n",
              "      <td>36</td>\n",
              "      <td>36</td>\n",
              "      <td>36</td>\n",
              "      <td>36</td>\n",
              "      <td>36</td>\n",
              "      <td>36</td>\n",
              "      <td>36</td>\n",
              "      <td>36</td>\n",
              "      <td>36</td>\n",
              "      <td>36</td>\n",
              "      <td>36</td>\n",
              "      <td>36</td>\n",
              "      <td>36</td>\n",
              "      <td>36</td>\n",
              "      <td>36</td>\n",
              "      <td>36</td>\n",
              "      <td>36</td>\n",
              "      <td>36</td>\n",
              "      <td>blue diamond</td>\n",
              "    </tr>\n",
              "    <tr>\n",
              "      <th>Boulder City</th>\n",
              "      <td>1624</td>\n",
              "      <td>1624</td>\n",
              "      <td>1624</td>\n",
              "      <td>1624</td>\n",
              "      <td>1624</td>\n",
              "      <td>1624</td>\n",
              "      <td>1624</td>\n",
              "      <td>1624</td>\n",
              "      <td>1624</td>\n",
              "      <td>1624</td>\n",
              "      <td>1624</td>\n",
              "      <td>1624</td>\n",
              "      <td>1624</td>\n",
              "      <td>1624</td>\n",
              "      <td>1624</td>\n",
              "      <td>1562</td>\n",
              "      <td>1624</td>\n",
              "      <td>1624</td>\n",
              "      <td>1624</td>\n",
              "      <td>1624</td>\n",
              "      <td>1624</td>\n",
              "      <td>1624</td>\n",
              "      <td>1624</td>\n",
              "      <td>1624</td>\n",
              "      <td>1624</td>\n",
              "      <td>1624</td>\n",
              "      <td>1624</td>\n",
              "      <td>1624</td>\n",
              "      <td>1624</td>\n",
              "      <td>1624</td>\n",
              "      <td>1624</td>\n",
              "      <td>1624</td>\n",
              "      <td>1624</td>\n",
              "      <td>1624</td>\n",
              "      <td>1624</td>\n",
              "      <td>boulder city</td>\n",
              "    </tr>\n",
              "    <tr>\n",
              "      <th>Clark</th>\n",
              "      <td>2</td>\n",
              "      <td>2</td>\n",
              "      <td>2</td>\n",
              "      <td>2</td>\n",
              "      <td>2</td>\n",
              "      <td>2</td>\n",
              "      <td>2</td>\n",
              "      <td>2</td>\n",
              "      <td>2</td>\n",
              "      <td>2</td>\n",
              "      <td>2</td>\n",
              "      <td>2</td>\n",
              "      <td>2</td>\n",
              "      <td>2</td>\n",
              "      <td>2</td>\n",
              "      <td>0</td>\n",
              "      <td>2</td>\n",
              "      <td>2</td>\n",
              "      <td>2</td>\n",
              "      <td>2</td>\n",
              "      <td>2</td>\n",
              "      <td>2</td>\n",
              "      <td>2</td>\n",
              "      <td>2</td>\n",
              "      <td>2</td>\n",
              "      <td>2</td>\n",
              "      <td>2</td>\n",
              "      <td>2</td>\n",
              "      <td>2</td>\n",
              "      <td>2</td>\n",
              "      <td>2</td>\n",
              "      <td>2</td>\n",
              "      <td>2</td>\n",
              "      <td>2</td>\n",
              "      <td>2</td>\n",
              "      <td>clark</td>\n",
              "    </tr>\n",
              "    <tr>\n",
              "      <th>Enterprise</th>\n",
              "      <td>125</td>\n",
              "      <td>125</td>\n",
              "      <td>125</td>\n",
              "      <td>125</td>\n",
              "      <td>125</td>\n",
              "      <td>125</td>\n",
              "      <td>125</td>\n",
              "      <td>125</td>\n",
              "      <td>125</td>\n",
              "      <td>125</td>\n",
              "      <td>125</td>\n",
              "      <td>125</td>\n",
              "      <td>125</td>\n",
              "      <td>125</td>\n",
              "      <td>125</td>\n",
              "      <td>125</td>\n",
              "      <td>125</td>\n",
              "      <td>125</td>\n",
              "      <td>125</td>\n",
              "      <td>125</td>\n",
              "      <td>125</td>\n",
              "      <td>125</td>\n",
              "      <td>125</td>\n",
              "      <td>125</td>\n",
              "      <td>125</td>\n",
              "      <td>125</td>\n",
              "      <td>125</td>\n",
              "      <td>125</td>\n",
              "      <td>125</td>\n",
              "      <td>125</td>\n",
              "      <td>125</td>\n",
              "      <td>125</td>\n",
              "      <td>125</td>\n",
              "      <td>125</td>\n",
              "      <td>125</td>\n",
              "      <td>enterprise</td>\n",
              "    </tr>\n",
              "    <tr>\n",
              "      <th>Henderson</th>\n",
              "      <td>27059</td>\n",
              "      <td>27059</td>\n",
              "      <td>27059</td>\n",
              "      <td>27059</td>\n",
              "      <td>27059</td>\n",
              "      <td>27059</td>\n",
              "      <td>27059</td>\n",
              "      <td>27059</td>\n",
              "      <td>27059</td>\n",
              "      <td>27059</td>\n",
              "      <td>27059</td>\n",
              "      <td>27059</td>\n",
              "      <td>27059</td>\n",
              "      <td>27030</td>\n",
              "      <td>27059</td>\n",
              "      <td>26339</td>\n",
              "      <td>27059</td>\n",
              "      <td>27059</td>\n",
              "      <td>27059</td>\n",
              "      <td>27059</td>\n",
              "      <td>27059</td>\n",
              "      <td>27059</td>\n",
              "      <td>27059</td>\n",
              "      <td>27059</td>\n",
              "      <td>27059</td>\n",
              "      <td>27059</td>\n",
              "      <td>27059</td>\n",
              "      <td>27059</td>\n",
              "      <td>27059</td>\n",
              "      <td>27059</td>\n",
              "      <td>27059</td>\n",
              "      <td>27059</td>\n",
              "      <td>27059</td>\n",
              "      <td>27059</td>\n",
              "      <td>27059</td>\n",
              "      <td>henderson</td>\n",
              "    </tr>\n",
              "  </tbody>\n",
              "</table>\n",
              "</div>"
            ],
            "text/plain": [
              "              user_id  business_id  ...  years_elite          city\n",
              "city                                ...                           \n",
              "Blue Diamond       36           36  ...           36  blue diamond\n",
              "Boulder City     1624         1624  ...         1624  boulder city\n",
              "Clark               2            2  ...            2         clark\n",
              "Enterprise        125          125  ...          125    enterprise\n",
              "Henderson       27059        27059  ...        27059     henderson\n",
              "\n",
              "[5 rows x 36 columns]"
            ]
          },
          "metadata": {
            "tags": []
          },
          "execution_count": 16
        }
      ]
    },
    {
      "cell_type": "code",
      "metadata": {
        "id": "kPoe8nE2DfQ-",
        "colab_type": "code",
        "outputId": "7c7f934b-b298-4880-c8a1-b90e78e5d6ee",
        "colab": {
          "base_uri": "https://localhost:8080/",
          "height": 313
        }
      },
      "source": [
        "plt.bar(countryWise['city'], countryWise['user_id'])\n",
        "plt.xticks(fontsize=5, rotation=30)"
      ],
      "execution_count": 0,
      "outputs": [
        {
          "output_type": "execute_result",
          "data": {
            "text/plain": [
              "([0, 1, 2, 3, 4, 5, 6, 7, 8, 9, 10, 11, 12, 13],\n",
              " <a list of 14 Text xticklabel objects>)"
            ]
          },
          "metadata": {
            "tags": []
          },
          "execution_count": 17
        },
        {
          "output_type": "display_data",
          "data": {
            "image/png": "[encoded data removed]",
            "text/plain": [
              "<Figure size 432x288 with 1 Axes>"
            ]
          },
          "metadata": {
            "tags": []
          }
        }
      ]
    },
    {
      "cell_type": "code",
      "metadata": {
        "id": "x84zeiiqO69b",
        "colab_type": "code",
        "outputId": "a81c5e89-ed1a-4646-811b-141365762ffa",
        "colab": {
          "base_uri": "https://localhost:8080/",
          "height": 34
        }
      },
      "source": [
        "userList = data2.user_id.to_list()\n",
        "uniqueList = set(userList)\n",
        "len(uniqueList)"
      ],
      "execution_count": 0,
      "outputs": [
        {
          "output_type": "execute_result",
          "data": {
            "text/plain": [
              "219835"
            ]
          },
          "metadata": {
            "tags": []
          },
          "execution_count": 18
        }
      ]
    },
    {
      "cell_type": "code",
      "metadata": {
        "id": "ajCnubKnQYwd",
        "colab_type": "code",
        "outputId": "a158c2a6-6fb1-4722-c865-d1c01cf96fde",
        "colab": {
          "base_uri": "https://localhost:8080/",
          "height": 102
        }
      },
      "source": [
        "userRating = dict()\n",
        "userRating['less than 5'] = 0\n",
        "userRating['5-10'] = 0\n",
        "userRating['10-15'] = 0\n",
        "userRating['15-20'] = 0\n",
        "userRating['greater than 20'] = 0\n",
        "\n",
        "for index, row in userRatingCount.iterrows():\n",
        "  if row['business_id'] < 5:\n",
        "    userRating['less than 5'] = userRating['less than 5'] + 1\n",
        "  elif row['business_id'] < 10:\n",
        "    userRating['5-10'] = userRating['5-10'] + 1\n",
        "  elif row['business_id'] < 15:\n",
        "    userRating['10-15'] = userRating['10-15'] + 1\n",
        "  elif row['business_id'] < 20:\n",
        "    userRating['15-20'] = userRating['15-20'] + 1\n",
        "  else:\n",
        "    userRating['greater than 20'] = userRating['greater than 20'] + 1\n",
        "userRating"
      ],
      "execution_count": 0,
      "outputs": [
        {
          "output_type": "execute_result",
          "data": {
            "text/plain": [
              "{'10-15': 7215,\n",
              " '15-20': 3118,\n",
              " '5-10': 28678,\n",
              " 'greater than 20': 5200,\n",
              " 'less than 5': 175624}"
            ]
          },
          "metadata": {
            "tags": []
          },
          "execution_count": 24
        }
      ]
    },
    {
      "cell_type": "code",
      "metadata": {
        "id": "kbm-ZLDeRkLQ",
        "colab_type": "code",
        "outputId": "4bf5000b-3561-42c1-9973-ec66289a3f86",
        "colab": {
          "base_uri": "https://localhost:8080/",
          "height": 282
        }
      },
      "source": [
        "x = list()\n",
        "y = list()\n",
        "for key, value in userRating.items():\n",
        "  x.append(key)\n",
        "  y.append(value)\n",
        "plt.bar(x, y)"
      ],
      "execution_count": 0,
      "outputs": [
        {
          "output_type": "execute_result",
          "data": {
            "text/plain": [
              "<BarContainer object of 5 artists>"
            ]
          },
          "metadata": {
            "tags": []
          },
          "execution_count": 27
        },
        {
          "output_type": "display_data",
          "data": {
            "image/png": "[encoded data removed]",
            "text/plain": [
              "<Figure size 432x288 with 1 Axes>"
            ]
          },
          "metadata": {
            "tags": []
          }
        }
      ]
    },
    {
      "cell_type": "markdown",
      "metadata": {
        "id": "PAletoXxaVJ4",
        "colab_type": "text"
      },
      "source": [
        "#Baseline for Subset 1"
      ]
    },
    {
      "cell_type": "code",
      "metadata": {
        "id": "zVmjfXEJbOH5",
        "colab_type": "code",
        "colab": {}
      },
      "source": [
        "path = \"/content/drive/My Drive/yelp_dataset/Copy of data1.csv\"\n",
        "data2 = pd.read_csv(path)"
      ],
      "execution_count": 0,
      "outputs": []
    },
    {
      "cell_type": "code",
      "metadata": {
        "id": "JUs7A816TALR",
        "colab_type": "code",
        "outputId": "fd3666ee-146a-4ad2-9d09-dfd069214abb",
        "colab": {
          "base_uri": "https://localhost:8080/",
          "height": 34
        }
      },
      "source": [
        "#here we take only the users that have rated more than 5 movies \n",
        "user_counts_2 = data2[\"user_id\"].value_counts()\n",
        "active_users_2 = user_counts_2.loc[user_counts_2 >= 5].index.tolist()\n",
        "\n",
        "data2['isActive'] = data2.user_id.isin(active_users_2).astype(int)\n",
        "data3 = data2[data2.loc[:,'isActive'] == 1]\n",
        "data3 = data3.iloc[:,:36]\n",
        "data3.shape"
      ],
      "execution_count": 46,
      "outputs": [
        {
          "output_type": "execute_result",
          "data": {
            "text/plain": [
              "(508029, 36)"
            ]
          },
          "metadata": {
            "tags": []
          },
          "execution_count": 46
        }
      ]
    },
    {
      "cell_type": "code",
      "metadata": {
        "id": "zx3LVpuHhC9s",
        "colab_type": "code",
        "outputId": "7dadf881-45f1-44fa-bf68-41a70e2cf282",
        "colab": {
          "base_uri": "https://localhost:8080/",
          "height": 34
        }
      },
      "source": [
        "userList_1 = data3.user_id.to_list()\n",
        "uniqueList_1 = set(userList_1)\n",
        "len(uniqueList_1)"
      ],
      "execution_count": 47,
      "outputs": [
        {
          "output_type": "execute_result",
          "data": {
            "text/plain": [
              "44211"
            ]
          },
          "metadata": {
            "tags": []
          },
          "execution_count": 47
        }
      ]
    },
    {
      "cell_type": "code",
      "metadata": {
        "id": "J7t1fsiuhvbs",
        "colab_type": "code",
        "outputId": "ce7bc6a3-33e6-446c-8df8-b6a26b3ff3f7",
        "colab": {
          "base_uri": "https://localhost:8080/",
          "height": 584
        }
      },
      "source": [
        "labels, uniques = pd.factorize(data3['user_id'])\n",
        "data3 = data3.assign(user_id_encoded = labels)\n",
        "cols = data3.columns.tolist()\n",
        "cols = cols[-1:] + cols[:-1]\n",
        "data3 = data3[cols]\n",
        "\n",
        "labels, uniques = pd.factorize(data3['business_id'])\n",
        "data3 = data3.assign(business_id_encoded = labels)\n",
        "cols = data3.columns.tolist()\n",
        "cols = cols[-1:] + cols[:-1]\n",
        "data3 = data3[cols]\n",
        "data3.head()"
      ],
      "execution_count": 48,
      "outputs": [
        {
          "output_type": "execute_result",
          "data": {
            "text/html": [
              "<div>\n",
              "<style scoped>\n",
              "    .dataframe tbody tr th:only-of-type {\n",
              "        vertical-align: middle;\n",
              "    }\n",
              "\n",
              "    .dataframe tbody tr th {\n",
              "        vertical-align: top;\n",
              "    }\n",
              "\n",
              "    .dataframe thead th {\n",
              "        text-align: right;\n",
              "    }\n",
              "</style>\n",
              "<table border=\"1\" class=\"dataframe\">\n",
              "  <thead>\n",
              "    <tr style=\"text-align: right;\">\n",
              "      <th></th>\n",
              "      <th>business_id_encoded</th>\n",
              "      <th>user_id_encoded</th>\n",
              "      <th>Unnamed: 0</th>\n",
              "      <th>user_id</th>\n",
              "      <th>business_id</th>\n",
              "      <th>rating_x</th>\n",
              "      <th>date</th>\n",
              "      <th>name</th>\n",
              "      <th>address</th>\n",
              "      <th>city</th>\n",
              "      <th>state</th>\n",
              "      <th>postal_code</th>\n",
              "      <th>latitude</th>\n",
              "      <th>longitude</th>\n",
              "      <th>rating_y</th>\n",
              "      <th>review_count</th>\n",
              "      <th>is_open</th>\n",
              "      <th>attributes</th>\n",
              "      <th>categories</th>\n",
              "      <th>hours</th>\n",
              "      <th>review_cnt</th>\n",
              "      <th>yelping_since</th>\n",
              "      <th>useful</th>\n",
              "      <th>funny</th>\n",
              "      <th>cool</th>\n",
              "      <th>fans</th>\n",
              "      <th>avg_user_rating</th>\n",
              "      <th>yrs_elite</th>\n",
              "      <th>compliment_hot</th>\n",
              "      <th>compliment_more</th>\n",
              "      <th>compliment_profile</th>\n",
              "      <th>compliment_cute</th>\n",
              "      <th>compliment_list</th>\n",
              "      <th>compliment_note</th>\n",
              "      <th>compliment_plain</th>\n",
              "      <th>compliment_funny</th>\n",
              "      <th>compliment_writer</th>\n",
              "      <th>compliment_photos</th>\n",
              "    </tr>\n",
              "  </thead>\n",
              "  <tbody>\n",
              "    <tr>\n",
              "      <th>0</th>\n",
              "      <td>0</td>\n",
              "      <td>0</td>\n",
              "      <td>6</td>\n",
              "      <td>jlu4CztcSxrKx56ba1a5AQ</td>\n",
              "      <td>3fw2X5bZYeW9xCz_zGhOHg</td>\n",
              "      <td>3.0</td>\n",
              "      <td>2016-05-07 01:21:02</td>\n",
              "      <td>Tracy Dessert</td>\n",
              "      <td>3235 Highway 7 E, Unit 29</td>\n",
              "      <td>Markham</td>\n",
              "      <td>ON</td>\n",
              "      <td>L3R 3P9</td>\n",
              "      <td>43.848936</td>\n",
              "      <td>-79.347801</td>\n",
              "      <td>3.5</td>\n",
              "      <td>122</td>\n",
              "      <td>1</td>\n",
              "      <td>{'RestaurantsGoodForGroups': 'True', 'Restaura...</td>\n",
              "      <td>Food, Chinese, Restaurants, Desserts</td>\n",
              "      <td>{'Monday': '14:0-0:0', 'Tuesday': '14:0-0:0', ...</td>\n",
              "      <td>600</td>\n",
              "      <td>2015-06-18 22:57:20</td>\n",
              "      <td>4346</td>\n",
              "      <td>2302</td>\n",
              "      <td>4067</td>\n",
              "      <td>83</td>\n",
              "      <td>3.75</td>\n",
              "      <td>2015,2016,2017,2018</td>\n",
              "      <td>151</td>\n",
              "      <td>33</td>\n",
              "      <td>25</td>\n",
              "      <td>5</td>\n",
              "      <td>5</td>\n",
              "      <td>122</td>\n",
              "      <td>262</td>\n",
              "      <td>280</td>\n",
              "      <td>79</td>\n",
              "      <td>67</td>\n",
              "    </tr>\n",
              "    <tr>\n",
              "      <th>3</th>\n",
              "      <td>1</td>\n",
              "      <td>1</td>\n",
              "      <td>28</td>\n",
              "      <td>q3GeSW9dWN9r_ocqFkhrvg</td>\n",
              "      <td>9nTF596jDvBBia2EXXiOOg</td>\n",
              "      <td>1.0</td>\n",
              "      <td>2014-04-19 15:03:17</td>\n",
              "      <td>I Tea Cafe</td>\n",
              "      <td>709 Bellefonte St</td>\n",
              "      <td>Pittsburgh</td>\n",
              "      <td>PA</td>\n",
              "      <td>15232</td>\n",
              "      <td>40.452180</td>\n",
              "      <td>-79.934234</td>\n",
              "      <td>3.0</td>\n",
              "      <td>80</td>\n",
              "      <td>1</td>\n",
              "      <td>{'BikeParking': 'True', 'HasTV': 'True', 'Busi...</td>\n",
              "      <td>Bubble Tea, Juice Bars &amp; Smoothies, Taiwanese,...</td>\n",
              "      <td>{'Tuesday': '11:30-21:30', 'Wednesday': '11:30...</td>\n",
              "      <td>7</td>\n",
              "      <td>2011-02-14 05:21:23</td>\n",
              "      <td>7</td>\n",
              "      <td>0</td>\n",
              "      <td>1</td>\n",
              "      <td>0</td>\n",
              "      <td>3.43</td>\n",
              "      <td>NaN</td>\n",
              "      <td>0</td>\n",
              "      <td>0</td>\n",
              "      <td>0</td>\n",
              "      <td>0</td>\n",
              "      <td>0</td>\n",
              "      <td>0</td>\n",
              "      <td>0</td>\n",
              "      <td>0</td>\n",
              "      <td>0</td>\n",
              "      <td>0</td>\n",
              "    </tr>\n",
              "    <tr>\n",
              "      <th>6</th>\n",
              "      <td>2</td>\n",
              "      <td>2</td>\n",
              "      <td>79</td>\n",
              "      <td>1BcNXW9_Y16TIofPVpFqIA</td>\n",
              "      <td>vhIJ91MDgUuk4Cr9Kpj1Nw</td>\n",
              "      <td>1.0</td>\n",
              "      <td>2015-07-16 05:40:33</td>\n",
              "      <td>Jimmy John's</td>\n",
              "      <td>680 S Mill Ave</td>\n",
              "      <td>Tempe</td>\n",
              "      <td>AZ</td>\n",
              "      <td>85281</td>\n",
              "      <td>33.423975</td>\n",
              "      <td>-111.940351</td>\n",
              "      <td>3.0</td>\n",
              "      <td>130</td>\n",
              "      <td>1</td>\n",
              "      <td>{'RestaurantsDelivery': 'True', 'OutdoorSeatin...</td>\n",
              "      <td>Food, Fast Food, Food Delivery Services, Sandw...</td>\n",
              "      <td>{'Monday': '10:0-3:0', 'Tuesday': '10:0-3:0', ...</td>\n",
              "      <td>142</td>\n",
              "      <td>2009-09-24 19:12:47</td>\n",
              "      <td>283</td>\n",
              "      <td>76</td>\n",
              "      <td>104</td>\n",
              "      <td>17</td>\n",
              "      <td>3.30</td>\n",
              "      <td>NaN</td>\n",
              "      <td>0</td>\n",
              "      <td>0</td>\n",
              "      <td>0</td>\n",
              "      <td>0</td>\n",
              "      <td>0</td>\n",
              "      <td>3</td>\n",
              "      <td>4</td>\n",
              "      <td>3</td>\n",
              "      <td>10</td>\n",
              "      <td>0</td>\n",
              "    </tr>\n",
              "    <tr>\n",
              "      <th>9</th>\n",
              "      <td>3</td>\n",
              "      <td>3</td>\n",
              "      <td>109</td>\n",
              "      <td>lb0QUR5bc4O-Am4hNq9ZGg</td>\n",
              "      <td>r5PLDU-4mSbde5XekTXSCA</td>\n",
              "      <td>4.0</td>\n",
              "      <td>2013-01-27 17:54:54</td>\n",
              "      <td>Defalco's Italian Grocery</td>\n",
              "      <td>2334 N Scottsdale Rd, Ste A133</td>\n",
              "      <td>Scottsdale</td>\n",
              "      <td>AZ</td>\n",
              "      <td>85257</td>\n",
              "      <td>33.474059</td>\n",
              "      <td>-111.927144</td>\n",
              "      <td>4.5</td>\n",
              "      <td>1272</td>\n",
              "      <td>1</td>\n",
              "      <td>{'RestaurantsTakeOut': 'True', 'RestaurantsPri...</td>\n",
              "      <td>Sandwiches, Delis, Grocery, Food, Italian, Res...</td>\n",
              "      <td>{'Monday': '10:0-21:0', 'Tuesday': '10:0-21:0'...</td>\n",
              "      <td>188</td>\n",
              "      <td>2011-03-15 23:15:17</td>\n",
              "      <td>358</td>\n",
              "      <td>160</td>\n",
              "      <td>173</td>\n",
              "      <td>19</td>\n",
              "      <td>3.93</td>\n",
              "      <td>2013,2014,2015</td>\n",
              "      <td>13</td>\n",
              "      <td>1</td>\n",
              "      <td>2</td>\n",
              "      <td>1</td>\n",
              "      <td>0</td>\n",
              "      <td>7</td>\n",
              "      <td>10</td>\n",
              "      <td>20</td>\n",
              "      <td>13</td>\n",
              "      <td>0</td>\n",
              "    </tr>\n",
              "    <tr>\n",
              "      <th>11</th>\n",
              "      <td>4</td>\n",
              "      <td>4</td>\n",
              "      <td>126</td>\n",
              "      <td>x37OyP--VEFE5p-xreplYA</td>\n",
              "      <td>tjAeaGdxf7I4xN9M7wGJNQ</td>\n",
              "      <td>5.0</td>\n",
              "      <td>2014-07-13 14:32:56</td>\n",
              "      <td>Pure Pizza</td>\n",
              "      <td>224 E 7th St</td>\n",
              "      <td>Charlotte</td>\n",
              "      <td>NC</td>\n",
              "      <td>28202</td>\n",
              "      <td>35.227582</td>\n",
              "      <td>-80.837912</td>\n",
              "      <td>4.0</td>\n",
              "      <td>259</td>\n",
              "      <td>1</td>\n",
              "      <td>{'Caters': 'True', 'RestaurantsDelivery': 'Fal...</td>\n",
              "      <td>Vegetarian, Gluten-Free, Food, Restaurants, Pi...</td>\n",
              "      <td>{'Monday': '0:0-0:0', 'Tuesday': '11:0-19:0', ...</td>\n",
              "      <td>326</td>\n",
              "      <td>2013-01-21 16:06:42</td>\n",
              "      <td>548</td>\n",
              "      <td>142</td>\n",
              "      <td>240</td>\n",
              "      <td>32</td>\n",
              "      <td>3.64</td>\n",
              "      <td>2013,2014,2015,2016,2017,2018</td>\n",
              "      <td>23</td>\n",
              "      <td>7</td>\n",
              "      <td>2</td>\n",
              "      <td>1</td>\n",
              "      <td>0</td>\n",
              "      <td>9</td>\n",
              "      <td>33</td>\n",
              "      <td>28</td>\n",
              "      <td>40</td>\n",
              "      <td>28</td>\n",
              "    </tr>\n",
              "  </tbody>\n",
              "</table>\n",
              "</div>"
            ],
            "text/plain": [
              "    business_id_encoded  user_id_encoded  ...  compliment_writer compliment_photos\n",
              "0                     0                0  ...                 79                67\n",
              "3                     1                1  ...                  0                 0\n",
              "6                     2                2  ...                 10                 0\n",
              "9                     3                3  ...                 13                 0\n",
              "11                    4                4  ...                 40                28\n",
              "\n",
              "[5 rows x 38 columns]"
            ]
          },
          "metadata": {
            "tags": []
          },
          "execution_count": 48
        }
      ]
    },
    {
      "cell_type": "code",
      "metadata": {
        "id": "TjjVjgs3dn0g",
        "colab_type": "code",
        "colab": {}
      },
      "source": [
        "df_3 = data3.drop(data3.columns[7:38], axis=1)"
      ],
      "execution_count": 0,
      "outputs": []
    },
    {
      "cell_type": "code",
      "metadata": {
        "id": "p40OdWgpgDSA",
        "colab_type": "code",
        "colab": {
          "base_uri": "https://localhost:8080/",
          "height": 80
        },
        "outputId": "f50a2c3d-f271-4ed4-8b09-fe19dbcfe756"
      },
      "source": [
        "df_3 = df_3.drop(columns = ['Unnamed: 0'])\n",
        "df_3.head(1)"
      ],
      "execution_count": 61,
      "outputs": [
        {
          "output_type": "execute_result",
          "data": {
            "text/html": [
              "<div>\n",
              "<style scoped>\n",
              "    .dataframe tbody tr th:only-of-type {\n",
              "        vertical-align: middle;\n",
              "    }\n",
              "\n",
              "    .dataframe tbody tr th {\n",
              "        vertical-align: top;\n",
              "    }\n",
              "\n",
              "    .dataframe thead th {\n",
              "        text-align: right;\n",
              "    }\n",
              "</style>\n",
              "<table border=\"1\" class=\"dataframe\">\n",
              "  <thead>\n",
              "    <tr style=\"text-align: right;\">\n",
              "      <th></th>\n",
              "      <th>business_id_encoded</th>\n",
              "      <th>user_id_encoded</th>\n",
              "      <th>user_id</th>\n",
              "      <th>business_id</th>\n",
              "      <th>rating_x</th>\n",
              "      <th>date</th>\n",
              "    </tr>\n",
              "  </thead>\n",
              "  <tbody>\n",
              "    <tr>\n",
              "      <th>0</th>\n",
              "      <td>0</td>\n",
              "      <td>0</td>\n",
              "      <td>jlu4CztcSxrKx56ba1a5AQ</td>\n",
              "      <td>3fw2X5bZYeW9xCz_zGhOHg</td>\n",
              "      <td>3.0</td>\n",
              "      <td>2016-05-07 01:21:02</td>\n",
              "    </tr>\n",
              "  </tbody>\n",
              "</table>\n",
              "</div>"
            ],
            "text/plain": [
              "   business_id_encoded  user_id_encoded  ... rating_x                 date\n",
              "0                    0                0  ...      3.0  2016-05-07 01:21:02\n",
              "\n",
              "[1 rows x 6 columns]"
            ]
          },
          "metadata": {
            "tags": []
          },
          "execution_count": 61
        }
      ]
    },
    {
      "cell_type": "code",
      "metadata": {
        "colab_type": "code",
        "id": "TRzR5s5kcdeo",
        "colab": {}
      },
      "source": [
        "df_3['review_rating'] = df_3.index\n",
        "test_df_2 = df_3.sort_values(['user_id', 'date'], ascending=[True, False])\n",
        "test_df_2 = test_df_2.groupby('user_id').first().reset_index()\n",
        "\n",
        "train_df_2 = df_3[~df_3['review_rating'].isin(test_df_2['review_rating'])]"
      ],
      "execution_count": 0,
      "outputs": []
    },
    {
      "cell_type": "code",
      "metadata": {
        "colab_type": "code",
        "outputId": "a3f6a254-6304-402a-802d-1f7f0f291d4f",
        "id": "J8d38pHBcdfp",
        "colab": {
          "base_uri": "https://localhost:8080/",
          "height": 102
        }
      },
      "source": [
        "#baseline model using surprise BaseLine\n",
        "from surprise.model_selection import cross_validate\n",
        "from surprise import BaselineOnly\n",
        "from surprise import accuracy\n",
        "from surprise import Reader, Dataset\n",
        "from surprise.model_selection import train_test_split\n",
        "\n",
        "#training_new=training.toPandas()\n",
        "#test_new=test.toPandas()\n",
        "\n",
        "print('Using SGD')\n",
        "bsl_options = {'method': 'sgd',\n",
        "               'learning_rate': .000005,\n",
        "               }\n",
        "algo = BaselineOnly(bsl_options=bsl_options)\n",
        "reader = Reader(rating_scale=(1, 5))\n",
        "data_train = Dataset.load_from_df(train_df_2[['user_id', 'business_id', 'rating_x']], reader)\n",
        "data_test = Dataset.load_from_df(test_df_2[['user_id', 'business_id', 'rating_x']], reader)\n",
        "\n",
        "trainset = data_train.build_full_trainset()\n",
        "algo.fit(trainset)\n",
        "\n",
        "trainset, testset = train_test_split(data_test, test_size=1.0)\n",
        "predictions = algo.test(testset)\n",
        "\n",
        "accuracy.rmse(predictions)\n",
        "accuracy.mae(predictions)"
      ],
      "execution_count": 68,
      "outputs": [
        {
          "output_type": "stream",
          "text": [
            "Using SGD\n",
            "Estimating biases using sgd...\n",
            "RMSE: 1.3522\n",
            "MAE:  1.1219\n"
          ],
          "name": "stdout"
        },
        {
          "output_type": "execute_result",
          "data": {
            "text/plain": [
              "1.1218843285869382"
            ]
          },
          "metadata": {
            "tags": []
          },
          "execution_count": 68
        }
      ]
    },
    {
      "cell_type": "markdown",
      "metadata": {
        "id": "PDLmQclG5Tn_",
        "colab_type": "text"
      },
      "source": [
        "#Baseline for Subset 2"
      ]
    },
    {
      "cell_type": "code",
      "metadata": {
        "id": "-8qGSTh-49ui",
        "colab_type": "code",
        "colab": {}
      },
      "source": [
        "city_name = \"Las Vegas\"\n",
        "path = \"/content/drive/My Drive/yelp_dataset/\"\n",
        "header = ['user_id', 'business_id', 'rating', 'date']\n",
        "data3 = pd.read_csv(path + city_name + '_reviews_ratings_only.txt', sep='\\t', names = header)"
      ],
      "execution_count": 0,
      "outputs": []
    },
    {
      "cell_type": "code",
      "metadata": {
        "id": "pcBbo-xk5Bax",
        "colab_type": "code",
        "outputId": "28d67c44-1eaa-432c-f1ee-f50efcb8f9cc",
        "colab": {
          "base_uri": "https://localhost:8080/",
          "height": 394
        }
      },
      "source": [
        "labels, uniques = pd.factorize(data3['user_id'])\n",
        "data3 = data3.assign(user_id_encoded = labels)\n",
        "cols = data3.columns.tolist()\n",
        "cols = cols[-1:] + cols[:-1]\n",
        "data3 = data3[cols]\n",
        "\n",
        "labels, uniques = pd.factorize(data3['business_id'])\n",
        "data3 = data3.assign(business_id_encoded = labels)\n",
        "cols = data3.columns.tolist()\n",
        "cols = cols[-1:] + cols[:-1]\n",
        "data3 = data3[cols]\n",
        "data3.head()"
      ],
      "execution_count": 0,
      "outputs": [
        {
          "output_type": "execute_result",
          "data": {
            "text/html": [
              "<div>\n",
              "<style scoped>\n",
              "    .dataframe tbody tr th:only-of-type {\n",
              "        vertical-align: middle;\n",
              "    }\n",
              "\n",
              "    .dataframe tbody tr th {\n",
              "        vertical-align: top;\n",
              "    }\n",
              "\n",
              "    .dataframe thead th {\n",
              "        text-align: right;\n",
              "    }\n",
              "</style>\n",
              "<table border=\"1\" class=\"dataframe\">\n",
              "  <thead>\n",
              "    <tr style=\"text-align: right;\">\n",
              "      <th></th>\n",
              "      <th>business_id_encoded</th>\n",
              "      <th>user_id_encoded</th>\n",
              "      <th>user_id</th>\n",
              "      <th>business_id</th>\n",
              "      <th>rating</th>\n",
              "      <th>date</th>\n",
              "    </tr>\n",
              "  </thead>\n",
              "  <tbody>\n",
              "    <tr>\n",
              "      <th>0</th>\n",
              "      <td>0</td>\n",
              "      <td>0</td>\n",
              "      <td>nMeCE5-xsdleyxYuNZ_7rA</td>\n",
              "      <td>oxwGyA17NL6c5t1Etg5WgQ</td>\n",
              "      <td>3.0</td>\n",
              "      <td>2012-02-29 21:52:43</td>\n",
              "    </tr>\n",
              "    <tr>\n",
              "      <th>1</th>\n",
              "      <td>1</td>\n",
              "      <td>1</td>\n",
              "      <td>FIk4lQQu1eTe2EpzQ4xhBA</td>\n",
              "      <td>8mIrX_LrOnAqWsB5JrOojQ</td>\n",
              "      <td>4.0</td>\n",
              "      <td>2011-11-30 02:11:15</td>\n",
              "    </tr>\n",
              "    <tr>\n",
              "      <th>2</th>\n",
              "      <td>2</td>\n",
              "      <td>2</td>\n",
              "      <td>3CJUJILq7CLHk_9OrvpvQg</td>\n",
              "      <td>I4Nr-MVc26qWr08-S3Q1ow</td>\n",
              "      <td>4.0</td>\n",
              "      <td>2016-01-17 05:26:22</td>\n",
              "    </tr>\n",
              "    <tr>\n",
              "      <th>3</th>\n",
              "      <td>3</td>\n",
              "      <td>3</td>\n",
              "      <td>C_hUvw2z0R-Rv0yZb6QCZA</td>\n",
              "      <td>dm6sO_Y8JdKTE1ZM955yug</td>\n",
              "      <td>5.0</td>\n",
              "      <td>2014-12-17 19:04:33</td>\n",
              "    </tr>\n",
              "    <tr>\n",
              "      <th>4</th>\n",
              "      <td>4</td>\n",
              "      <td>4</td>\n",
              "      <td>fxrQSMhHlBv6eJVRdchG9Q</td>\n",
              "      <td>IMLrj2klosTFvPRLv56cng</td>\n",
              "      <td>4.0</td>\n",
              "      <td>2014-10-11 03:50:27</td>\n",
              "    </tr>\n",
              "  </tbody>\n",
              "</table>\n",
              "</div>"
            ],
            "text/plain": [
              "   business_id_encoded  user_id_encoded  ... rating                 date\n",
              "0                    0                0  ...    3.0  2012-02-29 21:52:43\n",
              "1                    1                1  ...    4.0  2011-11-30 02:11:15\n",
              "2                    2                2  ...    4.0  2016-01-17 05:26:22\n",
              "3                    3                3  ...    5.0  2014-12-17 19:04:33\n",
              "4                    4                4  ...    4.0  2014-10-11 03:50:27\n",
              "\n",
              "[5 rows x 6 columns]"
            ]
          },
          "metadata": {
            "tags": []
          },
          "execution_count": 7
        }
      ]
    },
    {
      "cell_type": "code",
      "metadata": {
        "id": "uRFC1BKG5G0Q",
        "colab_type": "code",
        "colab": {}
      },
      "source": [
        "data3['review_rating'] = data3.index\n",
        "test_df = data3.sort_values(['user_id', 'date'], ascending=[True, False])\n",
        "test_df = test_df.groupby('user_id').first().reset_index()\n",
        "\n",
        "train_df = data3[~data3['review_rating'].isin(test_df['review_rating'])]"
      ],
      "execution_count": 0,
      "outputs": []
    },
    {
      "cell_type": "code",
      "metadata": {
        "id": "6VKseUo6iV2u",
        "colab_type": "code",
        "colab": {}
      },
      "source": [
        "training = spark.createDataFrame(train_df)\n",
        "test = spark.createDataFrame(test_df)"
      ],
      "execution_count": 0,
      "outputs": []
    },
    {
      "cell_type": "code",
      "metadata": {
        "id": "Se6grwIBsmZo",
        "colab_type": "code",
        "outputId": "30bc608f-c53c-408e-8410-5100abdc8120",
        "colab": {
          "base_uri": "https://localhost:8080/",
          "height": 34
        }
      },
      "source": [
        "test.count()"
      ],
      "execution_count": 0,
      "outputs": [
        {
          "output_type": "execute_result",
          "data": {
            "text/plain": [
              "8635"
            ]
          },
          "metadata": {
            "tags": []
          },
          "execution_count": 21
        }
      ]
    },
    {
      "cell_type": "code",
      "metadata": {
        "id": "OMwPaO_Bia_m",
        "colab_type": "code",
        "outputId": "d95ba1ab-2a3f-4d80-ec7b-5a08c5c9f99d",
        "colab": {
          "base_uri": "https://localhost:8080/",
          "height": 102
        }
      },
      "source": [
        "#Testing it on the test data\n",
        "start = datetime.now()\n",
        "print(\"Start Time =\", start)\n",
        "als = ALS(maxIter=10, regParam=0.05, \n",
        "          userCol=\"user_id_encoded\", itemCol=\"business_id_encoded\", ratingCol=\"rating\",\n",
        "          coldStartStrategy=\"drop\",\n",
        "          implicitPrefs=False, rank=10)\n",
        "model = als.fit(training)\n",
        "end = datetime.now()\n",
        "print(\"End Time =\", end)\n",
        "time_1 = (end - start).total_seconds()\n",
        "print(time_1)\n",
        "\n",
        "# Evaluate the model by computing the RMSE on the test data\n",
        "predictions = model.transform(test)\n",
        "evaluator = RegressionEvaluator(metricName=\"rmse\", labelCol=\"rating\",\n",
        "                                predictionCol=\"prediction\")\n",
        "\n",
        "rmse = evaluator.evaluate(predictions)\n",
        "rmse_1 = rmse\n",
        "print(\"Root-mean-square error = \" + str(rmse))\n",
        "\n",
        "#calculating r2 as the secondary metric\n",
        "evaluator = RegressionEvaluator(metricName=\"r2\", labelCol=\"rating\",\n",
        "                                predictionCol=\"prediction\")\n",
        "\n",
        "r2 = evaluator.evaluate(predictions)\n",
        "r2_1 = r2\n",
        "print(\"Root-squared error = \" + str(r2))"
      ],
      "execution_count": 0,
      "outputs": [
        {
          "output_type": "stream",
          "text": [
            "Start Time = 2019-12-18 21:24:41.903037\n",
            "End Time = 2019-12-18 21:25:01.821973\n",
            "19.918936\n",
            "Root-mean-square error = 1.440539984614435\n",
            "Root-squared error = -0.08697276061763382\n"
          ],
          "name": "stdout"
        }
      ]
    },
    {
      "cell_type": "code",
      "metadata": {
        "id": "FU9H6K6aZRQ-",
        "colab_type": "code",
        "outputId": "9490a863-932b-45fd-8bc4-ee9a6da9e078",
        "colab": {
          "base_uri": "https://localhost:8080/",
          "height": 204
        }
      },
      "source": [
        "train_df.head()"
      ],
      "execution_count": 0,
      "outputs": [
        {
          "output_type": "execute_result",
          "data": {
            "text/html": [
              "<div>\n",
              "<style scoped>\n",
              "    .dataframe tbody tr th:only-of-type {\n",
              "        vertical-align: middle;\n",
              "    }\n",
              "\n",
              "    .dataframe tbody tr th {\n",
              "        vertical-align: top;\n",
              "    }\n",
              "\n",
              "    .dataframe thead th {\n",
              "        text-align: right;\n",
              "    }\n",
              "</style>\n",
              "<table border=\"1\" class=\"dataframe\">\n",
              "  <thead>\n",
              "    <tr style=\"text-align: right;\">\n",
              "      <th></th>\n",
              "      <th>business_id_encoded</th>\n",
              "      <th>user_id_encoded</th>\n",
              "      <th>user_id</th>\n",
              "      <th>business_id</th>\n",
              "      <th>rating</th>\n",
              "      <th>date</th>\n",
              "      <th>review_rating</th>\n",
              "    </tr>\n",
              "  </thead>\n",
              "  <tbody>\n",
              "    <tr>\n",
              "      <th>0</th>\n",
              "      <td>0</td>\n",
              "      <td>0</td>\n",
              "      <td>nMeCE5-xsdleyxYuNZ_7rA</td>\n",
              "      <td>oxwGyA17NL6c5t1Etg5WgQ</td>\n",
              "      <td>3.0</td>\n",
              "      <td>2012-02-29 21:52:43</td>\n",
              "      <td>0</td>\n",
              "    </tr>\n",
              "    <tr>\n",
              "      <th>1</th>\n",
              "      <td>1</td>\n",
              "      <td>1</td>\n",
              "      <td>FIk4lQQu1eTe2EpzQ4xhBA</td>\n",
              "      <td>8mIrX_LrOnAqWsB5JrOojQ</td>\n",
              "      <td>4.0</td>\n",
              "      <td>2011-11-30 02:11:15</td>\n",
              "      <td>1</td>\n",
              "    </tr>\n",
              "    <tr>\n",
              "      <th>2</th>\n",
              "      <td>2</td>\n",
              "      <td>2</td>\n",
              "      <td>3CJUJILq7CLHk_9OrvpvQg</td>\n",
              "      <td>I4Nr-MVc26qWr08-S3Q1ow</td>\n",
              "      <td>4.0</td>\n",
              "      <td>2016-01-17 05:26:22</td>\n",
              "      <td>2</td>\n",
              "    </tr>\n",
              "    <tr>\n",
              "      <th>3</th>\n",
              "      <td>3</td>\n",
              "      <td>3</td>\n",
              "      <td>C_hUvw2z0R-Rv0yZb6QCZA</td>\n",
              "      <td>dm6sO_Y8JdKTE1ZM955yug</td>\n",
              "      <td>5.0</td>\n",
              "      <td>2014-12-17 19:04:33</td>\n",
              "      <td>3</td>\n",
              "    </tr>\n",
              "    <tr>\n",
              "      <th>4</th>\n",
              "      <td>4</td>\n",
              "      <td>4</td>\n",
              "      <td>fxrQSMhHlBv6eJVRdchG9Q</td>\n",
              "      <td>IMLrj2klosTFvPRLv56cng</td>\n",
              "      <td>4.0</td>\n",
              "      <td>2014-10-11 03:50:27</td>\n",
              "      <td>4</td>\n",
              "    </tr>\n",
              "  </tbody>\n",
              "</table>\n",
              "</div>"
            ],
            "text/plain": [
              "   business_id_encoded  user_id_encoded  ...                 date review_rating\n",
              "0                    0                0  ...  2012-02-29 21:52:43             0\n",
              "1                    1                1  ...  2011-11-30 02:11:15             1\n",
              "2                    2                2  ...  2016-01-17 05:26:22             2\n",
              "3                    3                3  ...  2014-12-17 19:04:33             3\n",
              "4                    4                4  ...  2014-10-11 03:50:27             4\n",
              "\n",
              "[5 rows x 7 columns]"
            ]
          },
          "metadata": {
            "tags": []
          },
          "execution_count": 50
        }
      ]
    },
    {
      "cell_type": "code",
      "metadata": {
        "id": "iLrow4ZVXfIn",
        "colab_type": "code",
        "outputId": "7c0ac168-2cad-4150-9749-3da3dada0064",
        "colab": {
          "base_uri": "https://localhost:8080/",
          "height": 102
        }
      },
      "source": [
        "#baseline model using surprise BaseLine\n",
        "from surprise.model_selection import cross_validate\n",
        "from surprise import BaselineOnly\n",
        "from surprise import accuracy\n",
        "from surprise import Reader, Dataset\n",
        "from surprise.model_selection import train_test_split\n",
        "\n",
        "#training_new=training.toPandas()\n",
        "#test_new=test.toPandas()\n",
        "\n",
        "print('Using SGD')\n",
        "bsl_options = {'method': 'sgd',\n",
        "               'learning_rate': .000005,\n",
        "               }\n",
        "algo = BaselineOnly(bsl_options=bsl_options)\n",
        "reader = Reader(rating_scale=(1, 5))\n",
        "data_train = Dataset.load_from_df(train_df[['user_id', 'business_id', 'rating']], reader)\n",
        "data_test = Dataset.load_from_df(test_df[['user_id', 'business_id', 'rating']], reader)\n",
        "\n",
        "trainset = data_train.build_full_trainset()\n",
        "algo.fit(trainset)\n",
        "\n",
        "trainset, testset = train_test_split(data_test, test_size=1.0)\n",
        "predictions = algo.test(testset)\n",
        "\n",
        "accuracy.rmse(predictions)\n",
        "accuracy.mae(predictions)"
      ],
      "execution_count": 0,
      "outputs": [
        {
          "output_type": "stream",
          "text": [
            "Using SGD\n",
            "Estimating biases using sgd...\n",
            "RMSE: 1.3826\n",
            "MAE:  1.1631\n"
          ],
          "name": "stdout"
        },
        {
          "output_type": "execute_result",
          "data": {
            "text/plain": [
              "1.1631404178113098"
            ]
          },
          "metadata": {
            "tags": []
          },
          "execution_count": 56
        }
      ]
    },
    {
      "cell_type": "code",
      "metadata": {
        "id": "SHT1nWf0ihY3",
        "colab_type": "code",
        "colab": {}
      },
      "source": [
        "predictionsDf = predictions.toPandas()"
      ],
      "execution_count": 0,
      "outputs": []
    },
    {
      "cell_type": "code",
      "metadata": {
        "id": "MJCCYr0y6qMF",
        "colab_type": "code",
        "outputId": "edaf1c44-d4f6-409c-cb29-b0db0d7c15f9",
        "colab": {
          "base_uri": "https://localhost:8080/",
          "height": 394
        }
      },
      "source": [
        "predictionsDf.head()"
      ],
      "execution_count": 0,
      "outputs": [
        {
          "output_type": "execute_result",
          "data": {
            "text/html": [
              "<div>\n",
              "<style scoped>\n",
              "    .dataframe tbody tr th:only-of-type {\n",
              "        vertical-align: middle;\n",
              "    }\n",
              "\n",
              "    .dataframe tbody tr th {\n",
              "        vertical-align: top;\n",
              "    }\n",
              "\n",
              "    .dataframe thead th {\n",
              "        text-align: right;\n",
              "    }\n",
              "</style>\n",
              "<table border=\"1\" class=\"dataframe\">\n",
              "  <thead>\n",
              "    <tr style=\"text-align: right;\">\n",
              "      <th></th>\n",
              "      <th>user_id</th>\n",
              "      <th>business_id_encoded</th>\n",
              "      <th>user_id_encoded</th>\n",
              "      <th>business_id</th>\n",
              "      <th>rating</th>\n",
              "      <th>date</th>\n",
              "      <th>review_rating</th>\n",
              "      <th>prediction</th>\n",
              "    </tr>\n",
              "  </thead>\n",
              "  <tbody>\n",
              "    <tr>\n",
              "      <th>0</th>\n",
              "      <td>HfaT1zkgTnBEnqcrMZ4hrQ</td>\n",
              "      <td>148</td>\n",
              "      <td>5470</td>\n",
              "      <td>TTDMJetAQKfxVzKZy4Z_2Q</td>\n",
              "      <td>3.0</td>\n",
              "      <td>2016-07-08 01:29:55</td>\n",
              "      <td>18684</td>\n",
              "      <td>1.245465</td>\n",
              "    </tr>\n",
              "    <tr>\n",
              "      <th>1</th>\n",
              "      <td>dfQ1NTHZy0KZhOfeFK_nng</td>\n",
              "      <td>1088</td>\n",
              "      <td>1402</td>\n",
              "      <td>YIYE7Zk61McLaekLFluzTg</td>\n",
              "      <td>4.0</td>\n",
              "      <td>2017-01-29 17:23:09</td>\n",
              "      <td>51454</td>\n",
              "      <td>4.609038</td>\n",
              "    </tr>\n",
              "    <tr>\n",
              "      <th>2</th>\n",
              "      <td>NVvm8H9U_nzXkjrhPXkg5w</td>\n",
              "      <td>1238</td>\n",
              "      <td>8100</td>\n",
              "      <td>ItqPtxnayraXSlBS0EMOgg</td>\n",
              "      <td>3.0</td>\n",
              "      <td>2018-09-02 01:53:14</td>\n",
              "      <td>90600</td>\n",
              "      <td>4.954135</td>\n",
              "    </tr>\n",
              "    <tr>\n",
              "      <th>3</th>\n",
              "      <td>mTZIZkzVGBBQVSub9nlLwQ</td>\n",
              "      <td>1238</td>\n",
              "      <td>657</td>\n",
              "      <td>ItqPtxnayraXSlBS0EMOgg</td>\n",
              "      <td>5.0</td>\n",
              "      <td>2018-05-26 19:40:06</td>\n",
              "      <td>76459</td>\n",
              "      <td>3.425271</td>\n",
              "    </tr>\n",
              "    <tr>\n",
              "      <th>4</th>\n",
              "      <td>R0riGDpjLwqqD796_TbXkg</td>\n",
              "      <td>1238</td>\n",
              "      <td>6074</td>\n",
              "      <td>ItqPtxnayraXSlBS0EMOgg</td>\n",
              "      <td>5.0</td>\n",
              "      <td>2018-11-13 01:32:06</td>\n",
              "      <td>86438</td>\n",
              "      <td>4.149514</td>\n",
              "    </tr>\n",
              "  </tbody>\n",
              "</table>\n",
              "</div>"
            ],
            "text/plain": [
              "                  user_id  business_id_encoded  ...  review_rating prediction\n",
              "0  HfaT1zkgTnBEnqcrMZ4hrQ                  148  ...          18684   1.245465\n",
              "1  dfQ1NTHZy0KZhOfeFK_nng                 1088  ...          51454   4.609038\n",
              "2  NVvm8H9U_nzXkjrhPXkg5w                 1238  ...          90600   4.954135\n",
              "3  mTZIZkzVGBBQVSub9nlLwQ                 1238  ...          76459   3.425271\n",
              "4  R0riGDpjLwqqD796_TbXkg                 1238  ...          86438   4.149514\n",
              "\n",
              "[5 rows x 8 columns]"
            ]
          },
          "metadata": {
            "tags": []
          },
          "execution_count": 16
        }
      ]
    },
    {
      "cell_type": "code",
      "metadata": {
        "id": "BGxguzcp7As7",
        "colab_type": "code",
        "colab": {}
      },
      "source": [
        "totalSparkDf = spark.createDataFrame(data3)"
      ],
      "execution_count": 0,
      "outputs": []
    },
    {
      "cell_type": "code",
      "metadata": {
        "id": "Y7WPzEey7Eh8",
        "colab_type": "code",
        "colab": {}
      },
      "source": [
        "predictionsTotal = model.transform(totalSparkDf)"
      ],
      "execution_count": 0,
      "outputs": []
    },
    {
      "cell_type": "code",
      "metadata": {
        "id": "t2uHM6rj7tw4",
        "colab_type": "code",
        "outputId": "584b7b24-2738-4551-9be3-e96aeddb5385",
        "colab": {
          "base_uri": "https://localhost:8080/",
          "height": 34
        }
      },
      "source": [
        "predictionsTotal.count()"
      ],
      "execution_count": 0,
      "outputs": [
        {
          "output_type": "execute_result",
          "data": {
            "text/plain": [
              "456261"
            ]
          },
          "metadata": {
            "tags": []
          },
          "execution_count": 24
        }
      ]
    },
    {
      "cell_type": "code",
      "metadata": {
        "id": "M-DHe_cw73U0",
        "colab_type": "code",
        "outputId": "b005b776-a46f-4da4-9649-bd55c3e89a3f",
        "colab": {
          "base_uri": "https://localhost:8080/",
          "height": 34
        }
      },
      "source": [
        "len(data3)"
      ],
      "execution_count": 0,
      "outputs": [
        {
          "output_type": "execute_result",
          "data": {
            "text/plain": [
              "456288"
            ]
          },
          "metadata": {
            "tags": []
          },
          "execution_count": 25
        }
      ]
    },
    {
      "cell_type": "code",
      "metadata": {
        "id": "A0Xap-Z476pe",
        "colab_type": "code",
        "colab": {}
      },
      "source": [
        "predictionsTotalDf = predictionsTotal.toPandas()"
      ],
      "execution_count": 0,
      "outputs": []
    },
    {
      "cell_type": "code",
      "metadata": {
        "id": "8NQrOY2u8WJb",
        "colab_type": "code",
        "outputId": "0caf6477-d331-4f54-94b4-ae163c8e7561",
        "colab": {
          "base_uri": "https://localhost:8080/",
          "height": 394
        }
      },
      "source": [
        "predictionsTotalDf.head()"
      ],
      "execution_count": 0,
      "outputs": [
        {
          "output_type": "execute_result",
          "data": {
            "text/html": [
              "<div>\n",
              "<style scoped>\n",
              "    .dataframe tbody tr th:only-of-type {\n",
              "        vertical-align: middle;\n",
              "    }\n",
              "\n",
              "    .dataframe tbody tr th {\n",
              "        vertical-align: top;\n",
              "    }\n",
              "\n",
              "    .dataframe thead th {\n",
              "        text-align: right;\n",
              "    }\n",
              "</style>\n",
              "<table border=\"1\" class=\"dataframe\">\n",
              "  <thead>\n",
              "    <tr style=\"text-align: right;\">\n",
              "      <th></th>\n",
              "      <th>business_id_encoded</th>\n",
              "      <th>user_id_encoded</th>\n",
              "      <th>user_id</th>\n",
              "      <th>business_id</th>\n",
              "      <th>rating</th>\n",
              "      <th>date</th>\n",
              "      <th>review_rating</th>\n",
              "      <th>prediction</th>\n",
              "    </tr>\n",
              "  </thead>\n",
              "  <tbody>\n",
              "    <tr>\n",
              "      <th>0</th>\n",
              "      <td>148</td>\n",
              "      <td>5578</td>\n",
              "      <td>kDGhswMrYIOaFJAViW_nCA</td>\n",
              "      <td>TTDMJetAQKfxVzKZy4Z_2Q</td>\n",
              "      <td>3.0</td>\n",
              "      <td>2011-09-04 01:57:27</td>\n",
              "      <td>19602</td>\n",
              "      <td>2.397272</td>\n",
              "    </tr>\n",
              "    <tr>\n",
              "      <th>1</th>\n",
              "      <td>148</td>\n",
              "      <td>133</td>\n",
              "      <td>wXZS42D0L8hoCiSh2Krc_A</td>\n",
              "      <td>TTDMJetAQKfxVzKZy4Z_2Q</td>\n",
              "      <td>4.0</td>\n",
              "      <td>2018-09-20 00:00:29</td>\n",
              "      <td>22336</td>\n",
              "      <td>2.696219</td>\n",
              "    </tr>\n",
              "    <tr>\n",
              "      <th>2</th>\n",
              "      <td>148</td>\n",
              "      <td>2797</td>\n",
              "      <td>0JzIDpRUdnc_qgo5MEy5rA</td>\n",
              "      <td>TTDMJetAQKfxVzKZy4Z_2Q</td>\n",
              "      <td>1.0</td>\n",
              "      <td>2013-02-27 02:31:39</td>\n",
              "      <td>12413</td>\n",
              "      <td>2.020710</td>\n",
              "    </tr>\n",
              "    <tr>\n",
              "      <th>3</th>\n",
              "      <td>148</td>\n",
              "      <td>6639</td>\n",
              "      <td>5RLxzxLIY3ZXUUksr_dtXA</td>\n",
              "      <td>TTDMJetAQKfxVzKZy4Z_2Q</td>\n",
              "      <td>4.0</td>\n",
              "      <td>2012-01-18 22:08:57</td>\n",
              "      <td>25132</td>\n",
              "      <td>3.404771</td>\n",
              "    </tr>\n",
              "    <tr>\n",
              "      <th>4</th>\n",
              "      <td>148</td>\n",
              "      <td>784</td>\n",
              "      <td>j6Bdnlcu3mwrDmDIOPXbSg</td>\n",
              "      <td>TTDMJetAQKfxVzKZy4Z_2Q</td>\n",
              "      <td>2.0</td>\n",
              "      <td>2013-08-25 15:58:44</td>\n",
              "      <td>22019</td>\n",
              "      <td>2.238167</td>\n",
              "    </tr>\n",
              "  </tbody>\n",
              "</table>\n",
              "</div>"
            ],
            "text/plain": [
              "   business_id_encoded  user_id_encoded  ... review_rating prediction\n",
              "0                  148             5578  ...         19602   2.397272\n",
              "1                  148              133  ...         22336   2.696219\n",
              "2                  148             2797  ...         12413   2.020710\n",
              "3                  148             6639  ...         25132   3.404771\n",
              "4                  148              784  ...         22019   2.238167\n",
              "\n",
              "[5 rows x 8 columns]"
            ]
          },
          "metadata": {
            "tags": []
          },
          "execution_count": 36
        }
      ]
    },
    {
      "cell_type": "code",
      "metadata": {
        "id": "R3oPw0FR8Oyt",
        "colab_type": "code",
        "outputId": "45f5bdb6-b551-4e47-c8a2-3e424ad20f4e",
        "colab": {
          "base_uri": "https://localhost:8080/",
          "height": 204
        }
      },
      "source": [
        "predictionsTotalDf = predictionsTotalDf.drop(columns = ['business_id_encoded', 'user_id_encoded', 'review_rating'])\n",
        "predictionsTotalDf.head()"
      ],
      "execution_count": 0,
      "outputs": [
        {
          "output_type": "execute_result",
          "data": {
            "text/html": [
              "<div>\n",
              "<style scoped>\n",
              "    .dataframe tbody tr th:only-of-type {\n",
              "        vertical-align: middle;\n",
              "    }\n",
              "\n",
              "    .dataframe tbody tr th {\n",
              "        vertical-align: top;\n",
              "    }\n",
              "\n",
              "    .dataframe thead th {\n",
              "        text-align: right;\n",
              "    }\n",
              "</style>\n",
              "<table border=\"1\" class=\"dataframe\">\n",
              "  <thead>\n",
              "    <tr style=\"text-align: right;\">\n",
              "      <th></th>\n",
              "      <th>user_id</th>\n",
              "      <th>business_id</th>\n",
              "      <th>rating</th>\n",
              "      <th>date</th>\n",
              "      <th>prediction</th>\n",
              "    </tr>\n",
              "  </thead>\n",
              "  <tbody>\n",
              "    <tr>\n",
              "      <th>0</th>\n",
              "      <td>kDGhswMrYIOaFJAViW_nCA</td>\n",
              "      <td>TTDMJetAQKfxVzKZy4Z_2Q</td>\n",
              "      <td>3.0</td>\n",
              "      <td>2011-09-04 01:57:27</td>\n",
              "      <td>2.397272</td>\n",
              "    </tr>\n",
              "    <tr>\n",
              "      <th>1</th>\n",
              "      <td>wXZS42D0L8hoCiSh2Krc_A</td>\n",
              "      <td>TTDMJetAQKfxVzKZy4Z_2Q</td>\n",
              "      <td>4.0</td>\n",
              "      <td>2018-09-20 00:00:29</td>\n",
              "      <td>2.696219</td>\n",
              "    </tr>\n",
              "    <tr>\n",
              "      <th>2</th>\n",
              "      <td>0JzIDpRUdnc_qgo5MEy5rA</td>\n",
              "      <td>TTDMJetAQKfxVzKZy4Z_2Q</td>\n",
              "      <td>1.0</td>\n",
              "      <td>2013-02-27 02:31:39</td>\n",
              "      <td>2.020710</td>\n",
              "    </tr>\n",
              "    <tr>\n",
              "      <th>3</th>\n",
              "      <td>5RLxzxLIY3ZXUUksr_dtXA</td>\n",
              "      <td>TTDMJetAQKfxVzKZy4Z_2Q</td>\n",
              "      <td>4.0</td>\n",
              "      <td>2012-01-18 22:08:57</td>\n",
              "      <td>3.404771</td>\n",
              "    </tr>\n",
              "    <tr>\n",
              "      <th>4</th>\n",
              "      <td>j6Bdnlcu3mwrDmDIOPXbSg</td>\n",
              "      <td>TTDMJetAQKfxVzKZy4Z_2Q</td>\n",
              "      <td>2.0</td>\n",
              "      <td>2013-08-25 15:58:44</td>\n",
              "      <td>2.238167</td>\n",
              "    </tr>\n",
              "  </tbody>\n",
              "</table>\n",
              "</div>"
            ],
            "text/plain": [
              "                  user_id  ... prediction\n",
              "0  kDGhswMrYIOaFJAViW_nCA  ...   2.397272\n",
              "1  wXZS42D0L8hoCiSh2Krc_A  ...   2.696219\n",
              "2  0JzIDpRUdnc_qgo5MEy5rA  ...   2.020710\n",
              "3  5RLxzxLIY3ZXUUksr_dtXA  ...   3.404771\n",
              "4  j6Bdnlcu3mwrDmDIOPXbSg  ...   2.238167\n",
              "\n",
              "[5 rows x 5 columns]"
            ]
          },
          "metadata": {
            "tags": []
          },
          "execution_count": 37
        }
      ]
    },
    {
      "cell_type": "code",
      "metadata": {
        "id": "EmNVEEPZ8hBf",
        "colab_type": "code",
        "colab": {}
      },
      "source": [
        "predictionsTotalDf.to_csv('/content/drive/My Drive/' + 'ALSPredictions1.csv')\n"
      ],
      "execution_count": 0,
      "outputs": []
    },
    {
      "cell_type": "code",
      "metadata": {
        "id": "97pOGZdR85ax",
        "colab_type": "code",
        "outputId": "bd712863-b79b-415f-85dc-f278ec447082",
        "colab": {
          "base_uri": "https://localhost:8080/",
          "height": 34
        }
      },
      "source": [
        "predictionsTotalDf.shape"
      ],
      "execution_count": 0,
      "outputs": [
        {
          "output_type": "execute_result",
          "data": {
            "text/plain": [
              "(456261, 4)"
            ]
          },
          "metadata": {
            "tags": []
          },
          "execution_count": 33
        }
      ]
    },
    {
      "cell_type": "code",
      "metadata": {
        "id": "ks0p5xxtAEqc",
        "colab_type": "code",
        "outputId": "23d2b7a1-c11d-4440-b677-aaec1d0a5fe2",
        "colab": {
          "base_uri": "https://localhost:8080/",
          "height": 394
        }
      },
      "source": [
        "data3.head()"
      ],
      "execution_count": 0,
      "outputs": [
        {
          "output_type": "execute_result",
          "data": {
            "text/html": [
              "<div>\n",
              "<style scoped>\n",
              "    .dataframe tbody tr th:only-of-type {\n",
              "        vertical-align: middle;\n",
              "    }\n",
              "\n",
              "    .dataframe tbody tr th {\n",
              "        vertical-align: top;\n",
              "    }\n",
              "\n",
              "    .dataframe thead th {\n",
              "        text-align: right;\n",
              "    }\n",
              "</style>\n",
              "<table border=\"1\" class=\"dataframe\">\n",
              "  <thead>\n",
              "    <tr style=\"text-align: right;\">\n",
              "      <th></th>\n",
              "      <th>business_id_encoded</th>\n",
              "      <th>user_id_encoded</th>\n",
              "      <th>user_id</th>\n",
              "      <th>business_id</th>\n",
              "      <th>rating</th>\n",
              "      <th>date</th>\n",
              "      <th>review_rating</th>\n",
              "    </tr>\n",
              "  </thead>\n",
              "  <tbody>\n",
              "    <tr>\n",
              "      <th>0</th>\n",
              "      <td>0</td>\n",
              "      <td>0</td>\n",
              "      <td>nMeCE5-xsdleyxYuNZ_7rA</td>\n",
              "      <td>oxwGyA17NL6c5t1Etg5WgQ</td>\n",
              "      <td>3.0</td>\n",
              "      <td>2012-02-29 21:52:43</td>\n",
              "      <td>0</td>\n",
              "    </tr>\n",
              "    <tr>\n",
              "      <th>1</th>\n",
              "      <td>1</td>\n",
              "      <td>1</td>\n",
              "      <td>FIk4lQQu1eTe2EpzQ4xhBA</td>\n",
              "      <td>8mIrX_LrOnAqWsB5JrOojQ</td>\n",
              "      <td>4.0</td>\n",
              "      <td>2011-11-30 02:11:15</td>\n",
              "      <td>1</td>\n",
              "    </tr>\n",
              "    <tr>\n",
              "      <th>2</th>\n",
              "      <td>2</td>\n",
              "      <td>2</td>\n",
              "      <td>3CJUJILq7CLHk_9OrvpvQg</td>\n",
              "      <td>I4Nr-MVc26qWr08-S3Q1ow</td>\n",
              "      <td>4.0</td>\n",
              "      <td>2016-01-17 05:26:22</td>\n",
              "      <td>2</td>\n",
              "    </tr>\n",
              "    <tr>\n",
              "      <th>3</th>\n",
              "      <td>3</td>\n",
              "      <td>3</td>\n",
              "      <td>C_hUvw2z0R-Rv0yZb6QCZA</td>\n",
              "      <td>dm6sO_Y8JdKTE1ZM955yug</td>\n",
              "      <td>5.0</td>\n",
              "      <td>2014-12-17 19:04:33</td>\n",
              "      <td>3</td>\n",
              "    </tr>\n",
              "    <tr>\n",
              "      <th>4</th>\n",
              "      <td>4</td>\n",
              "      <td>4</td>\n",
              "      <td>fxrQSMhHlBv6eJVRdchG9Q</td>\n",
              "      <td>IMLrj2klosTFvPRLv56cng</td>\n",
              "      <td>4.0</td>\n",
              "      <td>2014-10-11 03:50:27</td>\n",
              "      <td>4</td>\n",
              "    </tr>\n",
              "  </tbody>\n",
              "</table>\n",
              "</div>"
            ],
            "text/plain": [
              "   business_id_encoded  user_id_encoded  ...                 date review_rating\n",
              "0                    0                0  ...  2012-02-29 21:52:43             0\n",
              "1                    1                1  ...  2011-11-30 02:11:15             1\n",
              "2                    2                2  ...  2016-01-17 05:26:22             2\n",
              "3                    3                3  ...  2014-12-17 19:04:33             3\n",
              "4                    4                4  ...  2014-10-11 03:50:27             4\n",
              "\n",
              "[5 rows x 7 columns]"
            ]
          },
          "metadata": {
            "tags": []
          },
          "execution_count": 34
        }
      ]
    },
    {
      "cell_type": "markdown",
      "metadata": {
        "id": "A-NqHWxBnf5l",
        "colab_type": "text"
      },
      "source": [
        "#Baseline for Subset 3"
      ]
    },
    {
      "cell_type": "code",
      "metadata": {
        "colab_type": "code",
        "id": "OMlE5k9zqhPT",
        "colab": {}
      },
      "source": [
        "#city_name = \"Las Vegas\"\n",
        "path = \"/content/drive/My Drive/train_set_ap_final.csv\"\n",
        "#header = ['user_id', 'business_id', 'rating']\n",
        "train_df = pd.read_csv(path)"
      ],
      "execution_count": 0,
      "outputs": []
    },
    {
      "cell_type": "code",
      "metadata": {
        "colab_type": "code",
        "outputId": "2cdbf542-5145-4389-bf94-3a14a5f363a9",
        "id": "Ep493H_PqhQa",
        "colab": {
          "base_uri": "https://localhost:8080/",
          "height": 204
        }
      },
      "source": [
        "labels, uniques = pd.factorize(train_df['user_id'])\n",
        "train_df = train_df.assign(user_id_encoded = labels)\n",
        "cols = train_df.columns.tolist()\n",
        "cols = cols[-1:] + cols[:-1]\n",
        "train_df = train_df[cols]\n",
        "\n",
        "labels, uniques = pd.factorize(train_df['business_id'])\n",
        "train_df = train_df.assign(business_id_encoded = labels)\n",
        "cols = train_df.columns.tolist()\n",
        "cols = cols[-1:] + cols[:-1]\n",
        "train_df = train_df[cols]\n",
        "train_df.head()"
      ],
      "execution_count": 6,
      "outputs": [
        {
          "output_type": "execute_result",
          "data": {
            "text/html": [
              "<div>\n",
              "<style scoped>\n",
              "    .dataframe tbody tr th:only-of-type {\n",
              "        vertical-align: middle;\n",
              "    }\n",
              "\n",
              "    .dataframe tbody tr th {\n",
              "        vertical-align: top;\n",
              "    }\n",
              "\n",
              "    .dataframe thead th {\n",
              "        text-align: right;\n",
              "    }\n",
              "</style>\n",
              "<table border=\"1\" class=\"dataframe\">\n",
              "  <thead>\n",
              "    <tr style=\"text-align: right;\">\n",
              "      <th></th>\n",
              "      <th>business_id_encoded</th>\n",
              "      <th>user_id_encoded</th>\n",
              "      <th>user_id</th>\n",
              "      <th>business_id</th>\n",
              "      <th>rating</th>\n",
              "    </tr>\n",
              "  </thead>\n",
              "  <tbody>\n",
              "    <tr>\n",
              "      <th>0</th>\n",
              "      <td>0</td>\n",
              "      <td>0</td>\n",
              "      <td>---1lKK3aKOuomHnwAkAow</td>\n",
              "      <td>rq5dgoksPHkJwJNQKlGQ7w</td>\n",
              "      <td>5.0</td>\n",
              "    </tr>\n",
              "    <tr>\n",
              "      <th>1</th>\n",
              "      <td>1</td>\n",
              "      <td>0</td>\n",
              "      <td>---1lKK3aKOuomHnwAkAow</td>\n",
              "      <td>zEaGcSVPDQipnRdEZp-F6g</td>\n",
              "      <td>2.0</td>\n",
              "    </tr>\n",
              "    <tr>\n",
              "      <th>2</th>\n",
              "      <td>2</td>\n",
              "      <td>0</td>\n",
              "      <td>---1lKK3aKOuomHnwAkAow</td>\n",
              "      <td>Qy_tDaVTWlS14fEglzo1Tg</td>\n",
              "      <td>4.0</td>\n",
              "    </tr>\n",
              "    <tr>\n",
              "      <th>3</th>\n",
              "      <td>3</td>\n",
              "      <td>0</td>\n",
              "      <td>---1lKK3aKOuomHnwAkAow</td>\n",
              "      <td>YCEZLECK9IToE8Mysorbhw</td>\n",
              "      <td>5.0</td>\n",
              "    </tr>\n",
              "    <tr>\n",
              "      <th>4</th>\n",
              "      <td>4</td>\n",
              "      <td>0</td>\n",
              "      <td>---1lKK3aKOuomHnwAkAow</td>\n",
              "      <td>p5rpYtxS5xPQjt3MXYVEwA</td>\n",
              "      <td>5.0</td>\n",
              "    </tr>\n",
              "  </tbody>\n",
              "</table>\n",
              "</div>"
            ],
            "text/plain": [
              "   business_id_encoded  user_id_encoded  ...             business_id rating\n",
              "0                    0                0  ...  rq5dgoksPHkJwJNQKlGQ7w    5.0\n",
              "1                    1                0  ...  zEaGcSVPDQipnRdEZp-F6g    2.0\n",
              "2                    2                0  ...  Qy_tDaVTWlS14fEglzo1Tg    4.0\n",
              "3                    3                0  ...  YCEZLECK9IToE8Mysorbhw    5.0\n",
              "4                    4                0  ...  p5rpYtxS5xPQjt3MXYVEwA    5.0\n",
              "\n",
              "[5 rows x 5 columns]"
            ]
          },
          "metadata": {
            "tags": []
          },
          "execution_count": 6
        }
      ]
    },
    {
      "cell_type": "code",
      "metadata": {
        "id": "Uoxvslt7rK6Z",
        "colab_type": "code",
        "colab": {}
      },
      "source": [
        "#city_name = \"Las Vegas\"\n",
        "path = \"/content/drive/My Drive/test_set_ap_final.csv\"\n",
        "#header = ['user_id', 'business_id', 'rating']\n",
        "test_df = pd.read_csv(path)"
      ],
      "execution_count": 0,
      "outputs": []
    },
    {
      "cell_type": "code",
      "metadata": {
        "id": "m1O8CgFIrbJL",
        "colab_type": "code",
        "outputId": "99fcc587-a22a-407e-db06-5e7d8bf4796a",
        "colab": {
          "base_uri": "https://localhost:8080/",
          "height": 204
        }
      },
      "source": [
        "labels, uniques = pd.factorize(test_df['user_id'])\n",
        "test_df = test_df.assign(user_id_encoded = labels)\n",
        "cols = test_df.columns.tolist()\n",
        "cols = cols[-1:] + cols[:-1]\n",
        "test_df = test_df[cols]\n",
        "\n",
        "labels, uniques = pd.factorize(test_df['business_id'])\n",
        "test_df = test_df.assign(business_id_encoded = labels)\n",
        "cols = test_df.columns.tolist()\n",
        "cols = cols[-1:] + cols[:-1]\n",
        "test_df = test_df[cols]\n",
        "test_df.head()"
      ],
      "execution_count": 8,
      "outputs": [
        {
          "output_type": "execute_result",
          "data": {
            "text/html": [
              "<div>\n",
              "<style scoped>\n",
              "    .dataframe tbody tr th:only-of-type {\n",
              "        vertical-align: middle;\n",
              "    }\n",
              "\n",
              "    .dataframe tbody tr th {\n",
              "        vertical-align: top;\n",
              "    }\n",
              "\n",
              "    .dataframe thead th {\n",
              "        text-align: right;\n",
              "    }\n",
              "</style>\n",
              "<table border=\"1\" class=\"dataframe\">\n",
              "  <thead>\n",
              "    <tr style=\"text-align: right;\">\n",
              "      <th></th>\n",
              "      <th>business_id_encoded</th>\n",
              "      <th>user_id_encoded</th>\n",
              "      <th>user_id</th>\n",
              "      <th>business_id</th>\n",
              "      <th>rating</th>\n",
              "    </tr>\n",
              "  </thead>\n",
              "  <tbody>\n",
              "    <tr>\n",
              "      <th>0</th>\n",
              "      <td>0</td>\n",
              "      <td>0</td>\n",
              "      <td>---1lKK3aKOuomHnwAkAow</td>\n",
              "      <td>_sh6mIBWZis66mAjkjN8Qg</td>\n",
              "      <td>5.0</td>\n",
              "    </tr>\n",
              "    <tr>\n",
              "      <th>1</th>\n",
              "      <td>1</td>\n",
              "      <td>1</td>\n",
              "      <td>--RlSfc-QmcHFGHyX6aVjA</td>\n",
              "      <td>AtD6B83S4Mbmq0t7iDnUVA</td>\n",
              "      <td>5.0</td>\n",
              "    </tr>\n",
              "    <tr>\n",
              "      <th>2</th>\n",
              "      <td>2</td>\n",
              "      <td>2</td>\n",
              "      <td>-05XqtNjcBq19vh2CVJN8g</td>\n",
              "      <td>Tefx_N6A6nrsdj4jHHnbYg</td>\n",
              "      <td>5.0</td>\n",
              "    </tr>\n",
              "    <tr>\n",
              "      <th>3</th>\n",
              "      <td>3</td>\n",
              "      <td>3</td>\n",
              "      <td>-0HhZbPBlB1YZx3BhAfaEA</td>\n",
              "      <td>x8O-Mll5ksDpeIgtA0XY-w</td>\n",
              "      <td>3.0</td>\n",
              "    </tr>\n",
              "    <tr>\n",
              "      <th>4</th>\n",
              "      <td>4</td>\n",
              "      <td>4</td>\n",
              "      <td>-21ooEUDqBkCF0hr94Pvgg</td>\n",
              "      <td>4aCun88uZMOsAoymY5Li3w</td>\n",
              "      <td>4.0</td>\n",
              "    </tr>\n",
              "  </tbody>\n",
              "</table>\n",
              "</div>"
            ],
            "text/plain": [
              "   business_id_encoded  user_id_encoded  ...             business_id rating\n",
              "0                    0                0  ...  _sh6mIBWZis66mAjkjN8Qg    5.0\n",
              "1                    1                1  ...  AtD6B83S4Mbmq0t7iDnUVA    5.0\n",
              "2                    2                2  ...  Tefx_N6A6nrsdj4jHHnbYg    5.0\n",
              "3                    3                3  ...  x8O-Mll5ksDpeIgtA0XY-w    3.0\n",
              "4                    4                4  ...  4aCun88uZMOsAoymY5Li3w    4.0\n",
              "\n",
              "[5 rows x 5 columns]"
            ]
          },
          "metadata": {
            "tags": []
          },
          "execution_count": 8
        }
      ]
    },
    {
      "cell_type": "code",
      "metadata": {
        "colab_type": "code",
        "id": "yyR9Mr-oqhR0",
        "colab": {}
      },
      "source": [
        "training = spark.createDataFrame(train_df)\n",
        "test = spark.createDataFrame(test_df)"
      ],
      "execution_count": 0,
      "outputs": []
    },
    {
      "cell_type": "code",
      "metadata": {
        "colab_type": "code",
        "outputId": "fe1b1744-8f6c-4339-b0cb-9e001e7828c4",
        "id": "lNgMg7v4qhSt",
        "colab": {
          "base_uri": "https://localhost:8080/",
          "height": 34
        }
      },
      "source": [
        "test.count()"
      ],
      "execution_count": 10,
      "outputs": [
        {
          "output_type": "execute_result",
          "data": {
            "text/plain": [
              "4363"
            ]
          },
          "metadata": {
            "tags": []
          },
          "execution_count": 10
        }
      ]
    },
    {
      "cell_type": "code",
      "metadata": {
        "colab_type": "code",
        "outputId": "eff045a3-a66b-4244-a265-784167da18e4",
        "id": "1iSYLGOoqhTb",
        "colab": {
          "base_uri": "https://localhost:8080/",
          "height": 102
        }
      },
      "source": [
        "#Testing it on the test data\n",
        "start = datetime.now()\n",
        "print(\"Start Time =\", start)\n",
        "als = ALS(maxIter=10, regParam=0.05, \n",
        "          userCol=\"user_id_encoded\", itemCol=\"business_id_encoded\", ratingCol=\"rating\",\n",
        "          coldStartStrategy=\"drop\",\n",
        "          implicitPrefs=False, rank=30)\n",
        "model = als.fit(training)\n",
        "end = datetime.now()\n",
        "print(\"End Time =\", end)\n",
        "time_1 = (end - start).total_seconds()\n",
        "print(time_1)\n",
        "\n",
        "# Evaluate the model by computing the RMSE on the test data\n",
        "predictions = model.transform(test)\n",
        "evaluator = RegressionEvaluator(metricName=\"rmse\", labelCol=\"rating\",\n",
        "                                predictionCol=\"prediction\")\n",
        "\n",
        "rmse = evaluator.evaluate(predictions)\n",
        "rmse_1 = rmse\n",
        "print(\"Root-mean-square error = \" + str(rmse))\n",
        "\n",
        "#calculating r2 as the secondary metric\n",
        "evaluator = RegressionEvaluator(metricName=\"r2\", labelCol=\"rating\",\n",
        "                                predictionCol=\"prediction\")\n",
        "\n",
        "r2 = evaluator.evaluate(predictions)\n",
        "r2_1 = r2\n",
        "print(\"Root-squared error = \" + str(r2))"
      ],
      "execution_count": 27,
      "outputs": [
        {
          "output_type": "stream",
          "text": [
            "Start Time = 2019-12-19 17:30:48.009821\n",
            "End Time = 2019-12-19 17:30:52.933379\n",
            "4.923558\n",
            "Root-mean-square error = 1.7748372706948814\n",
            "Root-squared error = -0.6926637620733604\n"
          ],
          "name": "stdout"
        }
      ]
    },
    {
      "cell_type": "code",
      "metadata": {
        "colab_type": "code",
        "outputId": "68b4863c-877c-46cb-c881-5e02ac6e6791",
        "id": "BEyjD1M_qhUH",
        "colab": {
          "base_uri": "https://localhost:8080/",
          "height": 102
        }
      },
      "source": [
        "#baseline model using surprise BaseLine\n",
        "from surprise.model_selection import cross_validate\n",
        "from surprise import BaselineOnly\n",
        "from surprise import accuracy\n",
        "from surprise import Reader, Dataset\n",
        "from surprise.model_selection import train_test_split\n",
        "\n",
        "#training_new=training.toPandas()\n",
        "#test_new=test.toPandas()\n",
        "\n",
        "print('Using SGD')\n",
        "bsl_options = {'method': 'sgd',\n",
        "               'learning_rate': .000005\n",
        "               }\n",
        "algo = BaselineOnly(bsl_options=bsl_options)\n",
        "reader = Reader(rating_scale=(1, 5))\n",
        "data_train = Dataset.load_from_df(train_df[['user_id', 'business_id', 'rating']], reader)\n",
        "data_test = Dataset.load_from_df(test_df[['user_id', 'business_id', 'rating']], reader)\n",
        "\n",
        "trainset = data_train.build_full_trainset()\n",
        "algo.fit(trainset)\n",
        "\n",
        "trainset, testset = train_test_split(data_test, test_size=1.0)\n",
        "predictions_3 = algo.test(testset)\n",
        "\n",
        "accuracy.rmse(predictions_3)\n",
        "accuracy.mae(predictions_3)"
      ],
      "execution_count": 30,
      "outputs": [
        {
          "output_type": "stream",
          "text": [
            "Using SGD\n",
            "Estimating biases using sgd...\n",
            "RMSE: 1.3635\n",
            "MAE:  1.1448\n"
          ],
          "name": "stdout"
        },
        {
          "output_type": "execute_result",
          "data": {
            "text/plain": [
              "1.1447658251366994"
            ]
          },
          "metadata": {
            "tags": []
          },
          "execution_count": 30
        }
      ]
    },
    {
      "cell_type": "code",
      "metadata": {
        "id": "c1D6TgTrnyHv",
        "colab_type": "code",
        "colab": {}
      },
      "source": [
        "predictionsTotalDf3 = predictions.toPandas()"
      ],
      "execution_count": 0,
      "outputs": []
    },
    {
      "cell_type": "code",
      "metadata": {
        "id": "xTws4atZqpEh",
        "colab_type": "code",
        "colab": {}
      },
      "source": [
        "predictionsTotalDf3.to_csv('/content/drive/My Drive/' + 'ALSPredictions3.csv')"
      ],
      "execution_count": 0,
      "outputs": []
    },
    {
      "cell_type": "code",
      "metadata": {
        "id": "BAj7L8DaOq98",
        "colab_type": "code",
        "colab": {}
      },
      "source": [
        ""
      ],
      "execution_count": 0,
      "outputs": []
    }
  ]
}