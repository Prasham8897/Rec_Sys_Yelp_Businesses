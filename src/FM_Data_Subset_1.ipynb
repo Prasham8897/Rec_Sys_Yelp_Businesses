{
  "nbformat": 4,
  "nbformat_minor": 0,
  "metadata": {
    "kernelspec": {
      "name": "python3",
      "display_name": "Python 3"
    },
    "language_info": {
      "codemirror_mode": {
        "name": "ipython",
        "version": 3
      },
      "file_extension": ".py",
      "mimetype": "text/x-python",
      "name": "python",
      "nbconvert_exporter": "python",
      "pygments_lexer": "ipython3",
      "version": "3.7.3"
    },
    "colab": {
      "name": "FM- Data Subset 1.ipynb",
      "provenance": [],
      "collapsed_sections": [],
      "machine_shape": "hm"
    }
  },
  "cells": [
    {
      "cell_type": "markdown",
      "metadata": {
        "id": "-She82eyw_Ma",
        "colab_type": "text"
      },
      "source": [
        "## Installing Packages"
      ]
    },
    {
      "cell_type": "code",
      "metadata": {
        "id": "vKF02kjX_enm",
        "colab_type": "code",
        "outputId": "18ee9eb5-37d9-487e-fd7b-a424f40b352f",
        "colab": {
          "base_uri": "https://localhost:8080/",
          "height": 35
        }
      },
      "source": [
        "from google.colab import drive\n",
        "drive.mount('/content/drive/', force_remount=True)"
      ],
      "execution_count": 1,
      "outputs": [
        {
          "output_type": "stream",
          "text": [
            "Mounted at /content/drive/\n"
          ],
          "name": "stdout"
        }
      ]
    },
    {
      "cell_type": "code",
      "metadata": {
        "id": "lllDoRGM_T-m",
        "colab_type": "code",
        "colab": {}
      },
      "source": [
        "#!pip install git+https://github.com/coreylynch/pyFM\n",
        "import numpy as np\n",
        "import pandas as pd\n",
        "from datetime import datetime\n",
        "import json\n",
        "from tqdm import tqdm\n",
        "from sklearn.preprocessing import MultiLabelBinarizer\n",
        "import itertools\n",
        "import scipy as sp\n",
        "from sklearn.feature_extraction import DictVectorizer\n",
        "from pyfm import pylibfm\n",
        "from sklearn.preprocessing import normalize\n",
        "from scipy import sparse\n",
        "from sklearn.metrics import mean_squared_error\n",
        "import math\n",
        "import matplotlib.pyplot as plt"
      ],
      "execution_count": 0,
      "outputs": []
    },
    {
      "cell_type": "markdown",
      "metadata": {
        "id": "6cmM3iPCxGD5",
        "colab_type": "text"
      },
      "source": [
        "## Data Loading and Preparation"
      ]
    },
    {
      "cell_type": "code",
      "metadata": {
        "id": "7sxUWgRXF8th",
        "colab_type": "code",
        "colab": {}
      },
      "source": [
        "data2 = pd.read_csv(\"/content/drive/My Drive/data1.csv\")"
      ],
      "execution_count": 0,
      "outputs": []
    },
    {
      "cell_type": "code",
      "metadata": {
        "id": "H9SjW_m0Uy00",
        "colab_type": "code",
        "colab": {}
      },
      "source": [
        "list_rmse = []"
      ],
      "execution_count": 0,
      "outputs": []
    },
    {
      "cell_type": "code",
      "metadata": {
        "id": "piid4whgAqVU",
        "colab_type": "code",
        "colab": {}
      },
      "source": [
        "user_counts_1 = data2[\"user_id\"].value_counts()\n",
        "active_users_1 = user_counts_1.loc[user_counts_1 >= 5].index.tolist()\n",
        "\n",
        "data2['isActive'] = data2.user_id.isin(active_users_1).astype(int)\n",
        "data2 = data2[data2.loc[:,'isActive'] == 1]\n",
        "data2 = data2.iloc[:,:36]"
      ],
      "execution_count": 0,
      "outputs": []
    },
    {
      "cell_type": "markdown",
      "metadata": {
        "id": "IBKBdkTdxTbx",
        "colab_type": "text"
      },
      "source": [
        "## Defining a function for Factorization machine with categories as embeddings "
      ]
    },
    {
      "cell_type": "code",
      "metadata": {
        "id": "B4Z_efKnhPeh",
        "colab_type": "code",
        "colab": {}
      },
      "source": [
        "def FM_E(data2):\n",
        "  \n",
        "  #Category Embedding\n",
        "  temp = data2.copy()\n",
        "  temp['categories'] = temp['categories'].apply(lambda x : x.split(\",\"))\n",
        "  cat_list = list(temp['categories'])\n",
        "  mlb = MultiLabelBinarizer()\n",
        "  temp1 = mlb.fit_transform(cat_list)\n",
        "  names = mlb.classes_\n",
        "  cat_df = pd.DataFrame(temp1,columns=names)\n",
        "  merged_2 = pd.concat([data2.reset_index(),cat_df],axis=1)\n",
        "\n",
        "  merged_2 = merged_2.drop(columns=['address',\n",
        "                                'state', \n",
        "                                'postal_code', \n",
        "                                'hours'])\n",
        "  data3 = merged_2.copy()\n",
        "  data3 = data3.drop(columns=['Unnamed: 0',\n",
        "  'name',\n",
        "  'city',\n",
        "  'yelping_since'])\n",
        "  data3.rename(columns = {'rating_x':'rating'}, inplace = True) \n",
        "\n",
        "  #Splitting test and train. Test set comprises of the users and the restaurants that the user rated last.\n",
        "  data_test = data3[data3.groupby('user_id')['date'].transform('max') == data3['date']]\n",
        "  data_train = pd.concat([data3, data_test]).drop_duplicates(keep=False)\n",
        "\n",
        "\n",
        "  #Preparing data for the FM model\n",
        "  y_train = np.squeeze(data_train[['rating']].to_numpy())\n",
        "  y_test =  np.squeeze(data_test[['rating']].to_numpy())\n",
        "\n",
        "  x_train = data_train.iloc[:,1:29]\n",
        "  x_train = x_train.drop(columns=['date','attributes','categories','yrs_elite','rating'])\n",
        "  x_train_final = x_train.to_dict('records')\n",
        "\n",
        "\n",
        "  x_train_rem  = data_train.iloc[:,29:]\n",
        "  x_train_rem_final = x_train_rem.to_numpy()\n",
        "  x_train_rem_final = sp.sparse.csr_matrix(x_train_rem_final)\n",
        "\n",
        "\n",
        "  x_test = data_test.iloc[:,1:29]\n",
        "  x_test = x_test.drop(columns=['date','attributes','categories','yrs_elite','rating'])\n",
        "  x_test_final = x_test.to_dict('records')\n",
        "\n",
        "\n",
        "  x_test_rem  = data_test.iloc[:,29:]\n",
        "  x_test_rem_final = x_test_rem.to_numpy()\n",
        "  x_test_rem_final = sp.sparse.csr_matrix(x_test_rem)\n",
        "\n",
        "  v = DictVectorizer()\n",
        "  X_train = v.fit_transform(x_train_final)\n",
        "  X_test = v.transform(x_test_final)\n",
        "\n",
        "  X_train_final = sp.sparse.hstack([X_train, x_train_rem_final])\n",
        "  X_test_final = sp.sparse.hstack([X_test, x_test_rem_final])\n",
        "\n",
        "  #Fitting the model and predicting\n",
        "  fm = pylibfm.FM(num_iter=10, task=\"regression\", learning_rate_schedule=\"optimal\")\n",
        "\n",
        "  fm.fit(normalize(sparse.csr_matrix(X_train_final)), y_train)\n",
        "\n",
        "  #Calculating the RMSE value\n",
        "  prediction = fm.predict(normalize(sparse.csr_matrix(X_test_final)))\n",
        "  list_rmse.append(mean_squared_error(y_test,preds))\n",
        "  print(\"FM MSE: %.4f\" % mean_squared_error(y_test,predcition))\n"
      ],
      "execution_count": 0,
      "outputs": []
    },
    {
      "cell_type": "markdown",
      "metadata": {
        "id": "elWNiKYnxWWY",
        "colab_type": "text"
      },
      "source": [
        "## Defining a function for Factorization machine with no embeddings"
      ]
    },
    {
      "cell_type": "code",
      "metadata": {
        "id": "-cgsQmsrYY1v",
        "colab_type": "code",
        "colab": {}
      },
      "source": [
        "def FM_NE(data1):\n",
        "  #Clean data\n",
        "  merged = data1\n",
        "  merged = merged.drop(columns=['address',\n",
        "                                'state', \n",
        "                                'postal_code', \n",
        "                                'hours'])\n",
        "\n",
        "  data3 = merged\n",
        "\n",
        "  data3 = data3.drop(columns=['name',\n",
        "  'city',\n",
        "  'yelping_since'])\n",
        "  data3.rename(columns = {'rating_x':'rating'}, inplace = True) \n",
        "\n",
        "  #Splitting test and train. Test set comprises of the users and the restaurants that the user rated last.\n",
        "  data_test = data3[data3.groupby('user_id')['date'].transform('max') == data3['date']]\n",
        "  data_train = pd.concat([data3, data_test]).drop_duplicates(keep=False)\n",
        "\n",
        "  \n",
        "  #Preparing data for the FM model\n",
        "  y_train = np.squeeze(data_train[['rating']].to_numpy())\n",
        "  y_test =  np.squeeze(data_test[['rating']].to_numpy())\n",
        "\n",
        "\n",
        "  x_train = data_train\n",
        "  x_train = x_train.drop(columns=['date','attributes','categories','yrs_elite','rating'])\n",
        "  x_train_final = x_train.to_dict('records')\n",
        "\n",
        "\n",
        "  x_test = data_test\n",
        "  x_test = x_test.drop(columns=['date','attributes','categories','yrs_elite','rating'])\n",
        "  x_test_final = x_test.to_dict('records')\n",
        "\n",
        "  v = DictVectorizer()\n",
        "  X_train = v.fit_transform(x_train_final)\n",
        "  X_test = v.transform(x_test_final)\n",
        "\n",
        "  \n",
        "  #Fitting the model and predicting\n",
        "  fm = pylibfm.FM(num_iter=10, task=\"regression\", learning_rate_schedule=\"optimal\")\n",
        "  fm.fit(normalize(sparse.csr_matrix(X_train)), y_train)\n",
        "\n",
        "  #Calculating the RMSE value\n",
        "  prediction = fm.predict(normalize(sparse.csr_matrix(X_test)))\n",
        "  list_rmse.append(mean_squared_error(y_test,preds))\n",
        "  print(\"FM MSE: %.4f\" % mean_squared_error(y_test,prediction))"
      ],
      "execution_count": 0,
      "outputs": []
    },
    {
      "cell_type": "markdown",
      "metadata": {
        "id": "rWs5jf_8gjwo",
        "colab_type": "text"
      },
      "source": [
        "## With category as embeddings:"
      ]
    },
    {
      "cell_type": "code",
      "metadata": {
        "id": "0LJlbJCdXe08",
        "colab_type": "code",
        "colab": {
          "base_uri": "https://localhost:8080/",
          "height": 408
        },
        "outputId": "26dcddfc-cf44-433b-a64f-2300e7f046a0"
      },
      "source": [
        "FM_E(data2)"
      ],
      "execution_count": 7,
      "outputs": [
        {
          "output_type": "stream",
          "text": [
            "Creating validation dataset of 0.01 of training for adaptive regularization\n",
            "-- Epoch 1\n",
            "Training MSE: 0.68428\n",
            "-- Epoch 2\n",
            "Training MSE: 0.71101\n",
            "-- Epoch 3\n",
            "Training MSE: 0.71038\n",
            "-- Epoch 4\n",
            "Training MSE: 0.71059\n",
            "-- Epoch 5\n",
            "Training MSE: 0.71007\n",
            "-- Epoch 6\n",
            "Training MSE: 0.70997\n",
            "-- Epoch 7\n",
            "Training MSE: 0.70952\n",
            "-- Epoch 8\n",
            "Training MSE: 0.71016\n",
            "-- Epoch 9\n",
            "Training MSE: 0.70949\n",
            "-- Epoch 10\n",
            "Training MSE: 0.71275\n",
            "FM MSE: 1.8470\n"
          ],
          "name": "stdout"
        }
      ]
    },
    {
      "cell_type": "markdown",
      "metadata": {
        "id": "pa3JoJ4ZY-nz",
        "colab_type": "text"
      },
      "source": [
        "## Without category as embeddings"
      ]
    },
    {
      "cell_type": "code",
      "metadata": {
        "id": "yF_2S6maa7tI",
        "colab_type": "code",
        "colab": {
          "base_uri": "https://localhost:8080/",
          "height": 408
        },
        "outputId": "baeefc73-ce53-4130-a0f1-a11c5fec27ae"
      },
      "source": [
        "FM_NE(data2)"
      ],
      "execution_count": 10,
      "outputs": [
        {
          "output_type": "stream",
          "text": [
            "Creating validation dataset of 0.01 of training for adaptive regularization\n",
            "-- Epoch 1\n",
            "Training MSE: 0.74014\n",
            "-- Epoch 2\n",
            "Training MSE: 0.73707\n",
            "-- Epoch 3\n",
            "Training MSE: 0.73566\n",
            "-- Epoch 4\n",
            "Training MSE: 0.73511\n",
            "-- Epoch 5\n",
            "Training MSE: 0.73429\n",
            "-- Epoch 6\n",
            "Training MSE: 0.73428\n",
            "-- Epoch 7\n",
            "Training MSE: 0.73418\n",
            "-- Epoch 8\n",
            "Training MSE: 0.73374\n",
            "-- Epoch 9\n",
            "Training MSE: 0.73391\n",
            "-- Epoch 10\n",
            "Training MSE: 0.73370\n",
            "FM MSE: 1.8344\n"
          ],
          "name": "stdout"
        }
      ]
    },
    {
      "cell_type": "markdown",
      "metadata": {
        "id": "waHZxMyZxdC7",
        "colab_type": "text"
      },
      "source": [
        "## Plot for Model Type vs RMSE"
      ]
    },
    {
      "cell_type": "code",
      "metadata": {
        "id": "xA4KUCZkldMf",
        "colab_type": "code",
        "colab": {}
      },
      "source": [
        "list_rmse = [1.8470,1.8344]\n",
        "names = [\"Category Embeddings\", \"No embeddings\", \"Baseline-Surprise\"]\n",
        "for i in range(len(list_rmse)):\n",
        "  list_rmse[i] = math.sqrt(list_rmse[i])\n",
        "type_1 = [\"Sample1\",\"Sample1\", \"Sample1\"]\n",
        "list_rmse.append(1.352)"
      ],
      "execution_count": 0,
      "outputs": []
    },
    {
      "cell_type": "code",
      "metadata": {
        "id": "EOHQT52dlfD8",
        "colab_type": "code",
        "colab": {}
      },
      "source": [
        "df = pd.DataFrame(list(zip(names, list_rmse, type_1)), \n",
        "               columns =['Model type', 'RMSE', 'Sample Type'])"
      ],
      "execution_count": 0,
      "outputs": []
    },
    {
      "cell_type": "code",
      "metadata": {
        "id": "GwZUUq1KoGa7",
        "colab_type": "code",
        "colab": {
          "base_uri": "https://localhost:8080/",
          "height": 388
        },
        "outputId": "9fe1e30b-a48c-462d-e30f-472854bb1853"
      },
      "source": [
        "plt.bar(df['Model type'], df['RMSE'], align='center', alpha=0.5)\n",
        "plt.xlabel('Model Type')\n",
        "plt.ylabel('RMSE')\n",
        "plt.ylim((1.3,1.40))\n",
        "plt.xticks(rotation=45)\n",
        "plt.title('Model Type vs RMSE')"
      ],
      "execution_count": 39,
      "outputs": [
        {
          "output_type": "execute_result",
          "data": {
            "text/plain": [
              "Text(0.5, 1.0, 'Model Type vs RMSE')"
            ]
          },
          "metadata": {
            "tags": []
          },
          "execution_count": 39
        },
        {
          "output_type": "display_data",
          "data": {
            "image/png": "[encoded data removed]",
            "text/plain": [
              "<Figure size 432x288 with 1 Axes>"
            ]
          },
          "metadata": {
            "tags": []
          }
        }
      ]
    }
  ]
}
